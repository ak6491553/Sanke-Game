{
 "cells": [
  {
   "cell_type": "code",
   "execution_count": 1,
   "id": "8d8212e9-92f0-4dfc-8fa3-47d2a2e46194",
   "metadata": {},
   "outputs": [
    {
     "name": "stdout",
     "output_type": "stream",
     "text": [
      "anand\n"
     ]
    }
   ],
   "source": [
    "print(\"anand\")"
   ]
  },
  {
   "cell_type": "markdown",
   "id": "c89e13dd-558d-4265-a12b-a4c76ec4a514",
   "metadata": {},
   "source": [
    "# comment"
   ]
  },
  {
   "cell_type": "code",
   "execution_count": 6,
   "id": "0c60ae21-44d2-438d-bd70-99a8647778e4",
   "metadata": {},
   "outputs": [
    {
     "name": "stdout",
     "output_type": "stream",
     "text": [
      "Something\n"
     ]
    }
   ],
   "source": [
    "'''This is\n",
    "a multiline\n",
    "comment'''\n",
    "print('Something')\n"
   ]
  },
  {
   "cell_type": "code",
   "execution_count": 8,
   "id": "0a2b16b7-2717-43a0-baf5-a1ae5de60e35",
   "metadata": {},
   "outputs": [
    {
     "name": "stdout",
     "output_type": "stream",
     "text": [
      "2\n"
     ]
    }
   ],
   "source": [
    "x = 2\n",
    "print(x)"
   ]
  },
  {
   "cell_type": "code",
   "execution_count": 12,
   "id": "e75fa197-c494-4c12-bd8d-1110f1b66839",
   "metadata": {},
   "outputs": [
    {
     "name": "stdout",
     "output_type": "stream",
     "text": [
      "My name is my family name  Anand\n"
     ]
    }
   ],
   "source": [
    "name = 'my family name  Anand'\n",
    "print('My name is',name)"
   ]
  },
  {
   "cell_type": "code",
   "execution_count": 14,
   "id": "fd37d5e9-6d7f-42ed-8774-d84da81b553f",
   "metadata": {},
   "outputs": [
    {
     "name": "stdout",
     "output_type": "stream",
     "text": [
      "6\n"
     ]
    }
   ],
   "source": [
    "x = 2\n",
    "y = 4\n",
    "print(x + y)"
   ]
  },
  {
   "cell_type": "code",
   "execution_count": 16,
   "id": "db5d2b45-6301-4292-a41d-2795a137ea82",
   "metadata": {},
   "outputs": [
    {
     "data": {
      "text/plain": [
       "6"
      ]
     },
     "execution_count": 16,
     "metadata": {},
     "output_type": "execute_result"
    }
   ],
   "source": [
    "(x + y)"
   ]
  },
  {
   "cell_type": "code",
   "execution_count": 22,
   "id": "93ea0366-6fc3-43dc-b369-0b275b8abea4",
   "metadata": {},
   "outputs": [
    {
     "name": "stdin",
     "output_type": "stream",
     "text": [
      "i love python yes\n"
     ]
    },
    {
     "name": "stdout",
     "output_type": "stream",
     "text": [
      "are you love python? yes\n"
     ]
    },
    {
     "data": {
      "text/plain": [
       "str"
      ]
     },
     "execution_count": 22,
     "metadata": {},
     "output_type": "execute_result"
    }
   ],
   "source": [
    "name = input('i love python')\n",
    "print('are you love python?' , name)\n",
    "type(name)"
   ]
  },
  {
   "cell_type": "code",
   "execution_count": 26,
   "id": "33091b6d-bd16-44c6-b943-c4f0f5af93e1",
   "metadata": {},
   "outputs": [
    {
     "name": "stdout",
     "output_type": "stream",
     "text": [
      "['3', 9, 'x', 3.14, 4]\n"
     ]
    },
    {
     "data": {
      "text/plain": [
       "list"
      ]
     },
     "execution_count": 26,
     "metadata": {},
     "output_type": "execute_result"
    }
   ],
   "source": [
    "list_example = ['3',9,'x',3.14,4]\n",
    "print(list_example)\n",
    "type(list_example)"
   ]
  },
  {
   "cell_type": "code",
   "execution_count": 30,
   "id": "9c5c0477-d0a9-4a35-8836-be223e829eac",
   "metadata": {},
   "outputs": [
    {
     "name": "stdout",
     "output_type": "stream",
     "text": [
      "(5, 11, 'hede')\n"
     ]
    },
    {
     "data": {
      "text/plain": [
       "tuple"
      ]
     },
     "execution_count": 30,
     "metadata": {},
     "output_type": "execute_result"
    }
   ],
   "source": [
    "tuple_example = (5,11,\"hede\")\n",
    "print(tuple_example)\n",
    "type(tuple_example)"
   ]
  },
  {
   "cell_type": "code",
   "execution_count": 32,
   "id": "61fbc9cf-b329-4d6d-a526-fc69ca97250c",
   "metadata": {},
   "outputs": [
    {
     "name": "stdout",
     "output_type": "stream",
     "text": [
      "range(0, 52, 7)\n"
     ]
    }
   ],
   "source": [
    "range_ex = range(0,52,7)\n",
    "print(range_ex)"
   ]
  },
  {
   "cell_type": "code",
   "execution_count": 34,
   "id": "e2eeaace-80c6-4c3d-8284-5261bf5bed50",
   "metadata": {},
   "outputs": [
    {
     "name": "stdout",
     "output_type": "stream",
     "text": [
      "8\n"
     ]
    }
   ],
   "source": [
    "print(len(range_ex))"
   ]
  },
  {
   "cell_type": "code",
   "execution_count": 38,
   "id": "ece25c3d-988e-4d63-8249-5de4d896d3f2",
   "metadata": {},
   "outputs": [
    {
     "data": {
      "text/plain": [
       "[0, 7, 14, 21, 28, 35, 42, 49]"
      ]
     },
     "execution_count": 38,
     "metadata": {},
     "output_type": "execute_result"
    }
   ],
   "source": [
    "list(range(0,52,7))"
   ]
  },
  {
   "cell_type": "code",
   "execution_count": 42,
   "id": "93f20711-f586-43e4-9674-f83983a07f48",
   "metadata": {},
   "outputs": [
    {
     "data": {
      "text/plain": [
       "range"
      ]
     },
     "execution_count": 42,
     "metadata": {},
     "output_type": "execute_result"
    }
   ],
   "source": [
    "type(range_ex)"
   ]
  },
  {
   "cell_type": "code",
   "execution_count": 44,
   "id": "c3dc6498-e529-46b3-99a0-6559b0d4422d",
   "metadata": {},
   "outputs": [
    {
     "data": {
      "text/plain": [
       "15"
      ]
     },
     "execution_count": 44,
     "metadata": {},
     "output_type": "execute_result"
    }
   ],
   "source": [
    "s = \"i love you jaan\"\n",
    "len(s)"
   ]
  },
  {
   "cell_type": "code",
   "execution_count": 56,
   "id": "5e0a9d86-c2c7-4586-8c44-a77a22697322",
   "metadata": {},
   "outputs": [
    {
     "name": "stdout",
     "output_type": "stream",
     "text": [
      "19\n"
     ]
    }
   ],
   "source": [
    "print(len(s[3:] + s[:7]))\n"
   ]
  },
  {
   "cell_type": "code",
   "execution_count": 60,
   "id": "f7f2f5a6-bc45-4bbc-a23c-af7bd81feb1a",
   "metadata": {},
   "outputs": [
    {
     "name": "stdout",
     "output_type": "stream",
     "text": [
      "{'one': 1, 'two': 2, 'three': 3}\n"
     ]
    },
    {
     "data": {
      "text/plain": [
       "dict"
      ]
     },
     "execution_count": 60,
     "metadata": {},
     "output_type": "execute_result"
    }
   ],
   "source": [
    "b = {'one': 1, 'two':2, 'three': 3}\n",
    "print(b)\n",
    "type(b)\n"
   ]
  },
  {
   "cell_type": "code",
   "execution_count": 64,
   "id": "4abbbe51-66aa-407d-bccf-1f0f730ef717",
   "metadata": {},
   "outputs": [
    {
     "data": {
      "text/plain": [
       "bool"
      ]
     },
     "execution_count": 64,
     "metadata": {},
     "output_type": "execute_result"
    }
   ],
   "source": [
    "boolean = False\n",
    "type(boolean)\n",
    "boolen = True\n",
    "type(boolean)"
   ]
  },
  {
   "cell_type": "code",
   "execution_count": 66,
   "id": "884bf973-17fa-432e-a213-786a202dbe38",
   "metadata": {},
   "outputs": [
    {
     "name": "stdout",
     "output_type": "stream",
     "text": [
      "{0, 1, 4, 5, 9}\n"
     ]
    }
   ],
   "source": [
    "set_of_number = {0,9,1,5,4}\n",
    "print(set_of_number)"
   ]
  },
  {
   "cell_type": "code",
   "execution_count": 76,
   "id": "21330511-6b85-4200-9d0f-04beb68b2be7",
   "metadata": {},
   "outputs": [
    {
     "name": "stdout",
     "output_type": "stream",
     "text": [
      "[' ', 's', 'n', 'y', 'a', 'h', 'm', 'e', 'k', 'i']\n"
     ]
    }
   ],
   "source": [
    "names = (\"my name is khan\")\n",
    "names_set = set(names)\n",
    "\n",
    "unique_name = list(names_set)\n",
    "\n",
    "print(unique_name)"
   ]
  },
  {
   "cell_type": "code",
   "execution_count": 3,
   "id": "436db0d8-ff41-40fa-814c-3ac6df5aea08",
   "metadata": {},
   "outputs": [],
   "source": [
    "class Person:\n",
    "    def say_hi(self):\n",
    "        print(\"hi\")\n",
    "\n",
    "    def say_hay(self):\n",
    "        print('bye')"
   ]
  },
  {
   "cell_type": "code",
   "execution_count": 7,
   "id": "a5622a13-5e5c-47a4-b45c-23f78d798ffb",
   "metadata": {},
   "outputs": [],
   "source": [
    "k = Person()"
   ]
  },
  {
   "cell_type": "code",
   "execution_count": 9,
   "id": "30638ea3-7f42-4b4a-84d2-b5d1c869eb3a",
   "metadata": {},
   "outputs": [
    {
     "name": "stdout",
     "output_type": "stream",
     "text": [
      "hi\n"
     ]
    }
   ],
   "source": [
    "k.say_hi()"
   ]
  },
  {
   "cell_type": "code",
   "execution_count": 15,
   "id": "60687be5-04d1-4c0f-b8d9-2cd5875726d3",
   "metadata": {},
   "outputs": [
    {
     "name": "stdout",
     "output_type": "stream",
     "text": [
      "bye\n"
     ]
    }
   ],
   "source": [
    "k.say_hay()"
   ]
  },
  {
   "cell_type": "code",
   "execution_count": 17,
   "id": "df41803a-5624-44f7-8dab-1978a53586a7",
   "metadata": {},
   "outputs": [],
   "source": [
    "class Anand:\n",
    "    def kumar_A(self):\n",
    "        print('i love you ?')\n",
    "\n",
    "    def KUMAR_a(self):\n",
    "        print('do not love you')\n",
    "        "
   ]
  },
  {
   "cell_type": "code",
   "execution_count": 19,
   "id": "24c9253a-f191-4a2d-924b-5f38b164ad9d",
   "metadata": {},
   "outputs": [],
   "source": [
    "k = Anand()"
   ]
  },
  {
   "cell_type": "code",
   "execution_count": 21,
   "id": "72c2fa5f-9d7c-4971-9124-c5792c134638",
   "metadata": {},
   "outputs": [
    {
     "name": "stdout",
     "output_type": "stream",
     "text": [
      "i love you ?\n"
     ]
    }
   ],
   "source": [
    "k.kumar_A()"
   ]
  },
  {
   "cell_type": "code",
   "execution_count": 23,
   "id": "8d25b0dd-1921-425c-a72f-da6f385aa8ac",
   "metadata": {},
   "outputs": [
    {
     "name": "stdout",
     "output_type": "stream",
     "text": [
      "i love you ?\n"
     ]
    }
   ],
   "source": [
    "k.kumar_A()"
   ]
  },
  {
   "cell_type": "code",
   "execution_count": 25,
   "id": "ae78347a-ec6d-4e92-8089-c612063e561b",
   "metadata": {},
   "outputs": [
    {
     "data": {
      "text/plain": [
       "<bound method Anand.kumar_A of <__main__.Anand object at 0x000001492566A600>>"
      ]
     },
     "execution_count": 25,
     "metadata": {},
     "output_type": "execute_result"
    }
   ],
   "source": [
    "k.kumar_A"
   ]
  },
  {
   "cell_type": "code",
   "execution_count": 63,
   "id": "739c648c-89d2-4503-ab53-2bd915c779e7",
   "metadata": {},
   "outputs": [],
   "source": [
    "class Person:\n",
    "    def __init__(self,name,age):\n",
    "        self.name = name\n",
    "        self.age = age\n",
    "        print('this is my name and age .')\n",
    "\n",
    "    def intro(self):\n",
    "        return F'name : {self.name} age : {self.age}'"
   ]
  },
  {
   "cell_type": "code",
   "execution_count": 76,
   "id": "ef6df9bf-ae40-400f-84e2-8febe61bdbae",
   "metadata": {},
   "outputs": [
    {
     "name": "stdout",
     "output_type": "stream",
     "text": [
      "this is my name and age .\n"
     ]
    }
   ],
   "source": [
    "p = Person('Anand',25)"
   ]
  },
  {
   "cell_type": "code",
   "execution_count": 72,
   "id": "d8aac806-e3ee-42ad-88db-466b63e7c43a",
   "metadata": {},
   "outputs": [
    {
     "data": {
      "text/plain": [
       "'Anand'"
      ]
     },
     "execution_count": 72,
     "metadata": {},
     "output_type": "execute_result"
    }
   ],
   "source": [
    "p.name"
   ]
  },
  {
   "cell_type": "code",
   "execution_count": 70,
   "id": "b35c5461-e40b-4b53-9db9-935dd1def288",
   "metadata": {},
   "outputs": [
    {
     "data": {
      "text/plain": [
       "25"
      ]
     },
     "execution_count": 70,
     "metadata": {},
     "output_type": "execute_result"
    }
   ],
   "source": [
    "p.age"
   ]
  },
  {
   "cell_type": "code",
   "execution_count": 78,
   "id": "7fd0a1f1-8898-4d37-8484-e3127b751732",
   "metadata": {},
   "outputs": [],
   "source": [
    "class AAJA:\n",
    "    def nhi_aaraha(self):\n",
    "        print('lyo nhi aa raha hai?')\n",
    "\n",
    "    def anan_padega(self):\n",
    "        print('kyo nhi aaoge.')\n",
    "        "
   ]
  },
  {
   "cell_type": "code",
   "execution_count": 82,
   "id": "3f52207e-534e-4e9a-b1c7-d304c0fedffb",
   "metadata": {},
   "outputs": [],
   "source": [
    "g = AAJA()"
   ]
  },
  {
   "cell_type": "code",
   "execution_count": 84,
   "id": "f311eb2c-4315-4590-8458-533b8b6647a4",
   "metadata": {},
   "outputs": [
    {
     "name": "stdout",
     "output_type": "stream",
     "text": [
      "kyo nhi aaoge.\n"
     ]
    }
   ],
   "source": [
    "g.anan_padega()"
   ]
  },
  {
   "cell_type": "code",
   "execution_count": 86,
   "id": "f72c09f1-7d59-42bb-8ef9-eb086eb38c4b",
   "metadata": {},
   "outputs": [
    {
     "name": "stdout",
     "output_type": "stream",
     "text": [
      "lyo nhi aa raha hai?\n"
     ]
    }
   ],
   "source": [
    "g.nhi_aaraha()"
   ]
  },
  {
   "cell_type": "code",
   "execution_count": 94,
   "id": "a7cbdeb6-09d1-4225-8ce5-6ca2d207c3b2",
   "metadata": {},
   "outputs": [],
   "source": [
    "class BANK:\n",
    "    def __init__(self,viewbalance,passbook):\n",
    "        self.viewbalance = viewbalance\n",
    "        self.passbook = passbook\n",
    "\n",
    "    def intro(self):\n",
    "        print (f'viewbalance : {self.viewbalance} passbook : {self.passbook}')\n",
    "        "
   ]
  },
  {
   "cell_type": "code",
   "execution_count": 96,
   "id": "41b563c3-c2d5-457a-93ba-20fcb40b90e1",
   "metadata": {},
   "outputs": [],
   "source": [
    "B = BANK('STATUS',34211)"
   ]
  },
  {
   "cell_type": "code",
   "execution_count": 98,
   "id": "4736e173-ffce-4751-9de8-f020c115a391",
   "metadata": {},
   "outputs": [
    {
     "data": {
      "text/plain": [
       "'STATUS'"
      ]
     },
     "execution_count": 98,
     "metadata": {},
     "output_type": "execute_result"
    }
   ],
   "source": [
    "B.viewbalance"
   ]
  },
  {
   "cell_type": "code",
   "execution_count": 100,
   "id": "2d941775-8bc4-4eec-8c64-eead078feab4",
   "metadata": {},
   "outputs": [
    {
     "data": {
      "text/plain": [
       "34211"
      ]
     },
     "execution_count": 100,
     "metadata": {},
     "output_type": "execute_result"
    }
   ],
   "source": [
    "B.passbook"
   ]
  },
  {
   "cell_type": "code",
   "execution_count": 102,
   "id": "2feb2724-ae91-40e5-a89f-c8fcba1a6541",
   "metadata": {},
   "outputs": [
    {
     "data": {
      "text/plain": [
       "<bound method BANK.intro of <__main__.BANK object at 0x00000149286D1A30>>"
      ]
     },
     "execution_count": 102,
     "metadata": {},
     "output_type": "execute_result"
    }
   ],
   "source": [
    "B.intro"
   ]
  },
  {
   "cell_type": "code",
   "execution_count": 110,
   "id": "47364681-a999-4c08-aa27-b1cc8eca5560",
   "metadata": {},
   "outputs": [
    {
     "name": "stdout",
     "output_type": "stream",
     "text": [
      "anandkumarak\n",
      "akanandkumar\n"
     ]
    }
   ],
   "source": [
    "class Person:\n",
    "    def __init__(self,name):\n",
    "        self.__name = name\n",
    "\n",
    "    def get_name(self):\n",
    "        return self.__name\n",
    "\n",
    "    def set__name(self,name):\n",
    "        self.__name = name\n",
    "l = Person('anandkumarak')\n",
    "print(l.get_name())\n",
    "l.set__name('akanandkumar')\n",
    "print(l.get_name())"
   ]
  },
  {
   "cell_type": "markdown",
   "id": "84c4656d-1213-40ca-932c-13b22afa6623",
   "metadata": {},
   "source": [
    "# 54 LAB 'A'"
   ]
  },
  {
   "cell_type": "code",
   "execution_count": 187,
   "id": "65321066-7123-4394-85a9-9a28aec95423",
   "metadata": {},
   "outputs": [],
   "source": [
    "class Employee:\n",
    "    def __init__(self,name,employee_id,salary):\n",
    "        self.name = name\n",
    "        self.employee_id = employee_id\n",
    "        self.salary = salary\n",
    "\n",
    "\n",
    "    def display_details(self):\n",
    "        return f'Name : {self.name} Employee_id : {self.employee_id} Salary : {self.salary}'"
   ]
  },
  {
   "cell_type": "code",
   "execution_count": 231,
   "id": "d6dab8f8-65fc-48c7-a94f-e7ae60ae5bb9",
   "metadata": {},
   "outputs": [],
   "source": [
    "employee = Employee('Employee1','E001',50000)"
   ]
  },
  {
   "cell_type": "code",
   "execution_count": 233,
   "id": "164d345f-953d-4317-8f67-8a82992bd5ea",
   "metadata": {},
   "outputs": [
    {
     "data": {
      "text/plain": [
       "'Name : Employee1 Employee_id : E001 Salary : 50000'"
      ]
     },
     "execution_count": 233,
     "metadata": {},
     "output_type": "execute_result"
    }
   ],
   "source": [
    "employee.display_details()"
   ]
  },
  {
   "cell_type": "code",
   "execution_count": 309,
   "id": "2e49f513-c300-4650-b6bd-8855c7e6621b",
   "metadata": {},
   "outputs": [],
   "source": [
    "class Manager(Employee):\n",
    "    def __init__(self,name,employee_id,salary,team_size):\n",
    "        super().__init__(name,employee_id,salary)\n",
    "        self.team_size = team_size\n",
    "\n",
    "    def display_details(self):\n",
    "        employee_details = super().display_details()\n",
    "        return f\"employee_details : {employee_details} Team_size : {self.team_size}\"\n",
    "        "
   ]
  },
  {
   "cell_type": "code",
   "execution_count": 311,
   "id": "81717e5b-6630-46e0-8f59-03764d92806f",
   "metadata": {},
   "outputs": [],
   "source": [
    "manager = Manager(\"Manager\",\"M420\",80000,10)"
   ]
  },
  {
   "cell_type": "code",
   "execution_count": 313,
   "id": "c5565b32-1f5e-498f-89ab-f4f20b071243",
   "metadata": {},
   "outputs": [
    {
     "data": {
      "text/plain": [
       "'employee_details : Name : Manager Employee_id : M420 Salary : 80000 Team_size : 10'"
      ]
     },
     "execution_count": 313,
     "metadata": {},
     "output_type": "execute_result"
    }
   ],
   "source": [
    "manager.display_details()"
   ]
  },
  {
   "cell_type": "code",
   "execution_count": 317,
   "id": "93b24f92-f318-4abe-af48-3898810b3e75",
   "metadata": {},
   "outputs": [
    {
     "name": "stdout",
     "output_type": "stream",
     "text": [
      "Employee Details:\n",
      "Name : Employee1 Employee_id : E001 Salary : 50000\n",
      "\n",
      "Manager Details:\n",
      "employee_details : Name : Manager Employee_id : M420 Salary : 80000 Team_size : 10\n"
     ]
    }
   ],
   "source": [
    "if __name__== \"__main__\":\n",
    "    employee = Employee(\"Employee1\",\"E001\",50000)\n",
    "    manager = Manager(\"Manager\",\"M420\",80000,10)\n",
    "    print(\"Employee Details:\")\n",
    "    print(employee.display_details())\n",
    "    print(\"\\nManager Details:\")\n",
    "    print(manager.display_details())"
   ]
  },
  {
   "cell_type": "markdown",
   "id": "ba3c4b22-9ddb-4ec3-a5c8-cbb2db2529d0",
   "metadata": {},
   "source": [
    "# LAB 'B'"
   ]
  },
  {
   "cell_type": "code",
   "execution_count": 332,
   "id": "20d16de4-7332-4d4a-aa4e-81244331006f",
   "metadata": {},
   "outputs": [],
   "source": [
    "class Person:\n",
    "    def __init__(self,name):\n",
    "        self.name = name\n",
    "\n",
    "    def greet(self):\n",
    "        return f\"Hello. i'm {self.name}\"\n",
    "        "
   ]
  },
  {
   "cell_type": "code",
   "execution_count": 324,
   "id": "d3c33de8-f6fc-4fc9-ba83-5cba25613ffb",
   "metadata": {},
   "outputs": [],
   "source": [
    "class Employee:\n",
    "    def __init__(self,employee_id):\n",
    "        self.employee_id = employee_id\n",
    "   \n",
    "    def get_employee_id(self):\n",
    "        return self.employee_id\n"
   ]
  },
  {
   "cell_type": "code",
   "execution_count": 338,
   "id": "c4849a5b-60b5-4c87-aac3-a15b8156b11d",
   "metadata": {},
   "outputs": [],
   "source": [
    "class Manager(Person, Employee):\n",
    "    def __init__(self, name, employee_id):\n",
    "        Person.__init__(self, name)\n",
    "        Employee.__init__(self, employee_id)\n",
    "        "
   ]
  },
  {
   "cell_type": "code",
   "execution_count": 340,
   "id": "e4dfb46f-1f78-4643-8802-d2eec4797010",
   "metadata": {},
   "outputs": [
    {
     "name": "stdout",
     "output_type": "stream",
     "text": [
      "Hello. i'm Anand\n",
      "Employee ID: E12354\n"
     ]
    }
   ],
   "source": [
    "if __name__==\"__main__\":\n",
    "    manager = Manager(\"Anand\", \"E12354\")\n",
    "    print(manager.greet())\n",
    "    print(f\"Employee ID: {manager.get_employee_id()}\")"
   ]
  },
  {
   "cell_type": "markdown",
   "id": "53718e5a-f167-4416-aec0-53d29f56d055",
   "metadata": {},
   "source": [
    "# LAB 'C'"
   ]
  },
  {
   "cell_type": "code",
   "execution_count": 27,
   "id": "248546cf-74b5-47ec-9d21-813fff6b4b0b",
   "metadata": {},
   "outputs": [],
   "source": [
    "class Person:\n",
    "     def __init__(self,name, age):\n",
    "         self.name = name\n",
    "         self.age = age\n",
    "\n",
    "     def display_personal_details(self):\n",
    "         return f\"Name: {self.name}, Age: {self.age}\"\n",
    "\n",
    "\n"
   ]
  },
  {
   "cell_type": "code",
   "execution_count": 29,
   "id": "2a4e7f4e-2a70-4c1e-99d2-022a0151fd1b",
   "metadata": {},
   "outputs": [],
   "source": [
    "class Employee(Person):\n",
    "    def __init__(self, name, age, employee_id, salary):\n",
    "        super().__init__(name, age)\n",
    "        self.employee_id = employee_id \n",
    "        self.salary = salary\n",
    "\n",
    "    def display_employee_details(self):\n",
    "        personal_details = self.display_personal_details()\n",
    "        return f\"{personal_details}, Employee ID : {self.employee_id}, Salary: ₹{self.salary:.2f}\"\n",
    "\n"
   ]
  },
  {
   "cell_type": "code",
   "execution_count": 43,
   "id": "05504ff0-b0c9-4c2c-89c9-fae38da7667c",
   "metadata": {},
   "outputs": [],
   "source": [
    "class Manager(Employee):\n",
    "     def __init__(self, name, age, employee_id, salary, department, team_size):\n",
    "        super().__init__(name, age, employee_id, salary)\n",
    "        self.department = department \n",
    "        self.team_size = team_size\n",
    "\n",
    "     def display_manager_details(self):\n",
    "         employee_details = self.display_employee_details()\n",
    "         return f\"{employee_details}, Department: {self.department}, Team size: {self.team_size}\""
   ]
  },
  {
   "cell_type": "code",
   "execution_count": 45,
   "id": "4ffbc673-5774-43f5-ae28-3bdcf70d9dfc",
   "metadata": {},
   "outputs": [
    {
     "name": "stdout",
     "output_type": "stream",
     "text": [
      "Manager Details:\n",
      "Name: Anand, Age: 45, Employee ID : M12345, Salary: ₹56200.00, Department: sales, Team size: 40\n"
     ]
    }
   ],
   "source": [
    "if __name__==\"__main__\":\n",
    "    \n",
    "   manager = Manager(\"Anand\", 45, \"M12345\", 56200, \"sales\", 40)\n",
    "   print(\"Manager Details:\")\n",
    "   print(manager.display_manager_details())\n"
   ]
  },
  {
   "cell_type": "markdown",
   "id": "ba7a9f21-785a-4510-b2c8-59315982d413",
   "metadata": {},
   "source": [
    "# LAB 'D'"
   ]
  },
  {
   "cell_type": "code",
   "execution_count": 48,
   "id": "eaa866ea-888d-435a-937b-44124ffb5a78",
   "metadata": {},
   "outputs": [],
   "source": [
    "class Person:\n",
    "    def __init__(self, name, age):\n",
    "        self.name = name\n",
    "        self.age = age\n",
    "\n",
    "    def display_personal_details(self):\n",
    "        return f\"Name : {self.name} Age : {self.age}\""
   ]
  },
  {
   "cell_type": "code",
   "execution_count": 50,
   "id": "ac88d347-fd3b-4951-ae92-dde0ca11a2ce",
   "metadata": {},
   "outputs": [],
   "source": [
    "class Employee(Person):\n",
    "    def __init__(self, name, age, employee_id, salary):\n",
    "        super().__init__(name, age)\n",
    "        self.employee_id = employee_id\n",
    "        self.salary = salary\n",
    "\n",
    "    def display_employee_details(self):\n",
    "        personal_details = self.display_personal_details()\n",
    "        return f\"{personal_details}, Employee ID: {self.employee_id},Salary: ₹{self.salary:.2f}\""
   ]
  },
  {
   "cell_type": "code",
   "execution_count": 52,
   "id": "aca7f1a5-77b4-41e4-8590-6b739fd31cdf",
   "metadata": {},
   "outputs": [],
   "source": [
    "class Manager(Person):\n",
    "    def __init__(self, name, age, department, team_size):\n",
    "        super().__init__(name, age)\n",
    "        self.department = department\n",
    "        self.team_size = team_size\n",
    "\n",
    "    def display_manager_details(self):\n",
    "        personal_details = self.display_personal_details()\n",
    "        return f\"{personal_details}, Department: {self.department}, Team Size: {self.team_size}\""
   ]
  },
  {
   "cell_type": "code",
   "execution_count": 54,
   "id": "a61fe270-1c54-4490-9514-93821fbfe664",
   "metadata": {},
   "outputs": [
    {
     "name": "stdout",
     "output_type": "stream",
     "text": [
      "Employee Details;\n",
      "Name : Employee1 Age : 30, Employee ID: E12345,Salary: ₹50000.00\n",
      "\n",
      "Manager details:\n",
      "Name : Amanager Age : 40, Department: sales, Team Size: 12\n"
     ]
    }
   ],
   "source": [
    "if __name__ == \"__main__\":\n",
    "    employee = Employee(\"Employee1\", 30, \"E12345\", 50000)\n",
    "    manager = Manager(\"Amanager\", 40, \"sales\", 12)\n",
    "    print(\"Employee Details;\")\n",
    "    print(employee.display_employee_details())\n",
    "    print(\"\\nManager details:\")\n",
    "    print(manager.display_manager_details())"
   ]
  },
  {
   "cell_type": "markdown",
   "id": "9702ce11-19f6-4fc4-8501-dfc69fc2befa",
   "metadata": {},
   "source": [
    "# LAB '53'"
   ]
  },
  {
   "cell_type": "code",
   "execution_count": 4,
   "id": "f65820d5-c3b2-49d2-9dfc-b44835532fab",
   "metadata": {},
   "outputs": [],
   "source": [
    "from abc import ABC, abstractmethod\n",
    "\n",
    "class BillingRecord(ABC):\n",
    "    @abstractmethod\n",
    "    def get_bill(self):\n",
    "\n",
    "        pass\n",
    "\n",
    "    @abstractmethod\n",
    "    def update_bill(self, amount):\n",
    "\n",
    "        pass"
   ]
  },
  {
   "cell_type": "code",
   "execution_count": 23,
   "id": "42b2b22f-7f57-43c5-80dc-6e097fdaadb3",
   "metadata": {},
   "outputs": [],
   "source": [
    "class PatientBilling(BillingRecord):\n",
    "    def __init__(self, patient_id, patient_name, billing_amount=0):\n",
    "        self.patient_id = patient_id\n",
    "        self.patient_name = patient_name\n",
    "        self.billing_amount = billing_amount\n",
    "\n",
    "    def get_bill(self):\n",
    "        return{\n",
    "            'Patient ID': self.patient_id,\n",
    "            'patient_name': self.patient_name,\n",
    "            'billing_amount':f\"₹{self.billing_amount:.2f}\"\n",
    "        }\n",
    "    def update_bill(self,amount):\n",
    "        if amount > 0:\n",
    "            self.billing_amount += amount\n",
    "            print(f\"Billing amount update by ₹{amount:.2f}. New amount is ₹{self.billing_amount:.2f}\")\n",
    "        else:\n",
    "            print(\"Amount to update must be positive.\")\n",
    "            "
   ]
  },
  {
   "cell_type": "code",
   "execution_count": 25,
   "id": "29786aae-45ac-4d48-bb14-3c4424f63ac8",
   "metadata": {},
   "outputs": [
    {
     "name": "stdout",
     "output_type": "stream",
     "text": [
      "Initial Bill Details:\n",
      "{'Patient ID': 'P001', 'patient_name': 'Anand', 'billing_amount': '₹150.00'}\n",
      "Billing amount update by ₹50.00. New amount is ₹200.00\n",
      "\n",
      "Updated Bill Details:\n",
      "{'Patient ID': 'P001', 'patient_name': 'Anand', 'billing_amount': '₹200.00'}\n"
     ]
    }
   ],
   "source": [
    "if __name__ == \"__main__\":\n",
    "    patient_bill = PatientBilling(\n",
    "        patient_id=\"P001\",\n",
    "        patient_name=\"Anand\",\n",
    "        billing_amount=150.00\n",
    "    )\n",
    "    print(\"Initial Bill Details:\")\n",
    "    print(patient_bill.get_bill())\n",
    "    patient_bill.update_bill(50.00)\n",
    "    print(\"\\nUpdated Bill Details:\")\n",
    "    print(patient_bill.get_bill())"
   ]
  },
  {
   "cell_type": "markdown",
   "id": "247f5b0e-a1a2-4d85-acc4-159b6b8a9fd2",
   "metadata": {},
   "source": [
    "# LAB '51'"
   ]
  },
  {
   "cell_type": "code",
   "execution_count": 116,
   "id": "2006ea35-d588-4f84-8ccb-6c049696ff70",
   "metadata": {},
   "outputs": [],
   "source": [
    "class BankAccount:\n",
    "    def __init__(self, Account_number, holder_name, initial_balance=0):\n",
    "        self.Account_number = Account_number\n",
    "        self.holder_name = holder_name\n",
    "        self.balance = initial_balance  # Use 'self.balance' for consistency\n",
    "\n",
    "    def deposit(self, amount):\n",
    "        if amount > 0:\n",
    "            self.balance += amount\n",
    "            print(f\"Deposited ₹{amount:.2f}. New balance is ₹{self.balance:.2f}.\")\n",
    "        else:\n",
    "            print(\"Deposit amount must be positive.\")\n",
    "\n",
    "    def withdraw(self, amount):\n",
    "        if 0 < amount <= self.balance:\n",
    "            self.balance -= amount\n",
    "            print(f\"Withdrew ₹{amount:.2f}. New balance is ₹{self.balance:.2f}.\")\n",
    "        else:\n",
    "            print(\"Insufficient funds or invalid amount.\")\n",
    "\n",
    "    def get_balance(self):\n",
    "        return self.balance\n",
    "        "
   ]
  },
  {
   "cell_type": "code",
   "execution_count": 118,
   "id": "2113cd6e-0a46-4288-8350-fccbb400e22a",
   "metadata": {},
   "outputs": [
    {
     "name": "stdout",
     "output_type": "stream",
     "text": [
      "Deposited ₹500.00. New balance is ₹10500.00.\n"
     ]
    }
   ],
   "source": [
    "if __name__ == \"__main__\":\n",
    "    account = BankAccount(\"65941454\", \"anand\", 10000)\n",
    "    account.deposit(500)\n",
    "    "
   ]
  },
  {
   "cell_type": "code",
   "execution_count": 120,
   "id": "9d38bebc-ece7-469b-a1f7-6e24bd2b8f92",
   "metadata": {},
   "outputs": [
    {
     "name": "stdout",
     "output_type": "stream",
     "text": [
      "Withdrew ₹1000.00. New balance is ₹9500.00.\n"
     ]
    }
   ],
   "source": [
    "account.withdraw(1000)"
   ]
  },
  {
   "cell_type": "code",
   "execution_count": 124,
   "id": "0b7ffd60-b79d-4f31-95c0-2dfa1efb967f",
   "metadata": {},
   "outputs": [
    {
     "data": {
      "text/plain": [
       "9500"
      ]
     },
     "execution_count": 124,
     "metadata": {},
     "output_type": "execute_result"
    }
   ],
   "source": [
    "account.get_balance()"
   ]
  },
  {
   "cell_type": "code",
   "execution_count": 130,
   "id": "08aeb468-dae1-4862-ae47-79c3ae57a69e",
   "metadata": {},
   "outputs": [
    {
     "name": "stdout",
     "output_type": "stream",
     "text": [
      "final balance: ₹9500\n"
     ]
    }
   ],
   "source": [
    "print(f\"final balance: ₹{account.get_balance()}\")"
   ]
  },
  {
   "cell_type": "markdown",
   "id": "347b0855-9711-4889-a879-bf0d0f26ab64",
   "metadata": {},
   "source": [
    "# LAB '52'\n"
   ]
  },
  {
   "cell_type": "code",
   "execution_count": 144,
   "id": "f2465d26-3252-482e-a217-29c219732d88",
   "metadata": {},
   "outputs": [
    {
     "name": "stdout",
     "output_type": "stream",
     "text": [
      "Account Details: {'Account Number': 12345678, 'Holder Name': 'Anand Kumar', 'Balance': 1000}\n",
      "₹500.00 deposited successfully. New balance: ₹1500.00.\n",
      "₹200.00 withdrawn successfully. New balance: ₹1300.00.\n",
      "Current Balance: ₹1300.00\n",
      "Account holder name updated successfully.\n",
      "Updated Account Details: {'Account Number': 12345678, 'Holder Name': 'Anand K.', 'Balance': 1300}\n"
     ]
    }
   ],
   "source": [
    "class BankAccount:\n",
    "    def __init__(self, account_number, holder_name, initial_balance=0):\n",
    "        self.__account_number = account_number\n",
    "        self.__holder_name = holder_name\n",
    "        self.__balance = initial_balance\n",
    "        \n",
    "    def deposit(self, amount):\n",
    "        if amount > 0:\n",
    "            self.__balance += amount\n",
    "            print(f\"₹{amount:.2f} deposited successfully. New balance: ₹{self.__balance:.2f}.\")\n",
    "        else:\n",
    "            print(\"Deposit amount must be positive.\")\n",
    "\n",
    "    def withdraw(self, amount):\n",
    "        if 0 < amount <= self.__balance:\n",
    "            self.__balance -= amount\n",
    "            print(f\"₹{amount:.2f} withdrawn successfully. New balance: ₹{self.__balance:.2f}.\")\n",
    "        else:\n",
    "            print(\"Insufficient funds or invalid withdrawal amount.\")\n",
    "\n",
    "    def get_balance(self):\n",
    "        return self.__balance\n",
    "\n",
    "    def get_account_details(self):\n",
    "        return {\n",
    "            \"Account Number\": self.__account_number,\n",
    "            \"Holder Name\": self.__holder_name,\n",
    "            \"Balance\": self.__balance,\n",
    "        }\n",
    "\n",
    "    def update_holder_name(self, new_name):\n",
    "        if new_name.strip():\n",
    "            self.__holder_name = new_name.strip()\n",
    "            print(\"Account holder name updated successfully.\")\n",
    "        else:\n",
    "            print(\"Invalid name. Please try again.\")\n",
    "\n",
    "if __name__ == \"__main__\":\n",
    "    account = BankAccount(account_number=12345678, holder_name=\"Anand Kumar\", initial_balance=1000)\n",
    "\n",
    "    details = account.get_account_details()\n",
    "    print(f\"Account Details: {details}\")\n",
    "\n",
    "    account.deposit(500)     \n",
    "    account.withdraw(200)     \n",
    "    print(f\"Current Balance: ₹{account.get_balance():.2f}\") \n",
    "\n",
    "   \n",
    "    account.update_holder_name(\"Anand K.\") \n",
    "    print(f\"Updated Account Details: {account.get_account_details()}\")\n"
   ]
  },
  {
   "cell_type": "code",
   "execution_count": 1,
   "id": "282593aa-ddd9-40d8-9ae9-6543d9c4da9d",
   "metadata": {},
   "outputs": [
    {
     "name": "stdout",
     "output_type": "stream",
     "text": [
      "0\n"
     ]
    }
   ],
   "source": [
    "result = 1 // 2\n",
    "print(result)  # Output: 0\n"
   ]
  },
  {
   "cell_type": "code",
   "execution_count": 3,
   "id": "e6345ee9-cdfc-432e-8674-05e63924ebcd",
   "metadata": {},
   "outputs": [
    {
     "ename": "SyntaxError",
     "evalue": "positional argument follows keyword argument (3309682651.py, line 5)",
     "output_type": "error",
     "traceback": [
      "\u001b[1;36m  Cell \u001b[1;32mIn[3], line 5\u001b[1;36m\u001b[0m\n\u001b[1;33m    print(raise_power(exponent=3, 2))\u001b[0m\n\u001b[1;37m                                   ^\u001b[0m\n\u001b[1;31mSyntaxError\u001b[0m\u001b[1;31m:\u001b[0m positional argument follows keyword argument\n"
     ]
    }
   ],
   "source": [
    "def raise_power(base, exponent):\n",
    "    return base ** exponent\n",
    "\n",
    "\n",
    "print(raise_power(exponent=3, 2))\n",
    "\n"
   ]
  },
  {
   "cell_type": "code",
   "execution_count": 7,
   "id": "c2906da7-df16-404a-8b1a-229ad83e6478",
   "metadata": {},
   "outputs": [],
   "source": [
    "z = 0\n",
    "y = 10\n",
    "x = y < z and z > y or y < z and z < y\n",
    "\n"
   ]
  },
  {
   "cell_type": "code",
   "execution_count": 9,
   "id": "4158844d-110e-416a-88ea-d445f45f5454",
   "metadata": {},
   "outputs": [
    {
     "name": "stdout",
     "output_type": "stream",
     "text": [
      "[0, 3, 9, 12]\n"
     ]
    }
   ],
   "source": [
    "my_values = [3 * i for i in range(5)]\n",
    "\n",
    "\n",
    "def modify_list(values):\n",
    "    del values[values[2] // 3]\n",
    "    return values\n",
    "\n",
    "\n",
    "print(modify_list(my_values))\n",
    "\n"
   ]
  },
  {
   "cell_type": "code",
   "execution_count": 11,
   "id": "75ed048b-5c3f-4b72-a84f-4e1fcaa5c342",
   "metadata": {},
   "outputs": [
    {
     "name": "stdout",
     "output_type": "stream",
     "text": [
      "1 1 2\n"
     ]
    }
   ],
   "source": [
    "x = 1\n",
    "y = 2\n",
    "x, y, z = x, x, y\n",
    "z, y, z = x, y, z\n",
    "\n",
    "print(x, y, z)\n",
    "\n"
   ]
  },
  {
   "cell_type": "code",
   "execution_count": 17,
   "id": "2e4b94c2-8f6d-4e6a-a252-59089ae59061",
   "metadata": {},
   "outputs": [],
   "source": [
    "inventory = ['apple', 'banana', 'cherry']\n",
    "backup_inventory = inventory\n",
    "del backup_inventory[:]\n",
    "\n"
   ]
  },
  {
   "cell_type": "code",
   "execution_count": 19,
   "id": "0dc0e2fc-288c-4e6e-a5e6-1d6b09d85775",
   "metadata": {},
   "outputs": [
    {
     "name": "stdin",
     "output_type": "stream",
     "text": [
      "Enter first number:  8\n",
      "Enter second number:  5\n"
     ]
    },
    {
     "name": "stdout",
     "output_type": "stream",
     "text": [
      "58\n"
     ]
    }
   ],
   "source": [
    "first_input = input(\"Enter first number: \")\n",
    "second_input = input(\"Enter second number: \")\n",
    "print(second_input + first_input)\n",
    "\n"
   ]
  },
  {
   "cell_type": "code",
   "execution_count": 21,
   "id": "81210f00-5afa-455c-8ffb-86d58374b35c",
   "metadata": {},
   "outputs": [
    {
     "name": "stdout",
     "output_type": "stream",
     "text": [
      "asepbsepc\n"
     ]
    }
   ],
   "source": [
    "print(\"a\", \"b\", \"c\", sep=\"sep\")\n",
    "\n"
   ]
  },
  {
   "cell_type": "code",
   "execution_count": 23,
   "id": "f33ca259-d255-4789-b43d-62ceccdf0676",
   "metadata": {},
   "outputs": [
    {
     "name": "stdout",
     "output_type": "stream",
     "text": [
      "0.2\n"
     ]
    }
   ],
   "source": [
    "x = 1 // 5 + 1 / 5\n",
    "print(x)\n",
    "\n"
   ]
  },
  {
   "cell_type": "code",
   "execution_count": 25,
   "id": "eefe50e1-ac52-4f0b-9417-fa955e34127f",
   "metadata": {},
   "outputs": [
    {
     "ename": "NameError",
     "evalue": "name 'sample_tuple' is not defined",
     "output_type": "error",
     "traceback": [
      "\u001b[1;31m---------------------------------------------------------------------------\u001b[0m",
      "\u001b[1;31mNameError\u001b[0m                                 Traceback (most recent call last)",
      "Cell \u001b[1;32mIn[25], line 1\u001b[0m\n\u001b[1;32m----> 1\u001b[0m sample_tuple[\u001b[38;5;241m0\u001b[39m] \u001b[38;5;241m=\u001b[39m \u001b[38;5;241m5\u001b[39m\n\u001b[0;32m      2\u001b[0m \u001b[38;5;28mprint\u001b[39m(sample_tuple)\n",
      "\u001b[1;31mNameError\u001b[0m: name 'sample_tuple' is not defined"
     ]
    }
   ],
   "source": [
    "sample_tuple[0] = 5\n",
    "print(sample_tuple)\n",
    "\n"
   ]
  },
  {
   "cell_type": "code",
   "execution_count": 27,
   "id": "2f6fee8e-34df-4ed7-9c91-1160b12f6d35",
   "metadata": {},
   "outputs": [
    {
     "name": "stdin",
     "output_type": "stream",
     "text": [
      " 2\n",
      " 4\n"
     ]
    },
    {
     "name": "stdout",
     "output_type": "stream",
     "text": [
      "2.0\n"
     ]
    }
   ],
   "source": [
    "x = float(input())\n",
    "y = float(input())\n",
    "print(y ** (1 / x))\n",
    "\n"
   ]
  },
  {
   "cell_type": "code",
   "execution_count": 29,
   "id": "8b8f6063-7fe0-414b-8bfa-69dfe3457c87",
   "metadata": {},
   "outputs": [
    {
     "name": "stdout",
     "output_type": "stream",
     "text": [
      "alpha\n"
     ]
    }
   ],
   "source": [
    "dictionary = {'alpha': 'beta', 'gamma': 'alpha', 'beta': 'gamma'}\n",
    "value = dictionary['gamma']\n",
    "\n",
    "for key in range(len(dictionary)):\n",
    "    value = dictionary[value]\n",
    "\n",
    "print(value)\n",
    "\n"
   ]
  },
  {
   "cell_type": "code",
   "execution_count": 33,
   "id": "f3df00ed-e9dd-405b-9205-3066d868909d",
   "metadata": {},
   "outputs": [],
   "source": [
    "values = [i for i in range(-1, -3, -1)]\n",
    "\n"
   ]
  },
  {
   "cell_type": "code",
   "execution_count": 35,
   "id": "b9f0625c-d02f-444f-be65-8b941b8c1fb4",
   "metadata": {},
   "outputs": [
    {
     "ename": "SyntaxError",
     "evalue": "incomplete input (1512721601.py, line 3)",
     "output_type": "error",
     "traceback": [
      "\u001b[1;36m  Cell \u001b[1;32mIn[35], line 3\u001b[1;36m\u001b[0m\n\u001b[1;33m    \u001b[0m\n\u001b[1;37m    ^\u001b[0m\n\u001b[1;31mSyntaxError\u001b[0m\u001b[1;31m:\u001b[0m incomplete input\n"
     ]
    }
   ],
   "source": [
    "def custom_function(x, y, z=0):\n",
    "    # Body of the function.\n",
    "\n"
   ]
  },
  {
   "cell_type": "code",
   "execution_count": 37,
   "id": "7700ed72-6767-400f-9862-cac35db96b9d",
   "metadata": {},
   "outputs": [
    {
     "name": "stdout",
     "output_type": "stream",
     "text": [
      "0\n"
     ]
    }
   ],
   "source": [
    "def fun(x, y):\n",
    "    if x == y:\n",
    "        return x\n",
    "    else:\n",
    "        return fun(x, y-1)\n",
    "\n",
    "\n",
    "print(fun(0, 3))\n",
    "\n"
   ]
  },
  {
   "cell_type": "code",
   "execution_count": null,
   "id": "7f3efdde-1505-4a51-ae18-99ce94e76da9",
   "metadata": {},
   "outputs": [],
   "source": [
    "my_tuple = (10, 20, 30, 40, 50)\n",
    "my_tuple = my_tuple[-1]\n",
    "print(my_tuple)\n",
    "\n"
   ]
  },
  {
   "cell_type": "code",
   "execution_count": null,
   "id": "792d8284-a296-4cd1-8a48-263b4526f680",
   "metadata": {},
   "outputs": [],
   "source": [
    "dct = {}\n",
    "dct['1'] = (1, 2)\n",
    "dct['2'] = (2, 1)\n",
    "\n",
    "for x in dct.keys():\n",
    "    print(dct[x][1], end=\"\")\n",
    "\n"
   ]
  },
  {
   "cell_type": "code",
   "execution_count": null,
   "id": "fd3ead04-a998-4200-9a52-2f9865da1947",
   "metadata": {},
   "outputs": [],
   "source": [
    "def fun(inp=2, out=3):\n",
    "    return inp * out\n",
    "\n",
    "\n",
    "print(fun(out=2))\n",
    "\n"
   ]
  },
  {
   "cell_type": "code",
   "execution_count": null,
   "id": "f9c05e89-703f-458a-b713-b23f81f0aef5",
   "metadata": {},
   "outputs": [],
   "source": [
    "matrix = [[x for x in range(3)] for y in range(3)]\n",
    "\n",
    "count = 0\n",
    "for row in matrix:\n",
    "    for element in row:\n",
    "        if element % 2 != 0:\n",
    "            count += 1\n",
    "print(count)\n",
    "\n"
   ]
  },
  {
   "cell_type": "code",
   "execution_count": null,
   "id": "6c117d55-7290-4093-b747-03dcd5f5e2c4",
   "metadata": {},
   "outputs": [],
   "source": [
    "try:\n",
    "    value = input(\"Enter a value: \")\n",
    "    print(int(value)/len(value))\n",
    "except ValueError:\n",
    "    print(\"Bad input...\")\n",
    "except ZeroDivisionError:\n",
    "    print(\"Very bad input...\")\n",
    "except TypeError:\n",
    "    print(\"Very very bad input...\")\n",
    "except:\n",
    "    print(\"Booo!\")\n",
    "\n"
   ]
  },
  {
   "cell_type": "code",
   "execution_count": null,
   "id": "41352d36-9e9d-4207-99fc-7193c10fc836",
   "metadata": {},
   "outputs": [],
   "source": [
    "try:\n",
    "    print(10 / 0)\n",
    "    break\n",
    "except ZeroDivisionError::\n",
    "    print(\"Zero division error occurred...\")\n",
    "except (ValueError, TypeError):\n",
    "    print(\"Value or type error occurred..\")\n",
    "except:\n",
    "    print(\"Unknown error occurred...\")\n",
    "\n"
   ]
  },
  {
   "cell_type": "code",
   "execution_count": null,
   "id": "8b23edd8-59f3-40c3-9f69-b9f8e86962e5",
   "metadata": {},
   "outputs": [],
   "source": [
    "foo = (1, 2, 3)\n",
    "foo.index(0)\n",
    "\n"
   ]
  },
  {
   "cell_type": "code",
   "execution_count": null,
   "id": "cbacc765-4a39-49d0-8afd-d02db805b0c0",
   "metadata": {},
   "outputs": [],
   "source": [
    "# A:\n",
    "except (TypeError, ValueError, ZeroDivisionError):\n",
    "    # Some code.\n",
    "\n",
    "# B:\n",
    "except TypeError, ValueError, ZeroDivisionError:\n",
    "    # Some code.\n",
    "\n",
    "# C:\n",
    "except: (TypeError, ValueError, ZeroDivisionError)\n",
    "    # Some code.\n",
    "\n",
    "# D:\n",
    "except: TypeError, ValueError, ZeroDivisionError\n",
    "    # Some code.\n",
    "\n",
    "# E:\n",
    "except (TypeError, ValueError, ZeroDivisionError)\n",
    "    # Some code.\n",
    "\n",
    "# F:\n",
    "except TypeError, ValueError, ZeroDivisionError\n",
    "    # Some code.\n",
    "\n"
   ]
  },
  {
   "cell_type": "code",
   "execution_count": null,
   "id": "9b65a6e3-90b1-4fcc-9815-305765e04014",
   "metadata": {},
   "outputs": [],
   "source": [
    "print(3 + \"5\")\n",
    "\n"
   ]
  },
  {
   "cell_type": "code",
   "execution_count": 3,
   "id": "fb9158fc-47d7-4e7e-b504-504ed77d930b",
   "metadata": {},
   "outputs": [],
   "source": [
    "class Person:\n",
    "    def say_hi(self):\n",
    "        print('anand kumar')\n",
    "\n",
    "    def say_byee(self):\n",
    "        print('what is your name?')"
   ]
  },
  {
   "cell_type": "code",
   "execution_count": 7,
   "id": "461cf907-ac4d-4c5c-807c-cef8cf195776",
   "metadata": {},
   "outputs": [
    {
     "name": "stdout",
     "output_type": "stream",
     "text": [
      "<__main__.Person object at 0x000001ECA5ECCE30>\n"
     ]
    }
   ],
   "source": [
    "AA = Person()\n",
    "print(AA)"
   ]
  },
  {
   "cell_type": "code",
   "execution_count": 9,
   "id": "824f4727-32a5-494d-b2b5-165904224a76",
   "metadata": {},
   "outputs": [
    {
     "name": "stdout",
     "output_type": "stream",
     "text": [
      "anand kumar\n"
     ]
    }
   ],
   "source": [
    "AA.say_hi()"
   ]
  },
  {
   "cell_type": "code",
   "execution_count": 11,
   "id": "2110e8fe-1fbf-4c6a-ba29-b2f1c98adb30",
   "metadata": {},
   "outputs": [
    {
     "name": "stdout",
     "output_type": "stream",
     "text": [
      "what is your name?\n"
     ]
    }
   ],
   "source": [
    "AA.say_byee()"
   ]
  },
  {
   "cell_type": "code",
   "execution_count": 13,
   "id": "7484c767-63fc-4b59-b465-769009f85c15",
   "metadata": {},
   "outputs": [],
   "source": [
    "class AI:\n",
    "    def artificial(self):\n",
    "        print('kavita')\n",
    "\n",
    "    def intelligance(self):\n",
    "        print(\"kumari\")"
   ]
  },
  {
   "cell_type": "code",
   "execution_count": 15,
   "id": "38bac645-a113-4494-b4ac-8eff111b7a82",
   "metadata": {},
   "outputs": [
    {
     "name": "stdout",
     "output_type": "stream",
     "text": [
      "<__main__.AI object at 0x000001ECA49DD1F0>\n"
     ]
    }
   ],
   "source": [
    "ANAND = AI()\n",
    "print(ANAND)"
   ]
  },
  {
   "cell_type": "code",
   "execution_count": 17,
   "id": "3b76ead0-79d7-4ccb-b4d1-eca824484c6d",
   "metadata": {},
   "outputs": [
    {
     "name": "stdout",
     "output_type": "stream",
     "text": [
      "kavita\n"
     ]
    }
   ],
   "source": [
    "ANAND.artificial()"
   ]
  },
  {
   "cell_type": "code",
   "execution_count": 19,
   "id": "f3d74f66-5414-4f95-99c9-25fb7ab1f952",
   "metadata": {},
   "outputs": [
    {
     "name": "stdout",
     "output_type": "stream",
     "text": [
      "kumari\n"
     ]
    }
   ],
   "source": [
    "ANAND.intelligance()"
   ]
  },
  {
   "cell_type": "code",
   "execution_count": 21,
   "id": "45225d6b-a401-4a6b-b38b-79fba17be974",
   "metadata": {},
   "outputs": [],
   "source": [
    "class ANANDA:\n",
    "    def __init__(self, name,age):\n",
    "        self.name = name\n",
    "        self.age = age\n",
    "        print('bachapan ka kya name hai?')\n",
    "\n",
    "    def intro(self):\n",
    "        return f'Name : {self.name} Age : {self.age}'"
   ]
  },
  {
   "cell_type": "code",
   "execution_count": 23,
   "id": "b3177785-c915-4cad-ba0a-ddd8f943e503",
   "metadata": {},
   "outputs": [
    {
     "name": "stdout",
     "output_type": "stream",
     "text": [
      "bachapan ka kya name hai?\n",
      "<__main__.ANANDA object at 0x000001ECA5ECF620>\n"
     ]
    }
   ],
   "source": [
    "AAA = ANANDA('ANand', 24)\n",
    "print(AAA)"
   ]
  },
  {
   "cell_type": "code",
   "execution_count": 31,
   "id": "ba233ea3-1520-46c5-84ea-f82d9a34c7c7",
   "metadata": {},
   "outputs": [
    {
     "data": {
      "text/plain": [
       "'ANand'"
      ]
     },
     "execution_count": 31,
     "metadata": {},
     "output_type": "execute_result"
    }
   ],
   "source": [
    "AAA.name"
   ]
  },
  {
   "cell_type": "code",
   "execution_count": 33,
   "id": "eb8bd707-425d-482a-9b65-906440f18d6c",
   "metadata": {},
   "outputs": [
    {
     "data": {
      "text/plain": [
       "24"
      ]
     },
     "execution_count": 33,
     "metadata": {},
     "output_type": "execute_result"
    }
   ],
   "source": [
    "AAA.age"
   ]
  },
  {
   "cell_type": "code",
   "execution_count": 35,
   "id": "8997888c-b25d-4585-92ea-bee9c02557d3",
   "metadata": {},
   "outputs": [
    {
     "data": {
      "text/plain": [
       "<bound method ANANDA.intro of <__main__.ANANDA object at 0x000001ECA5ECF620>>"
      ]
     },
     "execution_count": 35,
     "metadata": {},
     "output_type": "execute_result"
    }
   ],
   "source": [
    "AAA.intro"
   ]
  },
  {
   "cell_type": "code",
   "execution_count": 37,
   "id": "a734dc86-34da-47e9-aa9d-fcbb73affa1a",
   "metadata": {},
   "outputs": [],
   "source": [
    "class CAR:\n",
    "    def __init__(self, newCAR, THISYEARS):\n",
    "        self.newCAR = newCAR\n",
    "        self.THISYEARS = THISYEARS\n",
    "        print('NEW MODLE')\n",
    "\n",
    "    def intro(self):\n",
    "        print(f'NewCAR : {self.newCAR} this : {self.THISYEARS}')"
   ]
  },
  {
   "cell_type": "code",
   "execution_count": 39,
   "id": "331d7091-0c33-49c5-ad02-1aa2746f3d28",
   "metadata": {},
   "outputs": [
    {
     "name": "stdout",
     "output_type": "stream",
     "text": [
      "NEW MODLE\n",
      "<__main__.CAR object at 0x000001ECA5FA33B0>\n"
     ]
    }
   ],
   "source": [
    "C = CAR('jugad_gadi' ,2025 )\n",
    "print(C)"
   ]
  },
  {
   "cell_type": "code",
   "execution_count": 41,
   "id": "94124b9b-ac04-478f-8aaa-be323187be8e",
   "metadata": {},
   "outputs": [
    {
     "data": {
      "text/plain": [
       "'jugad_gadi'"
      ]
     },
     "execution_count": 41,
     "metadata": {},
     "output_type": "execute_result"
    }
   ],
   "source": [
    "C.newCAR"
   ]
  },
  {
   "cell_type": "code",
   "execution_count": 43,
   "id": "4b4cb9e6-1227-4c0e-ad8a-275a9bbec874",
   "metadata": {},
   "outputs": [
    {
     "data": {
      "text/plain": [
       "2025"
      ]
     },
     "execution_count": 43,
     "metadata": {},
     "output_type": "execute_result"
    }
   ],
   "source": [
    "C.THISYEARS"
   ]
  },
  {
   "cell_type": "code",
   "execution_count": 99,
   "id": "4572c73e-e454-4fa8-9bc3-1618257e1bd1",
   "metadata": {},
   "outputs": [
    {
     "name": "stdout",
     "output_type": "stream",
     "text": [
      "<__main__.Person object at 0x000001ECA6A5DDC0>\n"
     ]
    },
    {
     "data": {
      "text/plain": [
       "<bound method Person.get_name of <__main__.Person object at 0x000001ECA6A5DDC0>>"
      ]
     },
     "execution_count": 99,
     "metadata": {},
     "output_type": "execute_result"
    }
   ],
   "source": [
    "class Person:\n",
    "    def __init__(self,name):\n",
    "        self.name = name\n",
    "        \n",
    "    def get_name(self):\n",
    "         return self.__name\n",
    "        \n",
    "    def Set_name(self,name):\n",
    "        self._name = name\n",
    "\n",
    "SSS = Person(\"STUD\")\n",
    "print(SSS.get_name())\n",
    "\n",
    "SSS.Set_name(\"STUDE\")\n",
    "\n"
   ]
  },
  {
   "cell_type": "code",
   "execution_count": 11,
   "id": "0430ddb4-dff4-411f-be60-6f60a6e37ed4",
   "metadata": {},
   "outputs": [],
   "source": [
    "class SchoolMember:\n",
    "    def __init__(self, name, age):\n",
    "        self.name = name\n",
    "        self.age = age\n",
    "        print('School Member initialized')\n",
    "\n",
    "    def tell(self):\n",
    "        print(f'Name : {self.name} Age : {self.age}',end=\"\")\n",
    "    "
   ]
  },
  {
   "cell_type": "code",
   "execution_count": 17,
   "id": "125a7807-5ad1-4498-a34c-539bd4bf4283",
   "metadata": {},
   "outputs": [],
   "source": [
    "class Teacher(SchoolMember):\n",
    "    def __init__(self,name,age,salary):\n",
    "        SchoolMember.__init__(self,name,age)\n",
    "        self.salary = salary\n",
    "        print('Teacher initialized')\n",
    "\n",
    "    def tell(self):\n",
    "        SchoolMember.tell(self)\n",
    "        print(f'Salary : {self.salary}')\n",
    "        \n",
    "        \n",
    "    "
   ]
  },
  {
   "cell_type": "code",
   "execution_count": 19,
   "id": "e3bcf0ae-a41d-47b6-a58b-5558a11be603",
   "metadata": {},
   "outputs": [
    {
     "name": "stdout",
     "output_type": "stream",
     "text": [
      "School Member initialized\n",
      "Teacher initialized\n"
     ]
    }
   ],
   "source": [
    "TT1 = Teacher(\"ANANDAA\", 24, 25000)"
   ]
  },
  {
   "cell_type": "code",
   "execution_count": 21,
   "id": "16b23d63-9f55-4453-9481-3b760a735f99",
   "metadata": {},
   "outputs": [
    {
     "data": {
      "text/plain": [
       "'ANANDAA'"
      ]
     },
     "execution_count": 21,
     "metadata": {},
     "output_type": "execute_result"
    }
   ],
   "source": [
    "TT1.name"
   ]
  },
  {
   "cell_type": "code",
   "execution_count": 25,
   "id": "2a9a7cae-9481-478c-b7c5-2aafd18fa1ac",
   "metadata": {},
   "outputs": [
    {
     "data": {
      "text/plain": [
       "24"
      ]
     },
     "execution_count": 25,
     "metadata": {},
     "output_type": "execute_result"
    }
   ],
   "source": [
    "TT1.age"
   ]
  },
  {
   "cell_type": "code",
   "execution_count": 27,
   "id": "7e7dfbeb-a98c-4aa9-adac-c5c9f1adeaeb",
   "metadata": {},
   "outputs": [
    {
     "data": {
      "text/plain": [
       "25000"
      ]
     },
     "execution_count": 27,
     "metadata": {},
     "output_type": "execute_result"
    }
   ],
   "source": [
    "TT1.salary"
   ]
  },
  {
   "cell_type": "code",
   "execution_count": 29,
   "id": "1c22b019-c393-4fbd-b034-ab4b5c46aadd",
   "metadata": {},
   "outputs": [
    {
     "data": {
      "text/plain": [
       "<bound method Teacher.tell of <__main__.Teacher object at 0x00000215441D7E60>>"
      ]
     },
     "execution_count": 29,
     "metadata": {},
     "output_type": "execute_result"
    }
   ],
   "source": [
    "TT1.tell"
   ]
  },
  {
   "cell_type": "code",
   "execution_count": null,
   "id": "93337143-e2aa-4096-8123-3f2199f07239",
   "metadata": {},
   "outputs": [],
   "source": [
    "class SchoolMember:\n",
    "    def __init__(self, name, age):\n",
    "        self.name = name\n",
    "        self.age = age\n",
    "        print('School Member initialized')\n",
    "\n",
    "    def tell(self):\n",
    "        print(f'Name : {self.name} Age : {self.age}',end=\"\")\n",
    "    "
   ]
  },
  {
   "cell_type": "code",
   "execution_count": null,
   "id": "4f86c4a7-a981-46df-84f5-ae05fd28314a",
   "metadata": {},
   "outputs": [],
   "source": [
    "class Teacher(SchoolMember):\n",
    "    def __init__(self,name,age,salary):\n",
    "        SchoolMember.__init__(self,name,age)\n",
    "        self.salary = salary\n",
    "        print('Teacher initialized')\n",
    "\n",
    "    def tell(self):\n",
    "        SchoolMember.tell(self)\n",
    "        print(f'Salary : {self.salary}')\n",
    "        \n",
    "        "
   ]
  },
  {
   "cell_type": "code",
   "execution_count": 31,
   "id": "6635911c-d57c-43b0-831d-be523d421f05",
   "metadata": {},
   "outputs": [],
   "source": [
    "class student(SchoolMember):\n",
    "    def __init__(self,name,age,grade):\n",
    "        SchoolMember.__init__(self,name,age)\n",
    "        self.grade = grade\n",
    "        print('grade initialized')\n",
    "\n",
    "    def tell(self):\n",
    "        SchoolMember.tell(self)\n",
    "        print(f'Grade : {self.grade}')"
   ]
  },
  {
   "cell_type": "code",
   "execution_count": 33,
   "id": "bf5c791a-0d85-4092-80d1-46153a767805",
   "metadata": {},
   "outputs": [
    {
     "name": "stdout",
     "output_type": "stream",
     "text": [
      "School Member initialized\n",
      "grade initialized\n"
     ]
    }
   ],
   "source": [
    "TTT1 = student('ANIL', 24, 'D')"
   ]
  },
  {
   "cell_type": "code",
   "execution_count": 35,
   "id": "75249362-8e1f-491a-901d-157f73000792",
   "metadata": {},
   "outputs": [
    {
     "data": {
      "text/plain": [
       "'D'"
      ]
     },
     "execution_count": 35,
     "metadata": {},
     "output_type": "execute_result"
    }
   ],
   "source": [
    "TTT1.grade"
   ]
  },
  {
   "cell_type": "code",
   "execution_count": 37,
   "id": "5186990c-dea7-4642-938f-e7a9028f9d93",
   "metadata": {},
   "outputs": [
    {
     "data": {
      "text/plain": [
       "'ANIL'"
      ]
     },
     "execution_count": 37,
     "metadata": {},
     "output_type": "execute_result"
    }
   ],
   "source": [
    "TTT1.name"
   ]
  },
  {
   "cell_type": "code",
   "execution_count": 39,
   "id": "c7337692-9f39-4d08-9083-88af3c7b20bc",
   "metadata": {},
   "outputs": [
    {
     "data": {
      "text/plain": [
       "24"
      ]
     },
     "execution_count": 39,
     "metadata": {},
     "output_type": "execute_result"
    }
   ],
   "source": [
    "TTT1.age"
   ]
  },
  {
   "cell_type": "code",
   "execution_count": 43,
   "id": "8a7ed46f-2021-464f-bb6b-06c0bc375538",
   "metadata": {},
   "outputs": [
    {
     "name": "stdout",
     "output_type": "stream",
     "text": [
      "[3, 7, 20, '@', 'TECH I.S.', 'makes learning fun!']\n",
      "<class 'list'>\n",
      "(3, 7, 20, '@', 'TECH I.S.', 'makes learning fun!')\n",
      "<class 'tuple'>\n"
     ]
    }
   ],
   "source": [
    "new_list = [3,7,20,'@','TECH I.S.', 'makes learning fun!']\n",
    "print(new_list)\n",
    "print(type(new_list))\n",
    "\n",
    "new_tuple = tuple(new_list)\n",
    "print(new_tuple)\n",
    "print(type(new_tuple))"
   ]
  },
  {
   "cell_type": "code",
   "execution_count": 45,
   "id": "3f79d568-f35a-4093-a379-75bb12b7bc4a",
   "metadata": {},
   "outputs": [
    {
     "name": "stdout",
     "output_type": "stream",
     "text": [
      "(4, 1, 45, 92, 31, 60, 84)\n",
      "<class 'tuple'>\n",
      "[4, 1, 45, 92, 31, 60, 84]\n",
      "<class 'list'>\n"
     ]
    }
   ],
   "source": [
    "new_tuple = 4,1,45,92,31,60,84\n",
    "print(new_tuple)\n",
    "print(type(new_tuple))\n",
    "\n",
    "new_list = list(new_tuple) \n",
    "print(new_list)\n",
    "print(type(new_list))"
   ]
  },
  {
   "cell_type": "code",
   "execution_count": 55,
   "id": "999c40f6-9fba-4da9-8a5f-38876ec409a5",
   "metadata": {},
   "outputs": [
    {
     "name": "stdout",
     "output_type": "stream",
     "text": [
      "x & y are equal\n"
     ]
    }
   ],
   "source": [
    "x = 4\n",
    "y = 4\n",
    "\n",
    "if x == y:\n",
    "    print('x & y are equal')"
   ]
  },
  {
   "cell_type": "code",
   "execution_count": 57,
   "id": "925e331c-a2a6-4501-a459-0361a2884e45",
   "metadata": {},
   "outputs": [],
   "source": [
    "x = 5\n",
    "y = 6\n",
    "\n",
    "if x == y:\n",
    "    print('x and y are equal')\n"
   ]
  },
  {
   "cell_type": "code",
   "execution_count": 59,
   "id": "96a64568-3853-4f18-b5b7-d002cf052b96",
   "metadata": {},
   "outputs": [
    {
     "name": "stdout",
     "output_type": "stream",
     "text": [
      "1 1 2\n"
     ]
    }
   ],
   "source": [
    "x = 1\n",
    "y = 2\n",
    "x, y, z = x, x, y\n",
    "z, y, z = x, y, z\n",
    "\n",
    "print(x, y, z)\n",
    "\n"
   ]
  },
  {
   "cell_type": "code",
   "execution_count": null,
   "id": "6ccc8f6f-d6b9-4552-a554-45d7546fee78",
   "metadata": {},
   "outputs": [],
   "source": []
  }
 ],
 "metadata": {
  "kernelspec": {
   "display_name": "Python 3 (ipykernel)",
   "language": "python",
   "name": "python3"
  },
  "language_info": {
   "codemirror_mode": {
    "name": "ipython",
    "version": 3
   },
   "file_extension": ".py",
   "mimetype": "text/x-python",
   "name": "python",
   "nbconvert_exporter": "python",
   "pygments_lexer": "ipython3",
   "version": "3.12.7"
  }
 },
 "nbformat": 4,
 "nbformat_minor": 5
}
