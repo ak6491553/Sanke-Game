{
 "cells": [
  {
   "cell_type": "code",
   "execution_count": 3,
   "id": "588fecd1-4e39-4490-a5a2-d3f6fd8881f1",
   "metadata": {},
   "outputs": [],
   "source": [
    "class Person:\n",
    "    def say_hi(self):\n",
    "        print('hi')\n",
    "    def say_bye(self):\n",
    "        print('Bbye')"
   ]
  },
  {
   "cell_type": "code",
   "execution_count": 5,
   "id": "bcdea2e4-89cf-4525-8f60-f9bff10691e0",
   "metadata": {},
   "outputs": [
    {
     "name": "stdout",
     "output_type": "stream",
     "text": [
      "<__main__.Person object at 0x0000026143BAEC60>\n"
     ]
    }
   ],
   "source": [
    "k = Person()\n",
    "print(k)"
   ]
  },
  {
   "cell_type": "code",
   "execution_count": 9,
   "id": "b396d769-f4c4-4dd2-b017-7aa7f73631ba",
   "metadata": {},
   "outputs": [
    {
     "name": "stdout",
     "output_type": "stream",
     "text": [
      "hi\n"
     ]
    }
   ],
   "source": [
    "k.say_hi()"
   ]
  },
  {
   "cell_type": "code",
   "execution_count": 11,
   "id": "18217793-7b98-4daa-8c3f-3cc0abae07fb",
   "metadata": {},
   "outputs": [
    {
     "name": "stdout",
     "output_type": "stream",
     "text": [
      "Bbye\n"
     ]
    }
   ],
   "source": [
    "k.say_bye()"
   ]
  },
  {
   "cell_type": "code",
   "execution_count": 1,
   "id": "7a0184a4-77a4-40a8-9136-b0b7f4aad03b",
   "metadata": {},
   "outputs": [],
   "source": [
    "class Birds:\n",
    "    def vioce_piu(self):\n",
    "        print('wing')\n",
    "    def vioce_day(self):\n",
    "        print('flying')"
   ]
  },
  {
   "cell_type": "code",
   "execution_count": 5,
   "id": "bd6676ad-a909-477d-a606-2c18b9c94911",
   "metadata": {},
   "outputs": [
    {
     "name": "stdout",
     "output_type": "stream",
     "text": [
      "<__main__.Birds object at 0x0000017FC110A480>\n"
     ]
    }
   ],
   "source": [
    "b = Birds()\n",
    "print(b)"
   ]
  },
  {
   "cell_type": "code",
   "execution_count": 9,
   "id": "e14176ea-5af4-43b1-bd06-f3e48b08b8cf",
   "metadata": {},
   "outputs": [
    {
     "name": "stdout",
     "output_type": "stream",
     "text": [
      "wing\n"
     ]
    }
   ],
   "source": [
    "b.vioce_piu()"
   ]
  },
  {
   "cell_type": "code",
   "execution_count": 11,
   "id": "54f6ec6d-e85e-499b-8a68-be638eb73e03",
   "metadata": {},
   "outputs": [
    {
     "name": "stdout",
     "output_type": "stream",
     "text": [
      "flying\n"
     ]
    }
   ],
   "source": [
    "b.vioce_day()"
   ]
  },
  {
   "cell_type": "code",
   "execution_count": 3,
   "id": "cc4268fd-0b01-455e-bb10-2cb4d8a652c3",
   "metadata": {},
   "outputs": [
    {
     "name": "stdout",
     "output_type": "stream",
     "text": [
      "<__main__.Person object at 0x000001E1E34C6AB0>\n"
     ]
    }
   ],
   "source": [
    "p = Person()\n",
    "print(p)"
   ]
  },
  {
   "cell_type": "code",
   "execution_count": 5,
   "id": "ac2af37d-3947-4fa9-9a82-b8fc377a674d",
   "metadata": {},
   "outputs": [
    {
     "name": "stdout",
     "output_type": "stream",
     "text": [
      "hi\n"
     ]
    }
   ],
   "source": [
    "p.say_hi()"
   ]
  },
  {
   "cell_type": "code",
   "execution_count": 7,
   "id": "664f1d27-2149-4d10-a2b1-88a6b84030bd",
   "metadata": {},
   "outputs": [
    {
     "name": "stdout",
     "output_type": "stream",
     "text": [
      "Bbye\n"
     ]
    }
   ],
   "source": [
    "p.say_bye()"
   ]
  },
  {
   "cell_type": "code",
   "execution_count": 13,
   "id": "981b684c-7738-472a-864c-dde84e41095b",
   "metadata": {},
   "outputs": [],
   "source": [
    "class Person:\n",
    "    def __init__(self,name,age):\n",
    "        self.name = name\n",
    "        self.age = age\n",
    "        print('An object created..!')\n",
    "    def intro(self):\n",
    "        return f'name : {self.name} Age: {self.age}'\n"
   ]
  },
  {
   "cell_type": "code",
   "execution_count": 15,
   "id": "eed92474-0f37-4561-b96c-43bf3a2fda0b",
   "metadata": {},
   "outputs": [
    {
     "name": "stdout",
     "output_type": "stream",
     "text": [
      "An object created..!\n"
     ]
    }
   ],
   "source": [
    "p = Person('anand',22)"
   ]
  },
  {
   "cell_type": "code",
   "execution_count": 17,
   "id": "93e22269-6214-435f-8f75-a5c050993b7f",
   "metadata": {},
   "outputs": [
    {
     "data": {
      "text/plain": [
       "22"
      ]
     },
     "execution_count": 17,
     "metadata": {},
     "output_type": "execute_result"
    }
   ],
   "source": [
    "p.age"
   ]
  },
  {
   "cell_type": "code",
   "execution_count": 19,
   "id": "047f9d9f-39ab-4b7b-8038-8346cf0d848a",
   "metadata": {},
   "outputs": [
    {
     "data": {
      "text/plain": [
       "'anand'"
      ]
     },
     "execution_count": 19,
     "metadata": {},
     "output_type": "execute_result"
    }
   ],
   "source": [
    "p.name"
   ]
  },
  {
   "cell_type": "code",
   "execution_count": 23,
   "id": "7cdbcb25-4ec3-489a-8d55-6936d8e736dd",
   "metadata": {},
   "outputs": [],
   "source": [
    "class Car:\n",
    "    def __init__(self,honda,years):\n",
    "        self.honda = honda\n",
    "        self.years = years\n",
    "        print('i like this car.....')\n",
    "\n",
    "    def intro(self):\n",
    "        return f'honda : {self.honda} years: {self.years}'\n"
   ]
  },
  {
   "cell_type": "code",
   "execution_count": 25,
   "id": "7895f0b3-d2c4-47d6-bb96-299a2e6ac9d7",
   "metadata": {},
   "outputs": [
    {
     "name": "stdout",
     "output_type": "stream",
     "text": [
      "i like this car.....\n"
     ]
    }
   ],
   "source": [
    "c = Car('bike',2023)"
   ]
  },
  {
   "cell_type": "code",
   "execution_count": 27,
   "id": "2cb086e9-802d-4855-8078-0f95e4042bf3",
   "metadata": {},
   "outputs": [
    {
     "data": {
      "text/plain": [
       "2023"
      ]
     },
     "execution_count": 27,
     "metadata": {},
     "output_type": "execute_result"
    }
   ],
   "source": [
    "c.years"
   ]
  },
  {
   "cell_type": "code",
   "execution_count": 29,
   "id": "f0f8cf32-7224-4b80-bd0c-408292645c59",
   "metadata": {},
   "outputs": [
    {
     "data": {
      "text/plain": [
       "'honda : bike years: 2023'"
      ]
     },
     "execution_count": 29,
     "metadata": {},
     "output_type": "execute_result"
    }
   ],
   "source": [
    "c.intro()"
   ]
  },
  {
   "cell_type": "code",
   "execution_count": 35,
   "id": "1b3a3afb-15a2-4575-8bc2-c907249e4d1f",
   "metadata": {},
   "outputs": [],
   "source": [
    "class Anand:\n",
    "    def __init__(self,kab,kaise):\n",
    "        self.kab = kab\n",
    "        self.kaise = kaise\n",
    "        print('achhe bache asa nhi karte hai....')\n",
    "            \n",
    "    def intro(self):\n",
    "        return f'kab : {self.kab} kaise: {self.kaise}'   \n",
    "    "
   ]
  },
  {
   "cell_type": "code",
   "execution_count": 39,
   "id": "bf4ca6e4-0b91-4935-b195-2790de6b011e",
   "metadata": {},
   "outputs": [
    {
     "name": "stdout",
     "output_type": "stream",
     "text": [
      "achhe bache asa nhi karte hai....\n"
     ]
    }
   ],
   "source": [
    "A = Anand('what are you doing ANAND?','ab tum mar khaoge')"
   ]
  },
  {
   "cell_type": "code",
   "execution_count": 43,
   "id": "1a9f7d13-afe3-48c8-827d-c10b93652cf9",
   "metadata": {},
   "outputs": [
    {
     "data": {
      "text/plain": [
       "'what are you doing ANAND?'"
      ]
     },
     "execution_count": 43,
     "metadata": {},
     "output_type": "execute_result"
    }
   ],
   "source": [
    "A.kab"
   ]
  },
  {
   "cell_type": "code",
   "execution_count": 45,
   "id": "dc1c0348-f115-406f-ae1e-6e909f31c11e",
   "metadata": {},
   "outputs": [
    {
     "data": {
      "text/plain": [
       "'ab tum mar khaoge'"
      ]
     },
     "execution_count": 45,
     "metadata": {},
     "output_type": "execute_result"
    }
   ],
   "source": [
    "A.kaise"
   ]
  },
  {
   "cell_type": "code",
   "execution_count": 73,
   "id": "4fabb6b1-3b66-414a-9194-7de0bdb83c83",
   "metadata": {},
   "outputs": [],
   "source": [
    "class Anna:\n",
    "    def __init__(self,K,Y):\n",
    "        self.K = K\n",
    "        self.Y = Y\n",
    "        print('aa ab laut chale ghar....')\n",
    "\n",
    "\n",
    "    def intro(self):\n",
    "        return f'K : {self.K} Y : {self.Y}'"
   ]
  },
  {
   "cell_type": "code",
   "execution_count": 75,
   "id": "39246ae6-01ab-42c1-87a3-62c87e114257",
   "metadata": {},
   "outputs": [
    {
     "name": "stdout",
     "output_type": "stream",
     "text": [
      "aa ab laut chale ghar....\n"
     ]
    }
   ],
   "source": [
    "G = Anna('where are going man? otherwise i bit you slap.','kidhar ja rahe ho ? nhi to mai peet duga.')"
   ]
  },
  {
   "cell_type": "code",
   "execution_count": 77,
   "id": "167a313e-ee81-412e-9e7d-350b36310c8c",
   "metadata": {},
   "outputs": [
    {
     "data": {
      "text/plain": [
       "'where are going man? otherwise i bit you slap.'"
      ]
     },
     "execution_count": 77,
     "metadata": {},
     "output_type": "execute_result"
    }
   ],
   "source": [
    "G.K"
   ]
  },
  {
   "cell_type": "code",
   "execution_count": 79,
   "id": "3368e5db-df3c-46d0-9579-e08aeeb0783e",
   "metadata": {},
   "outputs": [
    {
     "data": {
      "text/plain": [
       "'kidhar ja rahe ho ? nhi to mai peet duga.'"
      ]
     },
     "execution_count": 79,
     "metadata": {},
     "output_type": "execute_result"
    }
   ],
   "source": [
    "G.Y"
   ]
  },
  {
   "cell_type": "code",
   "execution_count": 88,
   "id": "9a1c4f24-e9d9-4c84-938f-83dbca40bcc7",
   "metadata": {},
   "outputs": [],
   "source": [
    "class GANSTRxxANAND:\n",
    "    def __init__(self,GANSTRxxjeet,GANSTRxxLEO):\n",
    "        self.GANSTRxxjeet = GANSTRxxjeet\n",
    "        self.GANSTRxxLEO = GANSTRxxLEO\n",
    "        print('jitega to GANSTRSPORT team ka banda hi hahahahahahaha... ')\n",
    "\n",
    "    def intro(self):\n",
    "        return f'GANSTRxxjeet : {self.GANSTRxxjeet} GANSTRxxLEO : {self.GANSTRxxLEO} '"
   ]
  },
  {
   "cell_type": "code",
   "execution_count": 90,
   "id": "09b36ff1-bfb4-4dcc-b940-96c878ee2aef",
   "metadata": {},
   "outputs": [
    {
     "name": "stdout",
     "output_type": "stream",
     "text": [
      "jitega to GANSTRSPORT team ka banda hi hahahahahahaha... \n"
     ]
    }
   ],
   "source": [
    "BGMI = GANSTRxxANAND('jeet es baar pura jee jaan laga kar khelega aur jeete ge','jeet bhai pera phone sahi nhi chalta hai kisi aur ko lelo mere jagah')"
   ]
  },
  {
   "cell_type": "code",
   "execution_count": 92,
   "id": "b7c9835d-ad67-4196-85df-575d9c01819e",
   "metadata": {},
   "outputs": [
    {
     "data": {
      "text/plain": [
       "'jeet es baar pura jee jaan laga kar khelega aur jeete ge'"
      ]
     },
     "execution_count": 92,
     "metadata": {},
     "output_type": "execute_result"
    }
   ],
   "source": [
    "BGMI.GANSTRxxjeet"
   ]
  },
  {
   "cell_type": "code",
   "execution_count": 94,
   "id": "cad30c8b-d0b4-45b4-a040-507ca2216525",
   "metadata": {},
   "outputs": [
    {
     "data": {
      "text/plain": [
       "'jeet bhai pera phone sahi nhi chalta hai kisi aur ko lelo mere jagah'"
      ]
     },
     "execution_count": 94,
     "metadata": {},
     "output_type": "execute_result"
    }
   ],
   "source": [
    "BGMI.GANSTRxxLEO"
   ]
  },
  {
   "cell_type": "code",
   "execution_count": 98,
   "id": "3f121931-e9d9-42cb-8685-2dac83232749",
   "metadata": {},
   "outputs": [
    {
     "data": {
      "text/plain": [
       "'GANSTRxxjeet : jeet es baar pura jee jaan laga kar khelega aur jeete ge GANSTRxxLEO : jeet bhai pera phone sahi nhi chalta hai kisi aur ko lelo mere jagah '"
      ]
     },
     "execution_count": 98,
     "metadata": {},
     "output_type": "execute_result"
    }
   ],
   "source": [
    "BGMI.intro()"
   ]
  },
  {
   "cell_type": "code",
   "execution_count": 5,
   "id": "92e59bd7-390f-4b17-a9b4-c8516b63db6a",
   "metadata": {},
   "outputs": [
    {
     "name": "stdout",
     "output_type": "stream",
     "text": [
      "Student1\n",
      "Student2\n"
     ]
    }
   ],
   "source": [
    "class Person:\n",
    "    def __init__(self,name):\n",
    "        self.__name = name # Private attribute \n",
    "\n",
    "    # Getter method to access privte attribute \n",
    "    def get_name(self):\n",
    "        return self.__name\n",
    "    #  Setter method to modify privte attribute \n",
    "    def Set_name(self,name):\n",
    "        self.__name = name\n",
    "\n",
    "# Creating an object of the Person Class\n",
    "person = Person(\"Student1\")\n",
    "\n",
    "# Accessing private data using the getter method \n",
    "print(person.get_name())\n",
    "\n",
    "#  Modifying private data using the getter method \n",
    "person.Set_name(\"Student2\")\n",
    "\n",
    "# Accessing modified dsta\n",
    "print(person.get_name())"
   ]
  },
  {
   "cell_type": "code",
   "execution_count": 102,
   "id": "9d990b0d-9a76-4dbf-bd3d-8f521b218c74",
   "metadata": {},
   "outputs": [],
   "source": [
    "class loanbank:\n",
    "    def __init__(self):\n",
    "        self.__balance = 10000\n",
    "\n",
    "    def viewbalance(self):\n",
    "        return self.__balance\n",
    "\n",
    "    def credit(self,addbalance):\n",
    "        self.__balance += addbalance \n",
    "        \n",
    "    def debit(self,intobalance):\n",
    "        self.__balance -= intobalance\n",
    "    "
   ]
  },
  {
   "cell_type": "code",
   "execution_count": 104,
   "id": "179fae02-2f5c-40e7-9c64-1b0c8eea5dd5",
   "metadata": {},
   "outputs": [],
   "source": [
    "sts = loanbank(23)"
   ]
  },
  {
   "cell_type": "code",
   "execution_count": 106,
   "id": "c73c6704-b7c6-4539-9d2d-9c626c4e907e",
   "metadata": {},
   "outputs": [
    {
     "data": {
      "text/plain": [
       "<bound method loanbank.viewbalance of <__main__.loanbank object at 0x000002346D922F00>>"
      ]
     },
     "execution_count": 106,
     "metadata": {},
     "output_type": "execute_result"
    }
   ],
   "source": [
    "sts.viewbalance"
   ]
  },
  {
   "cell_type": "code",
   "execution_count": 108,
   "id": "478ee48b-3a34-4f61-a4d7-1e0a30c634fa",
   "metadata": {},
   "outputs": [
    {
     "data": {
      "text/plain": [
       "10000"
      ]
     },
     "execution_count": 108,
     "metadata": {},
     "output_type": "execute_result"
    }
   ],
   "source": [
    "sts.viewbalance()"
   ]
  },
  {
   "cell_type": "code",
   "execution_count": 114,
   "id": "d386b08e-9694-4750-9c6a-fed33cef6362",
   "metadata": {},
   "outputs": [],
   "source": [
    "sts.credit(1200)"
   ]
  },
  {
   "cell_type": "code",
   "execution_count": 116,
   "id": "43d10f71-9805-4874-8634-f524e757e2a0",
   "metadata": {},
   "outputs": [
    {
     "data": {
      "text/plain": [
       "12400"
      ]
     },
     "execution_count": 116,
     "metadata": {},
     "output_type": "execute_result"
    }
   ],
   "source": [
    "sts.viewbalance()"
   ]
  },
  {
   "cell_type": "code",
   "execution_count": 118,
   "id": "a921e9e4-7f28-4bd1-9ad3-82ec9c05ef4a",
   "metadata": {},
   "outputs": [],
   "source": [
    "sts.debit(1000)"
   ]
  },
  {
   "cell_type": "code",
   "execution_count": 120,
   "id": "edc4d100-b810-413e-abed-e45588271989",
   "metadata": {},
   "outputs": [
    {
     "data": {
      "text/plain": [
       "11400"
      ]
     },
     "execution_count": 120,
     "metadata": {},
     "output_type": "execute_result"
    }
   ],
   "source": [
    "sts.viewbalance()"
   ]
  },
  {
   "cell_type": "code",
   "execution_count": 19,
   "id": "f6973e39-352f-4ded-bcda-059b60a58316",
   "metadata": {},
   "outputs": [],
   "source": [
    "class bank:\n",
    "    def __init__(self):\n",
    "        self.__balance = 1000\n",
    "\n",
    "    def viewbalance(self):\n",
    "        return  self.__balance \n",
    "\n",
    "    def credit(self,amount):\n",
    "        self.__balance += amount\n",
    "\n",
    "    def debit(self,amount):\n",
    "        self.__balance -= amount"
   ]
  },
  {
   "cell_type": "code",
   "execution_count": 21,
   "id": "cd6faa6a-b920-4270-bdbe-ad3e7a764028",
   "metadata": {},
   "outputs": [],
   "source": [
    "b = bank()\n"
   ]
  },
  {
   "cell_type": "code",
   "execution_count": 23,
   "id": "6e0420fc-f527-4000-becb-06ace4ce7292",
   "metadata": {},
   "outputs": [
    {
     "data": {
      "text/plain": [
       "1000"
      ]
     },
     "execution_count": 23,
     "metadata": {},
     "output_type": "execute_result"
    }
   ],
   "source": [
    "b.viewbalance()"
   ]
  },
  {
   "cell_type": "code",
   "execution_count": 29,
   "id": "e340c598-39e9-400c-986b-d0c77e56de4f",
   "metadata": {},
   "outputs": [],
   "source": [
    "b.credit(120)"
   ]
  },
  {
   "cell_type": "code",
   "execution_count": 31,
   "id": "81f100dc-eaba-40a7-9858-7a14807434a6",
   "metadata": {},
   "outputs": [
    {
     "data": {
      "text/plain": [
       "1360"
      ]
     },
     "execution_count": 31,
     "metadata": {},
     "output_type": "execute_result"
    }
   ],
   "source": [
    "b.viewbalance()"
   ]
  },
  {
   "cell_type": "code",
   "execution_count": 33,
   "id": "099beac8-b674-40ad-896b-25be110184c1",
   "metadata": {},
   "outputs": [],
   "source": [
    "b.debit(500)"
   ]
  },
  {
   "cell_type": "code",
   "execution_count": 35,
   "id": "14697897-818c-44c4-ba7c-e46216c791a8",
   "metadata": {},
   "outputs": [
    {
     "data": {
      "text/plain": [
       "860"
      ]
     },
     "execution_count": 35,
     "metadata": {},
     "output_type": "execute_result"
    }
   ],
   "source": [
    "b.viewbalance()"
   ]
  },
  {
   "cell_type": "markdown",
   "id": "8158d887-6fcd-486c-bffe-b2344db2d5b3",
   "metadata": {},
   "source": [
    "# Data Abstraction in Python"
   ]
  },
  {
   "cell_type": "code",
   "execution_count": 3,
   "id": "099950c3-ae83-47f3-8955-78e50f2c55b7",
   "metadata": {},
   "outputs": [
    {
     "name": "stdout",
     "output_type": "stream",
     "text": [
      "Undergraduate student grade: Pass\n",
      "graduate student grade: Fail\n"
     ]
    }
   ],
   "source": [
    "from abc import ABC, abstractmethod\n",
    "# Abstract class\n",
    "class Student(ABC):\n",
    "\n",
    "    # abstract method to calculate grade\n",
    "    @abstractmethod\n",
    "    def calculate_grade(self):\n",
    "      Pass\n",
    "\n",
    "# Derived class for undergraduate students \n",
    "class Undergraduate_Student(Student):\n",
    "    def __init__(self,marks):\n",
    "        self.marks = marks\n",
    "\n",
    "    def calculate_grade(self):\n",
    "        if self.marks >= 60:\n",
    "            return \"Pass\"\n",
    "\n",
    "        else:\n",
    "            return \"Fail\"\n",
    "\n",
    "# Derived class for graduate students \n",
    "class graduate_Student(Student):\n",
    "    def __init__(self,marks):\n",
    "        self.marks = marks\n",
    "\n",
    "    def calculate_grade(self):\n",
    "        if self.marks >= 70:\n",
    "            return \"Pass\"\n",
    "\n",
    "        else:\n",
    "            return \"Fail\"\n",
    "\n",
    "# Creating objects of derived classes\n",
    "undergrad = Undergraduate_Student(60)\n",
    "grad = graduate_Student(68)\n",
    "\n",
    "# accessing the abstracted method to calculate grades\n",
    "print(\"Undergraduate student grade:\",undergrad.calculate_grade())\n",
    "print(\"graduate student grade:\", grad.calculate_grade())\n"
   ]
  },
  {
   "cell_type": "code",
   "execution_count": 13,
   "id": "128ea2fe-4a14-4c9d-9483-e44748b0c500",
   "metadata": {},
   "outputs": [],
   "source": [
    "from abc import ABC, abstractmethod\n",
    "class Animal(ABC):\n",
    "    @abstractmethod\n",
    "    def speak(self):\n",
    "        pass"
   ]
  },
  {
   "cell_type": "code",
   "execution_count": 61,
   "id": "2ac55386-0e5f-461d-8990-fedb059f1f63",
   "metadata": {},
   "outputs": [],
   "source": [
    "class Dog(Animal):\n",
    "    def speak(self):\n",
    "        print('Bark')"
   ]
  },
  {
   "cell_type": "code",
   "execution_count": 63,
   "id": "8ee2c5d0-b806-4bc3-b0b0-695976ee4597",
   "metadata": {},
   "outputs": [],
   "source": [
    "class Cat(Animal):\n",
    "    def speak(self):\n",
    "        print('Meaw')"
   ]
  },
  {
   "cell_type": "code",
   "execution_count": 65,
   "id": "8d25cfc1-fcbe-4f20-ba8f-c7f45b56a5e9",
   "metadata": {},
   "outputs": [],
   "source": [
    "class Lion(Animal):\n",
    "    def speak(self):\n",
    "        print('Roar')\n",
    "        "
   ]
  },
  {
   "cell_type": "code",
   "execution_count": 67,
   "id": "8f8a25d2-e29e-4e23-9e54-b2decf0d1f48",
   "metadata": {},
   "outputs": [],
   "source": [
    "c = Cat()"
   ]
  },
  {
   "cell_type": "code",
   "execution_count": 69,
   "id": "9906f255-257a-495e-a8c2-a2a102b2e9a8",
   "metadata": {},
   "outputs": [
    {
     "name": "stdout",
     "output_type": "stream",
     "text": [
      "Meaw\n"
     ]
    }
   ],
   "source": [
    "c.speak()"
   ]
  },
  {
   "cell_type": "code",
   "execution_count": 71,
   "id": "d022a6ab-05b3-4454-9504-06fbba53237a",
   "metadata": {},
   "outputs": [],
   "source": [
    "l = Lion()"
   ]
  },
  {
   "cell_type": "code",
   "execution_count": 73,
   "id": "5e0f595e-045e-4f43-a619-b40a987604a5",
   "metadata": {},
   "outputs": [
    {
     "name": "stdout",
     "output_type": "stream",
     "text": [
      "Roar\n"
     ]
    }
   ],
   "source": [
    "l.speak()"
   ]
  },
  {
   "cell_type": "code",
   "execution_count": 75,
   "id": "f52ad568-0802-49a3-86ca-f3bfbfbe53d5",
   "metadata": {},
   "outputs": [],
   "source": [
    "d = Dog()"
   ]
  },
  {
   "cell_type": "code",
   "execution_count": 77,
   "id": "9bd763f6-3560-47e3-919e-c6268395e884",
   "metadata": {},
   "outputs": [
    {
     "name": "stdout",
     "output_type": "stream",
     "text": [
      "Bark\n"
     ]
    }
   ],
   "source": [
    "d.speak()"
   ]
  },
  {
   "cell_type": "markdown",
   "id": "e9fcfbec-9d59-462c-95f9-550ddb1363ba",
   "metadata": {},
   "source": [
    "# LAB '53'"
   ]
  },
  {
   "cell_type": "code",
   "execution_count": 81,
   "id": "0f1df36d-c646-4438-902b-6e89709bb3fb",
   "metadata": {},
   "outputs": [],
   "source": [
    "from abc import ABC, abstractmethod\n",
    "\n",
    "class BillingRecord(ABC):\n",
    "    @abstractmethod\n",
    "    def get_bill(self):\n",
    "\n",
    "        pass\n",
    "\n",
    "    @abstractmethod\n",
    "    def update_bill(self, amount):\n",
    "\n",
    "        pass"
   ]
  },
  {
   "cell_type": "code",
   "execution_count": 85,
   "id": "ce759917-c938-4651-9399-3d698b079798",
   "metadata": {},
   "outputs": [],
   "source": [
    "class PatientBilling(BillingRecord):\n",
    "    def __init__(self, patient_id, patient_name, billing_amount=0):\n",
    "        self.patient_id = patient_id\n",
    "        self.patient_name = patient_name\n",
    "        self.billing_amount = billing_amount\n",
    "\n",
    "    def get_bill(self):\n",
    "        return{\n",
    "            'Patient ID': self.patient_id,\n",
    "            'patient_name': self.patient_name,\n",
    "            'billing_amount':f\"₹{self.billing_amount:.2f}\"\n",
    "        }\n",
    "    def update_bill(self,amount):\n",
    "        if amount > 0:\n",
    "            self.billing_amount += amount\n",
    "            print(f\"Billing amount update by ₹{amount:.2f}. New amount is ₹{self.billing_amount:.2f}\")\n",
    "        else:\n",
    "            print(\"Amount to update must be positive.\")\n",
    "            "
   ]
  },
  {
   "cell_type": "code",
   "execution_count": 87,
   "id": "a6e76290-04fe-487a-808f-9de7af0c9e81",
   "metadata": {},
   "outputs": [
    {
     "name": "stdout",
     "output_type": "stream",
     "text": [
      "Initial Bill Details:\n",
      "{'Patient ID': 'P001', 'patient_name': 'Anand', 'billing_amount': '₹150.00'}\n",
      "Billing amount update by ₹50.00. New amount is ₹200.00\n",
      "\n",
      "Updated Bill Details:\n",
      "{'Patient ID': 'P001', 'patient_name': 'Anand', 'billing_amount': '₹200.00'}\n"
     ]
    }
   ],
   "source": [
    "if __name__ == \"__main__\":\n",
    "    patient_bill = PatientBilling(\n",
    "        patient_id=\"P001\",\n",
    "        patient_name=\"Anand\",\n",
    "        billing_amount=150.00\n",
    "    )\n",
    "    print(\"Initial Bill Details:\")\n",
    "    print(patient_bill.get_bill())\n",
    "    patient_bill.update_bill(50.00)\n",
    "    print(\"\\nUpdated Bill Details:\")\n",
    "    print(patient_bill.get_bill())"
   ]
  },
  {
   "cell_type": "code",
   "execution_count": null,
   "id": "0b14c0f5-c676-40f4-993c-76eedf1b83dc",
   "metadata": {},
   "outputs": [],
   "source": []
  }
 ],
 "metadata": {
  "kernelspec": {
   "display_name": "Python 3 (ipykernel)",
   "language": "python",
   "name": "python3"
  },
  "language_info": {
   "codemirror_mode": {
    "name": "ipython",
    "version": 3
   },
   "file_extension": ".py",
   "mimetype": "text/x-python",
   "name": "python",
   "nbconvert_exporter": "python",
   "pygments_lexer": "ipython3",
   "version": "3.12.7"
  }
 },
 "nbformat": 4,
 "nbformat_minor": 5
}
