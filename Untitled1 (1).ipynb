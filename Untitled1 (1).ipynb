{
 "cells": [
  {
   "cell_type": "code",
   "execution_count": 1,
   "id": "a443f95a-750e-4d90-b9c6-16588207246c",
   "metadata": {},
   "outputs": [
    {
     "name": "stdout",
     "output_type": "stream",
     "text": [
      "14\n"
     ]
    }
   ],
   "source": [
    "print(2 + 3 * 4)"
   ]
  },
  {
   "cell_type": "code",
   "execution_count": 5,
   "id": "62c62b5f-4b18-41a1-8bca-b7307c11191d",
   "metadata": {},
   "outputs": [
    {
     "name": "stdout",
     "output_type": "stream",
     "text": [
      "hello world\n"
     ]
    }
   ],
   "source": [
    "x = \"hello \"\n",
    "y = \"world\"\n",
    "print(x + y)\n"
   ]
  },
  {
   "cell_type": "code",
   "execution_count": 11,
   "id": "3a4ae107-7588-4857-901b-2f3ce92f2898",
   "metadata": {},
   "outputs": [
    {
     "name": "stdout",
     "output_type": "stream",
     "text": [
      "[1, 2, 3, 4]\n"
     ]
    },
    {
     "data": {
      "text/plain": [
       "list"
      ]
     },
     "execution_count": 11,
     "metadata": {},
     "output_type": "execute_result"
    }
   ],
   "source": [
    "list = [1,2,3,4]\n",
    "print(list)\n",
    "type(list)"
   ]
  },
  {
   "cell_type": "code",
   "execution_count": 13,
   "id": "0042f5b7-dfa6-4f09-831c-128546761729",
   "metadata": {},
   "outputs": [
    {
     "name": "stdout",
     "output_type": "stream",
     "text": [
      "7\n"
     ]
    }
   ],
   "source": [
    "x = 5\n",
    "x += 2\n",
    "print(x)\n"
   ]
  },
  {
   "cell_type": "code",
   "execution_count": 17,
   "id": "2335fab9-1b2f-4238-9932-3f8dd33db2bf",
   "metadata": {},
   "outputs": [
    {
     "name": "stdin",
     "output_type": "stream",
     "text": [
      "what your name: anand\n"
     ]
    },
    {
     "name": "stdout",
     "output_type": "stream",
     "text": [
      "anand\n"
     ]
    }
   ],
   "source": [
    "li = input(\"what your name:\" )\n",
    "print(li)"
   ]
  },
  {
   "cell_type": "code",
   "execution_count": 19,
   "id": "2a7a308e-62c0-4ede-ab6f-e6b8aef18570",
   "metadata": {},
   "outputs": [
    {
     "name": "stdout",
     "output_type": "stream",
     "text": [
      "2\n"
     ]
    }
   ],
   "source": [
    "x = 5//2\n",
    "print(x)"
   ]
  },
  {
   "cell_type": "code",
   "execution_count": 23,
   "id": "6ee1bba9-da66-42c1-8c01-befb4180a52d",
   "metadata": {},
   "outputs": [
    {
     "name": "stdout",
     "output_type": "stream",
     "text": [
      "range(0, 5)\n",
      "range(1, 5)\n"
     ]
    }
   ],
   "source": [
    "x = range(5)\n",
    "y = range(1,5)\n",
    "print(x)\n",
    "print(y)"
   ]
  },
  {
   "cell_type": "code",
   "execution_count": 37,
   "id": "180b4c16-ef31-4e5e-8e6e-090612eb656e",
   "metadata": {},
   "outputs": [
    {
     "name": "stdin",
     "output_type": "stream",
     "text": [
      "Enter a number: 12\n"
     ]
    },
    {
     "name": "stdout",
     "output_type": "stream",
     "text": [
      "x is greater than 10 but less than 20\n"
     ]
    }
   ],
   "source": [
    "x = int(input(\"Enter a number:\"))\n",
    "if (x > 10 and x < 20) :\n",
    "    print(\"x is greater than 10 but less "
   ]
  },
  {
   "cell_type": "code",
   "execution_count": 39,
   "id": "291addf2-eb6c-4802-9311-7f5e761efb56",
   "metadata": {},
   "outputs": [
    {
     "data": {
      "text/plain": [
       "'PythonPythonPython'"
      ]
     },
     "execution_count": 39,
     "metadata": {},
     "output_type": "execute_result"
    }
   ],
   "source": [
    "\"Python\" * 3\n"
   ]
  },
  {
   "cell_type": "code",
   "execution_count": 43,
   "id": "2dd3fb15-92c1-4711-abfc-f9cd7a0a9b10",
   "metadata": {},
   "outputs": [
    {
     "data": {
      "text/plain": [
       "'anand anand anand anand '"
      ]
     },
     "execution_count": 43,
     "metadata": {},
     "output_type": "execute_result"
    }
   ],
   "source": [
    "\"anand \" * 4"
   ]
  },
  {
   "cell_type": "code",
   "execution_count": 49,
   "id": "8321ea0b-b503-4709-93a3-81b825c63594",
   "metadata": {},
   "outputs": [
    {
     "name": "stdout",
     "output_type": "stream",
     "text": [
      "hello, world\n"
     ]
    }
   ],
   "source": [
    "def great():\n",
    "    print(\"hello, world\")\n",
    "great()"
   ]
  },
  {
   "cell_type": "code",
   "execution_count": 51,
   "id": "906d2015-af1e-47ed-ac13-68f7c0a699a2",
   "metadata": {},
   "outputs": [
    {
     "name": "stdout",
     "output_type": "stream",
     "text": [
      "Hello, World!\n"
     ]
    }
   ],
   "source": [
    "def greet():\n",
    "    print(\"Hello, World!\")\n",
    "greet()\n"
   ]
  },
  {
   "cell_type": "code",
   "execution_count": 53,
   "id": "ecc0e752-be3c-4e6d-82ab-1c40bcaa796c",
   "metadata": {},
   "outputs": [
    {
     "data": {
      "text/plain": [
       "25"
      ]
     },
     "execution_count": 53,
     "metadata": {},
     "output_type": "execute_result"
    }
   ],
   "source": [
    "x = 12 \n",
    "y = 13 \n",
    "x + y"
   ]
  },
  {
   "cell_type": "code",
   "execution_count": 55,
   "id": "b219dba5-e69a-40e8-8cc1-480f4a631cc4",
   "metadata": {},
   "outputs": [
    {
     "name": "stdout",
     "output_type": "stream",
     "text": [
      "25\n"
     ]
    }
   ],
   "source": [
    "def square(x):\n",
    "    return x * x\n",
    "print(square(5))\n"
   ]
  },
  {
   "cell_type": "code",
   "execution_count": 59,
   "id": "35f93ad0-de2a-442d-a51f-c885c2aa4fbc",
   "metadata": {},
   "outputs": [
    {
     "name": "stdout",
     "output_type": "stream",
     "text": [
      "Even\n"
     ]
    }
   ],
   "source": [
    "def A(num):\n",
    "    if num % 2 == 0:\n",
    "        return \"Even\"\n",
    "    else:\n",
    "        return \"Odd\"\n",
    "print(A(4))\n"
   ]
  },
  {
   "cell_type": "code",
   "execution_count": 88,
   "id": "5efe56bd-2c37-4e55-8e17-a7ffe6187473",
   "metadata": {},
   "outputs": [
    {
     "name": "stdout",
     "output_type": "stream",
     "text": [
      "Even\n"
     ]
    }
   ],
   "source": [
    "def A(num):\n",
    "    if num % 2 == 0:\n",
    "        return \"Even\"\n",
    "    else:\n",
    "        return \"Odd\"\n",
    "print(A(100))\n"
   ]
  },
  {
   "cell_type": "code",
   "execution_count": 108,
   "id": "39dcf21b-89b8-437a-9e62-902cf0080b06",
   "metadata": {},
   "outputs": [
    {
     "name": "stdout",
     "output_type": "stream",
     "text": [
      "HELLO\n"
     ]
    }
   ],
   "source": [
    "def to_uppercase(input_string):\n",
    "    return input_string.upper()\n",
    "\n",
    "# Example usage:\n",
    "result = to_uppercase(\"hello\")\n",
    "print(result)  # Output: \"HELLO\"\n"
   ]
  },
  {
   "cell_type": "code",
   "execution_count": 114,
   "id": "81482c3b-fc08-4b86-8951-1c8b616f36f5",
   "metadata": {},
   "outputs": [
    {
     "name": "stdout",
     "output_type": "stream",
     "text": [
      "ANANDKUMAR\n"
     ]
    }
   ],
   "source": [
    "def to_uppercase(input_string):\n",
    "    return input_string.upper()\n",
    "    \n",
    "c = to_uppercase(\"anandkumar\")\n",
    "print(c)"
   ]
  },
  {
   "cell_type": "code",
   "execution_count": 122,
   "id": "5810632b-5066-41fd-a356-a89176b4e378",
   "metadata": {},
   "outputs": [
    {
     "name": "stdout",
     "output_type": "stream",
     "text": [
      "ANAND\n"
     ]
    }
   ],
   "source": [
    "a = \"anand\"\n",
    "print(a.upper())"
   ]
  },
  {
   "cell_type": "code",
   "execution_count": 124,
   "id": "3264d024-6dc9-4280-bcd3-63c6089d32ed",
   "metadata": {},
   "outputs": [
    {
     "name": "stdout",
     "output_type": "stream",
     "text": [
      "MY NAME ANAND KUMAR FROM UTTER PRADESH GHAZIPUR 233311\n"
     ]
    }
   ],
   "source": [
    "a = \"my name anand kumar from utter pradesh ghazipur 233311\"\n",
    "print(a.upper())"
   ]
  },
  {
   "cell_type": "code",
   "execution_count": 126,
   "id": "423c22fd-e5d6-44ee-8366-23087d7ed631",
   "metadata": {},
   "outputs": [
    {
     "name": "stdout",
     "output_type": "stream",
     "text": [
      "my name anand kumar from utter pradesh ghazipur 233311\n"
     ]
    }
   ],
   "source": [
    "a = \"MY NAME ANAND KUMAR FROM UTTER PRADESH GHAZIPUR 233311\"\n",
    "print(a.lower())"
   ]
  },
  {
   "cell_type": "code",
   "execution_count": 144,
   "id": "6d86ae50-d81c-4e31-8fc0-4c59f7f6191a",
   "metadata": {},
   "outputs": [
    {
     "name": "stdout",
     "output_type": "stream",
     "text": [
      "my name anand kumar from utter pradesh ghazipur 233311 ['MY NAME ANAND KUMAR FROM UTTER PRADESH GHAZIPUR 233311']\n"
     ]
    }
   ],
   "source": [
    "a = \"MY NAME ANAND KUMAR FROM UTTER PRADESH GHAZIPUR 233311\"\n",
    "print(a.lower() , [a])"
   ]
  },
  {
   "cell_type": "code",
   "execution_count": null,
   "id": "c1eb4a43-fd11-4722-a0b3-1f6b5b702c02",
   "metadata": {},
   "outputs": [],
   "source": []
  }
 ],
 "metadata": {
  "kernelspec": {
   "display_name": "Python 3 (ipykernel)",
   "language": "python",
   "name": "python3"
  },
  "language_info": {
   "codemirror_mode": {
    "name": "ipython",
    "version": 3
   },
   "file_extension": ".py",
   "mimetype": "text/x-python",
   "name": "python",
   "nbconvert_exporter": "python",
   "pygments_lexer": "ipython3",
   "version": "3.12.7"
  }
 },
 "nbformat": 4,
 "nbformat_minor": 5
}
