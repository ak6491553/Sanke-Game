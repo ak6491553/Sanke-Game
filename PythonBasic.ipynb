{
 "cells": [
  {
   "cell_type": "code",
   "execution_count": 2,
   "id": "6d4208a4-0667-42ce-84bf-e97cc1ba851c",
   "metadata": {},
   "outputs": [
    {
     "name": "stdout",
     "output_type": "stream",
     "text": [
      "anand\n",
      "ghazipur\n"
     ]
    }
   ],
   "source": [
    "print('anand')\n",
    "print('ghazipur')"
   ]
  },
  {
   "cell_type": "markdown",
   "id": "3b8769e4-e275-4c16-8782-a7a746c53475",
   "metadata": {},
   "source": [
    "# Comment\n",
    "## Comment\n",
    "* Topic 1\n",
    "* Topic 2"
   ]
  },
  {
   "cell_type": "code",
   "execution_count": 8,
   "id": "81d746aa-9a6c-4f23-bb1f-f15805c4b4fe",
   "metadata": {},
   "outputs": [
    {
     "name": "stdout",
     "output_type": "stream",
     "text": [
      "anything\n"
     ]
    }
   ],
   "source": [
    "# This is a comment \n",
    "print(\"anything\") # using print function"
   ]
  },
  {
   "cell_type": "code",
   "execution_count": 10,
   "id": "54d92dca-909d-4456-ac5d-e1df436b78c6",
   "metadata": {},
   "outputs": [
    {
     "name": "stdout",
     "output_type": "stream",
     "text": [
      "Something\n"
     ]
    }
   ],
   "source": [
    "'''This is\n",
    "a multiline\n",
    "comment'''\n",
    "print('Something')"
   ]
  },
  {
   "cell_type": "code",
   "execution_count": 12,
   "id": "8d7dc966-15e9-4d03-8e45-30d5ea6907e5",
   "metadata": {},
   "outputs": [
    {
     "name": "stdout",
     "output_type": "stream",
     "text": [
      "2\n"
     ]
    }
   ],
   "source": [
    "x = 2\n",
    "print(x)"
   ]
  },
  {
   "cell_type": "code",
   "execution_count": 18,
   "id": "dadaf729-5610-475a-a731-fb4470662ce5",
   "metadata": {},
   "outputs": [
    {
     "name": "stdout",
     "output_type": "stream",
     "text": [
      "My name is my family Anand\n"
     ]
    }
   ],
   "source": [
    "name = 'my family Anand'\n",
    "print('My name is',name)"
   ]
  },
  {
   "cell_type": "code",
   "execution_count": 20,
   "id": "ae119f90-c445-44e9-b9c9-09a835ff739c",
   "metadata": {},
   "outputs": [
    {
     "name": "stdout",
     "output_type": "stream",
     "text": [
      "2 3\n"
     ]
    }
   ],
   "source": [
    "x=2\n",
    "y=3 \n",
    "print(x,y)"
   ]
  },
  {
   "cell_type": "code",
   "execution_count": 22,
   "id": "15e397d0-fed4-4608-a7f1-993354dcaf2d",
   "metadata": {},
   "outputs": [
    {
     "data": {
      "text/plain": [
       "5"
      ]
     },
     "execution_count": 22,
     "metadata": {},
     "output_type": "execute_result"
    }
   ],
   "source": [
    "x + y"
   ]
  },
  {
   "cell_type": "code",
   "execution_count": 24,
   "id": "e0f63df5-51bf-46a6-a633-e99421383a9c",
   "metadata": {},
   "outputs": [
    {
     "name": "stdout",
     "output_type": "stream",
     "text": [
      "cells\n"
     ]
    }
   ],
   "source": [
    "print ('''cells''')"
   ]
  },
  {
   "cell_type": "code",
   "execution_count": 26,
   "id": "7b79552f-d717-4495-9120-440a04287e9c",
   "metadata": {},
   "outputs": [
    {
     "ename": "SyntaxError",
     "evalue": "invalid syntax (2221019783.py, line 1)",
     "output_type": "error",
     "traceback": [
      "\u001b[1;36m  Cell \u001b[1;32mIn[26], line 1\u001b[1;36m\u001b[0m\n\u001b[1;33m    print ('cell type':''markdown'',''metadata'')\u001b[0m\n\u001b[1;37m                      ^\u001b[0m\n\u001b[1;31mSyntaxError\u001b[0m\u001b[1;31m:\u001b[0m invalid syntax\n"
     ]
    }
   ],
   "source": [
    "print ('cell type':''markdown'',''metadata'')\n",
    "print ('colad_type':'text',''id'':'1pSmghBc8LLD')"
   ]
  },
  {
   "cell_type": "code",
   "execution_count": 36,
   "id": "552d8649-8622-43fa-b398-b895ec921e7b",
   "metadata": {},
   "outputs": [
    {
     "name": "stdout",
     "output_type": "stream",
     "text": [
      "Hello world\n"
     ]
    }
   ],
   "source": [
    "print ('Hello world')"
   ]
  },
  {
   "cell_type": "code",
   "execution_count": 38,
   "id": "0d893bf8-b29f-4e7e-8ca9-5d116f28a6cd",
   "metadata": {},
   "outputs": [
    {
     "name": "stdout",
     "output_type": "stream",
     "text": [
      "Hello World\n"
     ]
    }
   ],
   "source": [
    "print (\"Hello World\")"
   ]
  },
  {
   "cell_type": "code",
   "execution_count": 40,
   "id": "e3b21e11-5c76-44a8-a3c5-7188e58e213a",
   "metadata": {},
   "outputs": [
    {
     "name": "stdout",
     "output_type": "stream",
     "text": [
      "this is a single comment\n"
     ]
    }
   ],
   "source": [
    "# this is a single cNotImplement\n",
    "print(\"this is a single comment\")"
   ]
  },
  {
   "cell_type": "code",
   "execution_count": 42,
   "id": "c6bbdb41-f6d0-4710-917d-9d4347739732",
   "metadata": {},
   "outputs": [
    {
     "name": "stdout",
     "output_type": "stream",
     "text": [
      "this is not a single comment\n"
     ]
    }
   ],
   "source": [
    "print(\"this is not a single comment\") #but\n"
   ]
  },
  {
   "cell_type": "code",
   "execution_count": 44,
   "id": "0286b5dd-249c-4655-a1af-fb472c7412dc",
   "metadata": {},
   "outputs": [
    {
     "name": "stdout",
     "output_type": "stream",
     "text": [
      "anand\n"
     ]
    }
   ],
   "source": [
    "##Variables\n",
    "print(\"anand\")"
   ]
  },
  {
   "cell_type": "code",
   "execution_count": 46,
   "id": "a01d4f19-d3df-4c01-811b-ef7b22330bca",
   "metadata": {},
   "outputs": [
    {
     "name": "stdout",
     "output_type": "stream",
     "text": [
      "7\n"
     ]
    }
   ],
   "source": [
    "# bind number 7 to variable 'x'\n",
    "x = 7 # the value of 7 is assigned to x \n",
    "\n",
    "# print value of 'x'\n",
    "print(x)"
   ]
  },
  {
   "cell_type": "code",
   "execution_count": 48,
   "id": "05cf499c-eade-4575-b5db-13b8ea88860f",
   "metadata": {},
   "outputs": [
    {
     "name": "stdin",
     "output_type": "stream",
     "text": [
      "what is your name ANAND\n"
     ]
    },
    {
     "name": "stdout",
     "output_type": "stream",
     "text": [
      "welcome to the world of python, ANAND\n"
     ]
    }
   ],
   "source": [
    "name = input('what is your name')\n",
    "print('welcome to the world of python,', name )"
   ]
  },
  {
   "cell_type": "code",
   "execution_count": 54,
   "id": "b85a1630-1676-4753-96b7-617e6adc3fd5",
   "metadata": {},
   "outputs": [
    {
     "data": {
      "text/plain": [
       "int"
      ]
     },
     "execution_count": 54,
     "metadata": {},
     "output_type": "execute_result"
    }
   ],
   "source": [
    "# create int type variable\n",
    "x = 7 # 7 is an integer\n",
    "\n",
    "# check type of variable \n",
    "type(x)"
   ]
  },
  {
   "cell_type": "code",
   "execution_count": 56,
   "id": "2096f183-2a3d-4ba0-956f-63fb7873d742",
   "metadata": {},
   "outputs": [
    {
     "data": {
      "text/plain": [
       "float"
      ]
     },
     "execution_count": 56,
     "metadata": {},
     "output_type": "execute_result"
    }
   ],
   "source": [
    "# create float type variable \n",
    "x = 3.14 # 3.14 is a decimal number with a characteristic and mantissa\n",
    "\n",
    "# check type of variable \n",
    "type(x)"
   ]
  },
  {
   "cell_type": "code",
   "execution_count": 68,
   "id": "61b20f48-ccaf-4f66-a819-07810aba35da",
   "metadata": {},
   "outputs": [
    {
     "name": "stdout",
     "output_type": "stream",
     "text": [
      "['3', 9, 'x', 3.14]\n"
     ]
    }
   ],
   "source": [
    "# define a llist\n",
    "list_example = ['3',9,'x',3.14]\n",
    "print(list_example)"
   ]
  },
  {
   "cell_type": "code",
   "execution_count": 60,
   "id": "19c64323-d3ba-4548-9421-f2e578cd3448",
   "metadata": {},
   "outputs": [
    {
     "name": "stdout",
     "output_type": "stream",
     "text": [
      "[734, 73, 3.14]\n"
     ]
    }
   ],
   "source": [
    "# difine a list \n",
    "list_example = [734,73,3.14]\n",
    "print(list_example)"
   ]
  },
  {
   "cell_type": "code",
   "execution_count": 66,
   "id": "9754dcb8-3989-46ce-9504-3f2260db558f",
   "metadata": {},
   "outputs": [
    {
     "name": "stdout",
     "output_type": "stream",
     "text": [
      "(5, 11, 'hede')\n",
      "3\n"
     ]
    },
    {
     "data": {
      "text/plain": [
       "tuple"
      ]
     },
     "execution_count": 66,
     "metadata": {},
     "output_type": "execute_result"
    }
   ],
   "source": [
    "# difine a tuple \n",
    "tuple_example = (5,11,\"hede\")\n",
    "print(tuple_example)\n",
    "\n",
    "# check length of tupleab\n",
    "print(len(tuple_example))\n",
    "type(tuple_example)"
   ]
  },
  {
   "cell_type": "code",
   "execution_count": 104,
   "id": "54d73d0d-9100-4aa8-8dc1-67abf13a7df6",
   "metadata": {},
   "outputs": [
    {
     "name": "stdout",
     "output_type": "stream",
     "text": [
      "3\n"
     ]
    },
    {
     "data": {
      "text/plain": [
       "range"
      ]
     },
     "execution_count": 104,
     "metadata": {},
     "output_type": "execute_result"
    }
   ],
   "source": [
    "# define a range with (start,stop,step)\n",
    "range_example = range(0,20,8)\n",
    "print(len(range_example))\n",
    "# check type \n",
    "type(range_example)"
   ]
  },
  {
   "cell_type": "code",
   "execution_count": 106,
   "id": "541ef2cc-59f0-4386-a5b7-694af7278a9d",
   "metadata": {},
   "outputs": [
    {
     "data": {
      "text/plain": [
       "range(0, 5)"
      ]
     },
     "execution_count": 106,
     "metadata": {},
     "output_type": "execute_result"
    }
   ],
   "source": [
    "range(5) # 01234"
   ]
  },
  {
   "cell_type": "code",
   "execution_count": 108,
   "id": "72a6c3c1-f021-41a1-b048-4fac6d188ab4",
   "metadata": {},
   "outputs": [
    {
     "data": {
      "text/plain": [
       "[0, 1, 2, 3, 4]"
      ]
     },
     "execution_count": 108,
     "metadata": {},
     "output_type": "execute_result"
    }
   ],
   "source": [
    "list(range(5))"
   ]
  },
  {
   "cell_type": "code",
   "execution_count": 110,
   "id": "db210fe1-b9ab-4f82-bdc4-bf23054f624d",
   "metadata": {},
   "outputs": [
    {
     "data": {
      "text/plain": [
       "range(2, 9)"
      ]
     },
     "execution_count": 110,
     "metadata": {},
     "output_type": "execute_result"
    }
   ],
   "source": [
    "range(2,9)"
   ]
  },
  {
   "cell_type": "code",
   "execution_count": 112,
   "id": "364b70e2-26e9-4e18-937e-47191cf84f7e",
   "metadata": {},
   "outputs": [
    {
     "data": {
      "text/plain": [
       "[2, 3, 4, 5, 6, 7, 8]"
      ]
     },
     "execution_count": 112,
     "metadata": {},
     "output_type": "execute_result"
    }
   ],
   "source": [
    "list(range(2,9))"
   ]
  },
  {
   "cell_type": "code",
   "execution_count": 124,
   "id": "1c2363c4-9143-42eb-b1b5-053bb5afe63e",
   "metadata": {},
   "outputs": [
    {
     "data": {
      "text/plain": [
       "10"
      ]
     },
     "execution_count": 124,
     "metadata": {},
     "output_type": "execute_result"
    }
   ],
   "source": [
    "r1= range(0,20,2)\n",
    "len(r1)"
   ]
  },
  {
   "cell_type": "code",
   "execution_count": 118,
   "id": "10feb43d-2201-42b8-9146-89a1d20b5c49",
   "metadata": {},
   "outputs": [
    {
     "data": {
      "text/plain": [
       "[0, 2, 4, 6, 8, 10, 12, 14, 16, 18]"
      ]
     },
     "execution_count": 118,
     "metadata": {},
     "output_type": "execute_result"
    }
   ],
   "source": [
    "list(range(0,20,2))"
   ]
  },
  {
   "cell_type": "code",
   "execution_count": 120,
   "id": "b1062673-387d-4a45-a59c-89f6b9794ceb",
   "metadata": {},
   "outputs": [
    {
     "data": {
      "text/plain": [
       "5"
      ]
     },
     "execution_count": 120,
     "metadata": {},
     "output_type": "execute_result"
    }
   ],
   "source": [
    "s = 'hello'\n",
    "len(s)"
   ]
  },
  {
   "cell_type": "code",
   "execution_count": 132,
   "id": "08159027-5b9e-4c8c-8aca-731bcf64006b",
   "metadata": {},
   "outputs": [
    {
     "name": "stdout",
     "output_type": "stream",
     "text": [
      "{'one': 1, 'two': 2, 'three': 3}\n"
     ]
    },
    {
     "data": {
      "text/plain": [
       "dict"
      ]
     },
     "execution_count": 132,
     "metadata": {},
     "output_type": "execute_result"
    }
   ],
   "source": [
    "# define a dictionary\n",
    "b = {'one': 1, 'two':2, 'three': 3}\n",
    "print(b)\n",
    "\n",
    "# check type\n",
    "type(b)"
   ]
  },
  {
   "cell_type": "code",
   "execution_count": 134,
   "id": "01f5d377-2710-4820-9270-683d5db3ff2d",
   "metadata": {},
   "outputs": [
    {
     "data": {
      "text/plain": [
       "bool"
      ]
     },
     "execution_count": 134,
     "metadata": {},
     "output_type": "execute_result"
    }
   ],
   "source": [
    "# define a 'False' boolean\n",
    "boolean = False\n",
    "\n",
    "# check ttype\n",
    "type(boolean)"
   ]
  },
  {
   "cell_type": "code",
   "execution_count": 136,
   "id": "5bb7b225-2065-48ec-aded-2027928cb909",
   "metadata": {},
   "outputs": [
    {
     "data": {
      "text/plain": [
       "bool"
      ]
     },
     "execution_count": 136,
     "metadata": {},
     "output_type": "execute_result"
    }
   ],
   "source": [
    "boolen = True\n",
    "type(boolean)"
   ]
  },
  {
   "cell_type": "code",
   "execution_count": 138,
   "id": "cbc1df0e-4393-4e87-81ac-ce1493b3f37c",
   "metadata": {},
   "outputs": [
    {
     "name": "stdout",
     "output_type": "stream",
     "text": [
      "{0, 1, 4, 5, 9}\n"
     ]
    }
   ],
   "source": [
    "set_of_number = {0,9,1,5,4}\n",
    "print(set_of_number)"
   ]
  },
  {
   "cell_type": "code",
   "execution_count": 7,
   "id": "f0af8cf8-5507-446e-80d7-57d4ad9dcc02",
   "metadata": {},
   "outputs": [
    {
     "name": "stdout",
     "output_type": "stream",
     "text": [
      "['n', ' ', 'm', 'i', 'e', 's', 'a', 'h', 'y', 'k']\n"
     ]
    }
   ],
   "source": [
    "names = (\"my name is khan\")\n",
    "names_set = set(names)\n",
    "unique_names = list(names_set)\n",
    "print(unique_names)"
   ]
  },
  {
   "cell_type": "code",
   "execution_count": null,
   "id": "9fc070d5-27c6-41b4-9ae9-8c798f1d9e9c",
   "metadata": {},
   "outputs": [],
   "source": []
  }
 ],
 "metadata": {
  "kernelspec": {
   "display_name": "Python 3 (ipykernel)",
   "language": "python",
   "name": "python3"
  },
  "language_info": {
   "codemirror_mode": {
    "name": "ipython",
    "version": 3
   },
   "file_extension": ".py",
   "mimetype": "text/x-python",
   "name": "python",
   "nbconvert_exporter": "python",
   "pygments_lexer": "ipython3",
   "version": "3.12.7"
  }
 },
 "nbformat": 4,
 "nbformat_minor": 5
}
