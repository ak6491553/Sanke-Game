{
 "cells": [
  {
   "cell_type": "code",
   "execution_count": 1,
   "id": "f07b265a-f06c-4f5d-8964-9f37c113767b",
   "metadata": {},
   "outputs": [
    {
     "name": "stdin",
     "output_type": "stream",
     "text": [
      "Enter a number: 4\n"
     ]
    },
    {
     "name": "stdout",
     "output_type": "stream",
     "text": [
      "The number is even \n"
     ]
    }
   ],
   "source": [
    "# Even or Odd Checker:\n",
    "# Write a program that takes an integer as input and checks if the number is even or odd using if and elif.\n",
    "\n",
    "A = int(input(\"Enter a number:\"))\n",
    "if A % 2 == 0:\n",
    "    print(\"The number is even \")\n",
    "elif A % 2 != 0:\n",
    "    print(\"The number is odd\")\n",
    "    \n",
    "\n",
    "\n"
   ]
  },
  {
   "cell_type": "code",
   "execution_count": 3,
   "id": "d0229bda-a383-489f-8def-c745221c420b",
   "metadata": {},
   "outputs": [
    {
     "name": "stdin",
     "output_type": "stream",
     "text": [
      "Enter the student's score grade based: 45\n"
     ]
    },
    {
     "name": "stdout",
     "output_type": "stream",
     "text": [
      "The student's grade is: F\n"
     ]
    }
   ],
   "source": [
    "#  Given a student's score, write a program that assigns a letter grade based on the following conditions:\n",
    "# 90 and above: \"A\"\n",
    "# 80 to 89: \"B\"\n",
    "# 70 to 79: \"C\"\n",
    "# 60 to 69: \"D\"\n",
    "# Below 60: \"F\n",
    "\n",
    "score = int(input(\"Enter the student's score grade based:\"))\n",
    "\n",
    "if score >= 90:\n",
    "    grade = \"A\"\n",
    "if (score >= 80 and score <= 89):\n",
    "    grade = \"B\"\n",
    "if (score >= 70 and score <= 79):\n",
    "    grade = \"C\"\n",
    "if (score >= 60 and score <= 69):\n",
    "    grade = \"D\"\n",
    "elif score <= 60:\n",
    "    grade = 'F'\n",
    "print(f\"The student's grade is: {grade}\")\n",
    "    "
   ]
  },
  {
   "cell_type": "code",
   "execution_count": 5,
   "id": "0b7bb780-8228-40c8-977c-9a4dbbcc3f70",
   "metadata": {},
   "outputs": [
    {
     "name": "stdin",
     "output_type": "stream",
     "text": [
      "Enter the number: 55\n"
     ]
    },
    {
     "name": "stdout",
     "output_type": "stream",
     "text": [
      "1 X 1 = 55\n",
      "1 X 3 = 165\n",
      "1 X 5 = 275\n",
      "1 X 7 = 385\n",
      "1 X 9 = 495\n",
      "1 X 11 = 605\n"
     ]
    }
   ],
   "source": [
    "#  Write a program that takes a number as input and uses a while loop to count how many digits the number has.\n",
    "i = int(input(\"Enter the number:\"))\n",
    "n = 1\n",
    "\n",
    "while n <= 12:\n",
    "    print(f'{1} X {n} = {i*n}')\n",
    "    n += 2\n",
    "    \n",
    "\n"
   ]
  },
  {
   "cell_type": "code",
   "execution_count": 13,
   "id": "0e42c60f-e4ee-440a-832b-4811f16965dc",
   "metadata": {},
   "outputs": [],
   "source": [
    "# Write a program that takes a number as input and uses a while loop to reverse its digits. For example, input 1234 should output 4321.\n",
    "n = 4\n",
    "while n <= 1:\n",
    "    print(n)\n",
    "    n -= 1\n",
    "    \n"
   ]
  },
  {
   "cell_type": "code",
   "execution_count": 15,
   "id": "b5c26bea-90f1-4994-9655-28024e0cb4ad",
   "metadata": {},
   "outputs": [
    {
     "data": {
      "text/plain": [
       "['a', 'n', 'a', 'n', 'd', ' ', 'k', 'u', 'm', 'a', 'r']"
      ]
     },
     "execution_count": 15,
     "metadata": {},
     "output_type": "execute_result"
    }
   ],
   "source": [
    "name = 'anand kumar'\n",
    "li = [i for i in name]\n",
    "li\n",
    "\n",
    "\n"
   ]
  },
  {
   "cell_type": "code",
   "execution_count": 17,
   "id": "0815afcd-0eef-4635-87ba-6cacc6f5bcf6",
   "metadata": {},
   "outputs": [
    {
     "name": "stdout",
     "output_type": "stream",
     "text": [
      "[0, 1, 4, 9, 16, 25, 36, 49, 64, 81, 100, 121]\n"
     ]
    }
   ],
   "source": [
    "# create a new list of powers of 0 to 9\n",
    "powers = [num**2 for num in range(12)] # a for loop define with \n",
    "print(powers)"
   ]
  },
  {
   "cell_type": "code",
   "execution_count": 19,
   "id": "afaf71a3-f28f-4176-98e4-492846ce5068",
   "metadata": {},
   "outputs": [
    {
     "data": {
      "text/plain": [
       "['a', 'n', 'a', 'n', 'd', ' ', 'k', 'u', 'm', 'a', 'r']"
      ]
     },
     "execution_count": 19,
     "metadata": {},
     "output_type": "execute_result"
    }
   ],
   "source": [
    "name = 'anand kumar'\n",
    "li = [i for i in name]\n",
    "li"
   ]
  },
  {
   "cell_type": "code",
   "execution_count": 21,
   "id": "d730ab27-8e3a-4e6b-a4f5-4bfb5eabea67",
   "metadata": {},
   "outputs": [
    {
     "name": "stdout",
     "output_type": "stream",
     "text": [
      "[0, 2, 4, 6, 8, 10, 12, 14, 16, 18, 20, 22]\n"
     ]
    }
   ],
   "source": [
    "powers = [num*2 for num in range(12)] # a for loop define with \n",
    "print(powers)"
   ]
  },
  {
   "cell_type": "code",
   "execution_count": 23,
   "id": "4e317382-511b-4448-ac08-dce24281f39a",
   "metadata": {},
   "outputs": [
    {
     "name": "stdout",
     "output_type": "stream",
     "text": [
      "<generator object <genexpr> at 0x00000155239E57D0>\n"
     ]
    }
   ],
   "source": [
    "# create a new list of powers of 0 to 9\n",
    "powers = (num**2 for num in range(12)) # a for loop define with \n",
    "print(powers)\n"
   ]
  },
  {
   "cell_type": "code",
   "execution_count": 25,
   "id": "f41f7d58-74fd-487a-bc35-ddabc1ad1624",
   "metadata": {},
   "outputs": [
    {
     "data": {
      "text/plain": [
       "0"
      ]
     },
     "execution_count": 25,
     "metadata": {},
     "output_type": "execute_result"
    }
   ],
   "source": [
    "\n",
    "\n",
    "next(powers) # call the first value in the generator\n",
    "\n"
   ]
  },
  {
   "cell_type": "code",
   "execution_count": 27,
   "id": "947bdd90-0a17-4afc-8197-6a33c595b1b3",
   "metadata": {},
   "outputs": [
    {
     "data": {
      "text/plain": [
       "1"
      ]
     },
     "execution_count": 27,
     "metadata": {},
     "output_type": "execute_result"
    }
   ],
   "source": [
    "next(powers) # call the next value in the generator\n"
   ]
  },
  {
   "cell_type": "code",
   "execution_count": 29,
   "id": "78dcfef0-71b4-46e8-8f60-f248ec25efa3",
   "metadata": {},
   "outputs": [
    {
     "name": "stdout",
     "output_type": "stream",
     "text": [
      "juicy apple\n",
      "big apple\n",
      "tasty apple\n",
      "juicy banana\n",
      "big banana\n",
      "tasty banana\n",
      "juicy charry\n",
      "big charry\n",
      "tasty charry\n"
     ]
    }
   ],
   "source": [
    "adjectives = [ \"juicy\",\"big\",\"tasty\"] # list 1\n",
    "fruite = [\"apple\",\"banana\",\"charry\"] # list 2\n",
    "\n",
    "for fruit in fruite: # looping over list 2 - outer loop \n",
    "    for adjective in adjectives: # looping over list 1 - outer loop\n",
    "        print(adjective,fruit)"
   ]
  },
  {
   "cell_type": "code",
   "execution_count": 31,
   "id": "5848bc21-6d35-4926-b393-169c53d304c3",
   "metadata": {},
   "outputs": [
    {
     "name": "stdout",
     "output_type": "stream",
     "text": [
      "juicy apple\n",
      "juicy banana\n",
      "juicy charry\n",
      "big apple\n",
      "big banana\n",
      "big charry\n",
      "tasty apple\n",
      "tasty banana\n",
      "tasty charry\n"
     ]
    }
   ],
   "source": [
    "adjectives = [ \"juicy\",\"big\",\"tasty\"] # list 1\n",
    "fruite = [\"apple\",\"banana\",\"charry\"] # list 2\n",
    "\n",
    "for adjective in adjectives: # looping over list 2 - outer loop \n",
    "    for fruit in fruite: # looping over list 1 - outer loop\n",
    "        print(adjective,fruit)"
   ]
  },
  {
   "cell_type": "code",
   "execution_count": 33,
   "id": "2ee56d39-a1a0-4af7-92bd-5b1257094114",
   "metadata": {},
   "outputs": [
    {
     "name": "stdout",
     "output_type": "stream",
     "text": [
      "juicy apple\n",
      "big apple\n",
      "tasty apple\n",
      "juicy banana\n",
      "big banana\n",
      "tasty banana\n",
      "juicy charry\n",
      "big charry\n",
      "tasty charry\n"
     ]
    }
   ],
   "source": [
    "adjectives = [ \"juicy\",\"big\",\"tasty\"] # list 1\n",
    "fruits = [\"apple\",\"banana\",\"charry\"] # list 2\n",
    "\n",
    "for fruit in fruits: # looping over list 2 - outer loop \n",
    "    for adjective in adjectives: # looping over list 1 - outer loop\n",
    "        print(adjective,fruit)"
   ]
  },
  {
   "cell_type": "markdown",
   "id": "ea109586-086d-43f5-82bc-8ac80189e434",
   "metadata": {},
   "source": [
    "# 'Break' statement"
   ]
  },
  {
   "cell_type": "code",
   "execution_count": 36,
   "id": "e2afe644-5b6f-41ca-9959-55331d650ba3",
   "metadata": {},
   "outputs": [
    {
     "name": "stdout",
     "output_type": "stream",
     "text": [
      "0\n",
      "1\n",
      "2\n",
      "3\n"
     ]
    }
   ],
   "source": [
    "n = 0\n",
    "while n < 6:\n",
    "    print(n)\n",
    "    if n == 3:\n",
    "        break\n",
    "    n += 1\n",
    "    "
   ]
  },
  {
   "cell_type": "code",
   "execution_count": 1,
   "id": "162c9673-bdd2-4d72-b917-0f43c219ad99",
   "metadata": {},
   "outputs": [
    {
     "name": "stdout",
     "output_type": "stream",
     "text": [
      "10\n",
      "11\n",
      "12\n",
      "13\n",
      "14\n",
      "15\n",
      "16\n"
     ]
    }
   ],
   "source": [
    "n = 10\n",
    "while n < 18:\n",
    "    print(n)\n",
    "    if n == 16:\n",
    "        break \n",
    "    n += 1\n"
   ]
  },
  {
   "cell_type": "code",
   "execution_count": 5,
   "id": "aec269f2-fb7e-42b9-b564-74d4829393de",
   "metadata": {},
   "outputs": [
    {
     "name": "stdout",
     "output_type": "stream",
     "text": [
      "1\n",
      "2\n",
      "3\n"
     ]
    }
   ],
   "source": [
    "n =  1\n",
    "while n < 6:\n",
    "    print(n)\n",
    "    if n ==  3:\n",
    "       break \n",
    "    n += 1\n"
   ]
  },
  {
   "cell_type": "code",
   "execution_count": 38,
   "id": "e42d7c65-0a8a-49af-a666-1d1126c8cbc7",
   "metadata": {},
   "outputs": [
    {
     "name": "stdout",
     "output_type": "stream",
     "text": [
      "1\n",
      "2\n",
      "4\n",
      "5\n",
      "6\n"
     ]
    }
   ],
   "source": [
    "n = 0\n",
    "while n < 6:\n",
    "    n += 1\n",
    "    if n == 3:\n",
    "        continue\n",
    "    print(n)"
   ]
  },
  {
   "cell_type": "code",
   "execution_count": 40,
   "id": "e045adc6-5e0d-40ab-818f-f0e15c41d814",
   "metadata": {},
   "outputs": [
    {
     "name": "stdout",
     "output_type": "stream",
     "text": [
      "apple\n",
      "banana\n"
     ]
    }
   ],
   "source": [
    "fruits = [\"apple\",\"banana\",\"cherry\"]\n",
    "for fruit in fruits:\n",
    "    print(fruit)\n",
    "    if fruit == \"banana\":\n",
    "        break"
   ]
  },
  {
   "cell_type": "code",
   "execution_count": 27,
   "id": "69bc7874-ce41-40f2-a929-6620ae1dc93b",
   "metadata": {},
   "outputs": [
    {
     "name": "stdout",
     "output_type": "stream",
     "text": [
      "apple\n",
      "banana\n"
     ]
    }
   ],
   "source": [
    "fruits = [\"apple\",\"banana\",\"cherry\"]\n",
    "for fruit in fruits:\n",
    "    if fruit == \"cherry\":\n",
    "        continue\n",
    "    print(fruit)"
   ]
  },
  {
   "cell_type": "markdown",
   "id": "b00fd678-e028-411d-9ddb-f677c81b95a9",
   "metadata": {},
   "source": [
    "# Exception Handling Examples"
   ]
  },
  {
   "cell_type": "code",
   "execution_count": 30,
   "id": "770fc26f-9fce-4a05-a3c7-5bb1dedc1853",
   "metadata": {},
   "outputs": [
    {
     "name": "stdout",
     "output_type": "stream",
     "text": [
      "An exception occured\n"
     ]
    }
   ],
   "source": [
    "try:\n",
    "    print(x_val)\n",
    "except:\n",
    "    print('An exception occured')"
   ]
  },
  {
   "cell_type": "code",
   "execution_count": 56,
   "id": "8411c69a-8965-44cb-84d6-11a9b2e6366c",
   "metadata": {},
   "outputs": [
    {
     "ename": "NameError",
     "evalue": "name 'x_val' is not defined",
     "output_type": "error",
     "traceback": [
      "\u001b[1;31m---------------------------------------------------------------------------\u001b[0m",
      "\u001b[1;31mNameError\u001b[0m                                 Traceback (most recent call last)",
      "Cell \u001b[1;32mIn[56], line 1\u001b[0m\n\u001b[1;32m----> 1\u001b[0m \u001b[38;5;28mprint\u001b[39m(x_val)\n",
      "\u001b[1;31mNameError\u001b[0m: name 'x_val' is not defined"
     ]
    }
   ],
   "source": [
    "print(x_val)"
   ]
  },
  {
   "cell_type": "code",
   "execution_count": 58,
   "id": "6d9a9823-2690-4a0e-b980-345f57338e5e",
   "metadata": {},
   "outputs": [
    {
     "name": "stdout",
     "output_type": "stream",
     "text": [
      "somrthing else went wrong\n"
     ]
    }
   ],
   "source": [
    "try:\n",
    "    print(1+'a')\n",
    "except NameError:\n",
    "    print(\"x_val is not defined\")\n",
    "except:\n",
    "    print(\"somrthing else went wrong\")"
   ]
  },
  {
   "cell_type": "code",
   "execution_count": 60,
   "id": "558241dc-35a9-4222-8e7e-b185f8205b3d",
   "metadata": {},
   "outputs": [
    {
     "name": "stdout",
     "output_type": "stream",
     "text": [
      "somrthing went wrong\n",
      "The 'try except' is finished!\n"
     ]
    }
   ],
   "source": [
    "try:\n",
    "    print(x)\n",
    "except:\n",
    "    print(\"somrthing went wrong\")\n",
    "finally:\n",
    "    print(\"The 'try except' is finished!\")\n",
    "\n"
   ]
  },
  {
   "cell_type": "code",
   "execution_count": 62,
   "id": "d2295d34-c76b-4293-be65-1f479c2236a0",
   "metadata": {},
   "outputs": [
    {
     "name": "stdin",
     "output_type": "stream",
     "text": [
      "Enter a number: anand\n"
     ]
    },
    {
     "name": "stdout",
     "output_type": "stream",
     "text": [
      "Invalid input...\n"
     ]
    }
   ],
   "source": [
    "try:\n",
    "    n = int(input(\"Enter a number:\"))\n",
    "    if n % 2 == 0:\n",
    "        print('even')\n",
    "    else:print('odd')\n",
    "except:\n",
    "    print(\"Invalid input...\")"
   ]
  },
  {
   "cell_type": "code",
   "execution_count": 64,
   "id": "a098dddd-4981-4c65-9913-b0cd9dfe2651",
   "metadata": {},
   "outputs": [
    {
     "ename": "Exception",
     "evalue": "sorry , paisa Zero  hai!",
     "output_type": "error",
     "traceback": [
      "\u001b[1;31m---------------------------------------------------------------------------\u001b[0m",
      "\u001b[1;31mException\u001b[0m                                 Traceback (most recent call last)",
      "Cell \u001b[1;32mIn[64], line 4\u001b[0m\n\u001b[0;32m      2\u001b[0m x \u001b[38;5;241m=\u001b[39m \u001b[38;5;241m-\u001b[39m\u001b[38;5;241m1\u001b[39m\n\u001b[0;32m      3\u001b[0m \u001b[38;5;28;01mif\u001b[39;00m x \u001b[38;5;241m<\u001b[39m \u001b[38;5;241m0\u001b[39m:\n\u001b[1;32m----> 4\u001b[0m     \u001b[38;5;28;01mraise\u001b[39;00m \u001b[38;5;167;01mException\u001b[39;00m(\u001b[38;5;124m\"\u001b[39m\u001b[38;5;124msorry , paisa Zero  hai!\u001b[39m\u001b[38;5;124m\"\u001b[39m)\n",
      "\u001b[1;31mException\u001b[0m: sorry , paisa Zero  hai!"
     ]
    }
   ],
   "source": [
    "# raise a error\n",
    "x = -1\n",
    "if x < 0:\n",
    "    raise Exception(\"sorry , paisa Zero  hai!\")\n"
   ]
  },
  {
   "cell_type": "code",
   "execution_count": 74,
   "id": "20285d45-2f6e-42bf-abff-593414f46b9c",
   "metadata": {},
   "outputs": [
    {
     "ename": "TypeError",
     "evalue": "only good boy are allowed !",
     "output_type": "error",
     "traceback": [
      "\u001b[1;31m---------------------------------------------------------------------------\u001b[0m",
      "\u001b[1;31mTypeError\u001b[0m                                 Traceback (most recent call last)",
      "Cell \u001b[1;32mIn[74], line 4\u001b[0m\n\u001b[0;32m      1\u001b[0m x \u001b[38;5;241m=\u001b[39m \u001b[38;5;124m'\u001b[39m\u001b[38;5;124mhello\u001b[39m\u001b[38;5;124m'\u001b[39m\n\u001b[0;32m      3\u001b[0m \u001b[38;5;28;01mif\u001b[39;00m \u001b[38;5;129;01mnot\u001b[39;00m \u001b[38;5;28mtype\u001b[39m(x) \u001b[38;5;129;01mis\u001b[39;00m \u001b[38;5;28mint\u001b[39m:\n\u001b[1;32m----> 4\u001b[0m     \u001b[38;5;28;01mraise\u001b[39;00m \u001b[38;5;167;01mTypeError\u001b[39;00m(\u001b[38;5;124m\"\u001b[39m\u001b[38;5;124monly good boy are allowed !\u001b[39m\u001b[38;5;124m\"\u001b[39m)\n",
      "\u001b[1;31mTypeError\u001b[0m: only good boy are allowed !"
     ]
    }
   ],
   "source": [
    "x = 'hello'\n",
    "\n",
    "if not type(x) is int:\n",
    "    raise TypeError(\"only good boy are allowed !\")"
   ]
  },
  {
   "cell_type": "code",
   "execution_count": 95,
   "id": "7b5118fa-1044-4446-a582-5a5748c92afa",
   "metadata": {},
   "outputs": [
    {
     "name": "stdout",
     "output_type": "stream",
     "text": [
      "10.0\n"
     ]
    }
   ],
   "source": [
    "def is_simpleIntrest(principle , rate , time):\n",
    "\n",
    "  Intrest = principle*rate*time/100\n",
    "  return Intrest\n",
    "print(is_simpleIntrest(10 , 10 , 10))\n",
    "\n",
    "\n"
   ]
  },
  {
   "cell_type": "code",
   "execution_count": 40,
   "id": "48934940-78d6-4565-a5d0-bc0db960aea7",
   "metadata": {},
   "outputs": [
    {
     "name": "stdout",
     "output_type": "stream",
     "text": [
      "100.0\n"
     ]
    }
   ],
   "source": [
    "def is_simple(principle , Rate , Time):\n",
    "\n",
    "    Intrest = principle*Rate*Time/100\n",
    "    return Intrest\n",
    "print(is_simple(100 , 10 , 10))"
   ]
  },
  {
   "cell_type": "code",
   "execution_count": 56,
   "id": "33e09977-c6bc-42eb-aff8-a2ad03f749c3",
   "metadata": {},
   "outputs": [
    {
     "name": "stdout",
     "output_type": "stream",
     "text": [
      "420.0\n"
     ]
    }
   ],
   "source": [
    "def is_CI(principle, Rate ,Time):\n",
    "    intrest = principle *(1+Rate/100)*Time\n",
    "    return intrest\n",
    "print(is_CI(100, 5 ,4))\n",
    "\n"
   ]
  },
  {
   "cell_type": "code",
   "execution_count": 66,
   "id": "a634241f-051a-4e05-8ed0-e402e48035b2",
   "metadata": {},
   "outputs": [
    {
     "name": "stdin",
     "output_type": "stream",
     "text": [
      "Enter redius:  5\n"
     ]
    },
    {
     "data": {
      "text/plain": [
       "78.5"
      ]
     },
     "execution_count": 66,
     "metadata": {},
     "output_type": "execute_result"
    }
   ],
   "source": [
    "def areaofcircle():\n",
    "    r = int(input(\"Enter redius: \"))\n",
    "    area = 3.14*r**2\n",
    "    return area\n",
    "areaofcircle()    "
   ]
  },
  {
   "cell_type": "code",
   "execution_count": 64,
   "id": "9f3743dd-6bf9-4f51-88a2-ebce6269fd80",
   "metadata": {},
   "outputs": [
    {
     "name": "stdin",
     "output_type": "stream",
     "text": [
      "Enter redius:  2\n"
     ]
    },
    {
     "data": {
      "text/plain": [
       "12.56"
      ]
     },
     "execution_count": 64,
     "metadata": {},
     "output_type": "execute_result"
    }
   ],
   "source": [
    "areaofcircle()"
   ]
  },
  {
   "cell_type": "code",
   "execution_count": 68,
   "id": "44ae3950-2102-40b3-9330-508bc8c39113",
   "metadata": {},
   "outputs": [
    {
     "name": "stdout",
     "output_type": "stream",
     "text": [
      "27\n"
     ]
    }
   ],
   "source": [
    "anand = lambda a : a**3\n",
    "print(anand)"
   ]
  },
  {
   "cell_type": "code",
   "execution_count": 70,
   "id": "29bca382-6dd3-49c6-9d04-9b4df1163bc5",
   "metadata": {},
   "outputs": [
    {
     "name": "stdout",
     "output_type": "stream",
     "text": [
      "125\n"
     ]
    }
   ],
   "source": [
    "print(anand(5))"
   ]
  },
  {
   "cell_type": "code",
   "execution_count": 78,
   "id": "2e7e24d1-4a38-4174-a77e-1a634a670e76",
   "metadata": {},
   "outputs": [
    {
     "name": "stdout",
     "output_type": "stream",
     "text": [
      "25\n"
     ]
    }
   ],
   "source": [
    "squreroot = lambda a,b : a**2 + 2*a*b + b**2\n",
    "\n",
    "print(squreroot(2,3))"
   ]
  },
  {
   "cell_type": "code",
   "execution_count": 112,
   "id": "a3197a37-1d01-4802-82fd-839f2895def1",
   "metadata": {},
   "outputs": [
    {
     "name": "stdout",
     "output_type": "stream",
     "text": [
      "5.0\n"
     ]
    }
   ],
   "source": [
    "cube_root = lambda a : a**(1/3)\n",
    "print(cube_root(125))"
   ]
  },
  {
   "cell_type": "markdown",
   "id": "695b13f8-f0bf-4dad-ad8d-d3b9715d7d7a",
   "metadata": {},
   "source": [
    "# using of def"
   ]
  },
  {
   "cell_type": "code",
   "execution_count": 114,
   "id": "31982444-c163-4f7f-a90c-d9cf015a7e8b",
   "metadata": {},
   "outputs": [
    {
     "name": "stdout",
     "output_type": "stream",
     "text": [
      "25\n"
     ]
    }
   ],
   "source": [
    "def square(x):\n",
    "    return x ** 2\n",
    "print(square(5))"
   ]
  },
  {
   "cell_type": "code",
   "execution_count": 116,
   "id": "54c5e2ed-62e6-412a-8ed9-bcc839fbef58",
   "metadata": {},
   "outputs": [
    {
     "name": "stdout",
     "output_type": "stream",
     "text": [
      "7\n"
     ]
    }
   ],
   "source": [
    "def add(x, y):\n",
    "    return x + y\n",
    "print(add(2,5))"
   ]
  },
  {
   "cell_type": "code",
   "execution_count": 118,
   "id": "1ed9ff17-ab94-4a0f-a8af-d8dd8eb65ea4",
   "metadata": {},
   "outputs": [
    {
     "name": "stdout",
     "output_type": "stream",
     "text": [
      "True\n"
     ]
    }
   ],
   "source": [
    "def is_even(x):\n",
    "    return x % 2 == 0\n",
    "print(is_even(40))"
   ]
  },
  {
   "cell_type": "code",
   "execution_count": 120,
   "id": "316a5ee9-b9e3-4148-a51b-ea453214f558",
   "metadata": {},
   "outputs": [
    {
     "name": "stdout",
     "output_type": "stream",
     "text": [
      "24\n"
     ]
    }
   ],
   "source": [
    "def factorial(n):\n",
    "    if n == 0:\n",
    "        return 1\n",
    "    else:\n",
    "        return n * factorial(n-1)\n",
    "print(factorial(4))"
   ]
  },
  {
   "cell_type": "code",
   "execution_count": 122,
   "id": "004df0f8-f37c-4fe3-9759-5dc8726331e8",
   "metadata": {},
   "outputs": [
    {
     "name": "stdout",
     "output_type": "stream",
     "text": [
      "7\n"
     ]
    }
   ],
   "source": [
    "def maximum(x, y):\n",
    "    return x if x > y else y\n",
    "print(maximum(5,7))"
   ]
  },
  {
   "cell_type": "markdown",
   "id": "f0ef1ee8-02c0-4a90-acff-49610987276d",
   "metadata": {},
   "source": [
    "# using of lambda"
   ]
  },
  {
   "cell_type": "code",
   "execution_count": 126,
   "id": "87351719-4bbd-4707-8f8b-26670482b89d",
   "metadata": {},
   "outputs": [
    {
     "name": "stdout",
     "output_type": "stream",
     "text": [
      "49\n"
     ]
    }
   ],
   "source": [
    "square = lambda x: x ** 2\n",
    "print(square(7))"
   ]
  },
  {
   "cell_type": "code",
   "execution_count": 128,
   "id": "ab5775fa-8a9c-4b81-8954-0a9eaaadc7b2",
   "metadata": {},
   "outputs": [
    {
     "name": "stdout",
     "output_type": "stream",
     "text": [
      "12\n"
     ]
    }
   ],
   "source": [
    "add = lambda x, y: x + y\n",
    "print(add(7,5))"
   ]
  },
  {
   "cell_type": "code",
   "execution_count": 130,
   "id": "54e02f06-4de8-43d6-add2-fbcd01da4650",
   "metadata": {},
   "outputs": [
    {
     "name": "stdout",
     "output_type": "stream",
     "text": [
      "False\n"
     ]
    }
   ],
   "source": [
    "is_even = lambda x: x % 2 == 0\n",
    "print(is_even(7))"
   ]
  },
  {
   "cell_type": "code",
   "execution_count": 148,
   "id": "e12bb953-67ff-4966-981e-dd07270f7e13",
   "metadata": {},
   "outputs": [
    {
     "name": "stdout",
     "output_type": "stream",
     "text": [
      "10\n"
     ]
    }
   ],
   "source": [
    "maximum = lambda x, y: x if x > y else y\n",
    "print(maximum(7 , 10))"
   ]
  },
  {
   "cell_type": "code",
   "execution_count": 158,
   "id": "a0571b64-0218-4d9a-809c-679d3c297667",
   "metadata": {},
   "outputs": [
    {
     "name": "stdout",
     "output_type": "stream",
     "text": [
      "40\n"
     ]
    }
   ],
   "source": [
    "def multiply(x, y, z):\n",
    "    return x * y * z\n",
    "print(multiply(2 , 4 , 5))"
   ]
  },
  {
   "cell_type": "code",
   "execution_count": 170,
   "id": "58b53cda-878c-4cd3-8ddc-d1d88ffcc771",
   "metadata": {},
   "outputs": [
    {
     "name": "stdout",
     "output_type": "stream",
     "text": [
      "5\n"
     ]
    }
   ],
   "source": [
    "def string_length(x):\n",
    "    return len(x)\n",
    "print(string_length('anand'))"
   ]
  },
  {
   "cell_type": "code",
   "execution_count": 180,
   "id": "0cd27c09-c956-4df5-bab4-389108a1c9d8",
   "metadata": {},
   "outputs": [
    {
     "name": "stdout",
     "output_type": "stream",
     "text": [
      "True\n"
     ]
    }
   ],
   "source": [
    "def is_prime(n):\n",
    "    if n < 2:\n",
    "        return False\n",
    "    for i in range(2, int(n ** 0.5) + 1):\n",
    "        if n % i == 0:\n",
    "            return False\n",
    "    return True\n",
    "print(is_prime(3))"
   ]
  },
  {
   "cell_type": "code",
   "execution_count": 182,
   "id": "39c2b1d4-d81a-4e30-b203-fb4792650349",
   "metadata": {},
   "outputs": [
    {
     "name": "stdout",
     "output_type": "stream",
     "text": [
      "anandkumar\n"
     ]
    }
   ],
   "source": [
    "def concatenate(s1, s2):\n",
    "    return s1 + s2\n",
    "print(concatenate(\"anand\" , \"kumar\"))"
   ]
  },
  {
   "cell_type": "code",
   "execution_count": 184,
   "id": "56a59da2-b6d1-4d1a-8738-3a8c40a61e26",
   "metadata": {},
   "outputs": [
    {
     "name": "stdout",
     "output_type": "stream",
     "text": [
      "78.53981633974483\n"
     ]
    }
   ],
   "source": [
    "import math\n",
    "def circle_area(radius):\n",
    "    return math.pi * (radius ** 2)\n",
    "print(circle_area(5))"
   ]
  },
  {
   "cell_type": "code",
   "execution_count": 188,
   "id": "4bf38153-2c2d-423c-a092-1b25d003f2e0",
   "metadata": {},
   "outputs": [
    {
     "name": "stdout",
     "output_type": "stream",
     "text": [
      "80\n"
     ]
    }
   ],
   "source": [
    "multiply = lambda x, y, z: x * y * z\n",
    "print(multiply(2 , 5 , 8))"
   ]
  },
  {
   "cell_type": "code",
   "execution_count": 190,
   "id": "3cc9ccab-184c-438d-a053-162d3a41eca9",
   "metadata": {},
   "outputs": [
    {
     "name": "stdout",
     "output_type": "stream",
     "text": [
      "10\n"
     ]
    }
   ],
   "source": [
    "string_length = lambda s: len(s)\n",
    "print(string_length(\"anandkumar\"))"
   ]
  },
  {
   "cell_type": "code",
   "execution_count": 192,
   "id": "f1e41820-e3d7-4de3-8187-21d311eba87c",
   "metadata": {},
   "outputs": [
    {
     "name": "stdout",
     "output_type": "stream",
     "text": [
      "True\n"
     ]
    }
   ],
   "source": [
    "is_prime = lambda n: n > 1 and all(n % i != 0 for i in range(2, int(n ** 0.5) + 1))\n",
    "print(is_prime(7))"
   ]
  },
  {
   "cell_type": "code",
   "execution_count": 194,
   "id": "22580b18-bb25-4054-843a-8deb584ed6a8",
   "metadata": {},
   "outputs": [
    {
     "name": "stdout",
     "output_type": "stream",
     "text": [
      "anandkumararvindkumar\n"
     ]
    }
   ],
   "source": [
    "concatenate = lambda s1, s2: s1 + s2\n",
    "print(concatenate(\"anandkumar\" , \"arvindkumar\"))"
   ]
  },
  {
   "cell_type": "code",
   "execution_count": 196,
   "id": "3dc50a8a-a8d1-45e3-b480-76fc254bd49c",
   "metadata": {},
   "outputs": [
    {
     "name": "stdout",
     "output_type": "stream",
     "text": [
      "78.53981633974483\n"
     ]
    }
   ],
   "source": [
    "import math\n",
    "circle_area = lambda radius: math.pi * (radius ** 2)\n",
    "print(circle_area(5))"
   ]
  },
  {
   "cell_type": "markdown",
   "id": "5c3a1c3f-c462-4c6c-b99f-bf45aaf508b3",
   "metadata": {},
   "source": [
    "# Built - in Modules"
   ]
  },
  {
   "cell_type": "markdown",
   "id": "257c2e95-f2da-4943-a9b3-962718402023",
   "metadata": {},
   "source": [
    "* Datetime module-Built-in Module"
   ]
  },
  {
   "cell_type": "markdown",
   "id": "6ed2108b-3c46-42b9-9228-2c5929b77797",
   "metadata": {},
   "source": [
    "### Python Date-.now()"
   ]
  },
  {
   "cell_type": "code",
   "execution_count": 4,
   "id": "1612d124-5c7f-4797-acbf-cb4d8651b43c",
   "metadata": {},
   "outputs": [
    {
     "name": "stdout",
     "output_type": "stream",
     "text": [
      "2025-01-02 11:44:11.583474\n"
     ]
    }
   ],
   "source": [
    "# import datetime module \n",
    "import datetime\n",
    "\n",
    "# .now() is built - in datetime function\n",
    "time_now = datetime.datetime.now()\n",
    "print(time_now)\n"
   ]
  },
  {
   "cell_type": "code",
   "execution_count": 6,
   "id": "39ef6b7a-c998-415a-8c10-0b7bba6cb8d8",
   "metadata": {},
   "outputs": [
    {
     "name": "stdout",
     "output_type": "stream",
     "text": [
      "2025\n"
     ]
    }
   ],
   "source": [
    "print(time_now.year)"
   ]
  },
  {
   "cell_type": "code",
   "execution_count": 8,
   "id": "8da5e744-182e-4ad0-83a7-14c784abc9b5",
   "metadata": {},
   "outputs": [
    {
     "name": "stdout",
     "output_type": "stream",
     "text": [
      "11\n"
     ]
    }
   ],
   "source": [
    "print(time_now.hour)"
   ]
  },
  {
   "cell_type": "code",
   "execution_count": 12,
   "id": "ceb455f7-8986-4232-adba-79d8dfadefb4",
   "metadata": {},
   "outputs": [
    {
     "name": "stdout",
     "output_type": "stream",
     "text": [
      "Thursday\n"
     ]
    }
   ],
   "source": [
    "print(time_now.strftime(\"%A\"))"
   ]
  },
  {
   "cell_type": "code",
   "execution_count": 14,
   "id": "6fa7aa76-ad56-4d42-b1b7-e90849249692",
   "metadata": {},
   "outputs": [
    {
     "name": "stdout",
     "output_type": "stream",
     "text": [
      "January\n"
     ]
    }
   ],
   "source": [
    "print(time_now.strftime(\"%B\"))"
   ]
  },
  {
   "cell_type": "code",
   "execution_count": 16,
   "id": "4cbf2a77-98c6-4dac-8ca6-e487583d1ee2",
   "metadata": {},
   "outputs": [
    {
     "name": "stdout",
     "output_type": "stream",
     "text": [
      "2025\n"
     ]
    }
   ],
   "source": [
    "print(time_now.strftime(\"%Y\"))"
   ]
  },
  {
   "cell_type": "code",
   "execution_count": 18,
   "id": "82298675-0bb9-4e82-874e-fdc94ab6ea4d",
   "metadata": {},
   "outputs": [
    {
     "name": "stdout",
     "output_type": "stream",
     "text": [
      "02\n"
     ]
    }
   ],
   "source": [
    "print(time_now.strftime(\"%d\"))"
   ]
  },
  {
   "cell_type": "code",
   "execution_count": null,
   "id": "329e0fcd-fdd4-412a-8dec-1dca3fdaf2ef",
   "metadata": {},
   "outputs": [],
   "source": [
    "print(time_now.strftime(\"%A\"))"
   ]
  },
  {
   "cell_type": "code",
   "execution_count": 20,
   "id": "21d71ef6-7a30-42e2-9904-aea10be1b3b9",
   "metadata": {},
   "outputs": [
    {
     "name": "stdout",
     "output_type": "stream",
     "text": [
      "44\n"
     ]
    }
   ],
   "source": [
    "print(time_now.minute)"
   ]
  },
  {
   "cell_type": "code",
   "execution_count": 40,
   "id": "2e50c923-c858-42d6-b8fd-0e727b0b76eb",
   "metadata": {},
   "outputs": [
    {
     "name": "stdout",
     "output_type": "stream",
     "text": [
      "Sunday\n"
     ]
    }
   ],
   "source": [
    "x = datetime.datetime(2023 , 9 , 10)\n",
    "print(x.strftime(\"%A\"))"
   ]
  },
  {
   "cell_type": "code",
   "execution_count": 1,
   "id": "62d96ca8-03c6-45b4-aaa9-5e0bad075b21",
   "metadata": {},
   "outputs": [
    {
     "name": "stdout",
     "output_type": "stream",
     "text": [
      "1\n"
     ]
    }
   ],
   "source": [
    "import random\n",
    "random_integer = random.randint(1 , 6)\n",
    "print(random_integer)"
   ]
  },
  {
   "cell_type": "code",
   "execution_count": 3,
   "id": "19c9c5e3-399f-49b4-93f7-cdf6f5567b95",
   "metadata": {},
   "outputs": [
    {
     "name": "stdout",
     "output_type": "stream",
     "text": [
      "4\n"
     ]
    }
   ],
   "source": [
    "import random\n",
    "random_number = random.randrange(1 , 6)\n",
    "print(random_number)"
   ]
  },
  {
   "cell_type": "code",
   "execution_count": 9,
   "id": "47cbadce-82c2-4a05-b898-f573e02a1b21",
   "metadata": {},
   "outputs": [
    {
     "data": {
      "text/plain": [
       "'Head'"
      ]
     },
     "execution_count": 9,
     "metadata": {},
     "output_type": "execute_result"
    }
   ],
   "source": [
    "toss = ['Head','Tail']\n",
    "\n",
    "random.choice(toss)"
   ]
  },
  {
   "cell_type": "code",
   "execution_count": 57,
   "id": "6ae1d05f-74ee-4caa-8e18-80349ffdd8c4",
   "metadata": {},
   "outputs": [
    {
     "name": "stdout",
     "output_type": "stream",
     "text": [
      "good morning anand\n"
     ]
    }
   ],
   "source": [
    "import mymodul\n",
    "mymodulee = mymodul.greeting('anand')\n"
   ]
  },
  {
   "cell_type": "code",
   "execution_count": 67,
   "id": "c2a8efd0-7b21-4b05-adee-0da3b3f9d2f0",
   "metadata": {},
   "outputs": [
    {
     "name": "stdout",
     "output_type": "stream",
     "text": [
      "kaise ho aap ,sir ji thik hu\n"
     ]
    }
   ],
   "source": [
    "import mymodul\n",
    "mymodul.anand('thik hu')"
   ]
  },
  {
   "cell_type": "code",
   "execution_count": 69,
   "id": "1c496df4-6ade-4713-9032-9e58faf784af",
   "metadata": {},
   "outputs": [
    {
     "name": "stdout",
     "output_type": "stream",
     "text": [
      "kaise ho aap ,sir ji thik hu\n"
     ]
    }
   ],
   "source": [
    "import mymodul\n",
    "mymodul.anand('thik hu')"
   ]
  },
  {
   "cell_type": "code",
   "execution_count": 71,
   "id": "de75edfe-7aa4-4dfd-9fb5-9487b7c05f62",
   "metadata": {},
   "outputs": [
    {
     "name": "stdout",
     "output_type": "stream",
     "text": [
      "bhai kya hal chal hai sabh thik hai n ? Sarvik\n"
     ]
    }
   ],
   "source": [
    "import mymodul\n",
    "mymodul.sarvik('Sarvik')"
   ]
  },
  {
   "cell_type": "code",
   "execution_count": 73,
   "id": "74e27271-3055-406f-ab9e-4c17597230ec",
   "metadata": {},
   "outputs": [
    {
     "name": "stdout",
     "output_type": "stream",
     "text": [
      "aap kya kar rahe ho thik hu\n"
     ]
    }
   ],
   "source": [
    "import ak\n",
    "ak.ak('thik hu')"
   ]
  },
  {
   "cell_type": "code",
   "execution_count": 1,
   "id": "702b36eb-d29f-44cd-b5c8-22aaf385adbf",
   "metadata": {},
   "outputs": [
    {
     "data": {
      "text/plain": [
       "9"
      ]
     },
     "execution_count": 1,
     "metadata": {},
     "output_type": "execute_result"
    }
   ],
   "source": [
    "import ak\n",
    "\n",
    "ak.add(4,5)"
   ]
  },
  {
   "cell_type": "code",
   "execution_count": 3,
   "id": "8053200b-c306-41ac-8100-59a30472b9b2",
   "metadata": {},
   "outputs": [],
   "source": [
    "import ak as kk"
   ]
  },
  {
   "cell_type": "code",
   "execution_count": 7,
   "id": "cfceb3bf-6675-4205-a6bb-9ec605a05e35",
   "metadata": {},
   "outputs": [
    {
     "data": {
      "text/plain": [
       "2"
      ]
     },
     "execution_count": 7,
     "metadata": {},
     "output_type": "execute_result"
    }
   ],
   "source": [
    "\n",
    "kk.subtract(6,4)"
   ]
  },
  {
   "cell_type": "code",
   "execution_count": null,
   "id": "2ebdabd3-8ec4-4355-a7f3-87eb2361261c",
   "metadata": {},
   "outputs": [],
   "source": []
  }
 ],
 "metadata": {
  "kernelspec": {
   "display_name": "Python 3 (ipykernel)",
   "language": "python",
   "name": "python3"
  },
  "language_info": {
   "codemirror_mode": {
    "name": "ipython",
    "version": 3
   },
   "file_extension": ".py",
   "mimetype": "text/x-python",
   "name": "python",
   "nbconvert_exporter": "python",
   "pygments_lexer": "ipython3",
   "version": "3.12.7"
  }
 },
 "nbformat": 4,
 "nbformat_minor": 5
}
