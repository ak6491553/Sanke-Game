{
 "cells": [
  {
   "cell_type": "code",
   "execution_count": 29,
   "id": "fcb98e8d-a82f-4e82-ae0c-0dfb03419e7f",
   "metadata": {},
   "outputs": [],
   "source": [
    "class SchoolMember: #Parent Class / Base cclass\n",
    "    def __init__(self,name,age):\n",
    "        self.name = name\n",
    "        self.age = age\n",
    "        print('School Member initialized')\n",
    "    def tell(self):\n",
    "        print(f'Name : {self.name} Age : {self.age}',end=\" \")\n",
    "    "
   ]
  },
  {
   "cell_type": "code",
   "execution_count": 31,
   "id": "b27b8386-4b1b-45ba-ba68-94bd8d1a9c9c",
   "metadata": {},
   "outputs": [],
   "source": [
    "class Teacher(SchoolMember): # child class/Drived cclas\n",
    "    def __init__(self,name,age,salary):\n",
    "        SchoolMember.__init__(self,name,age)\n",
    "        self.salary = salary\n",
    "        print('Teacher initialized')\n",
    "\n",
    "    def tell(self):\n",
    "        SchoolMember.tell(self)\n",
    "        print(f'Salary : {self.salary}')\n",
    "     \n",
    "    "
   ]
  },
  {
   "cell_type": "code",
   "execution_count": 41,
   "id": "4d7610c2-f9ad-44f7-99f8-3c0fe0f6871a",
   "metadata": {},
   "outputs": [],
   "source": [
    "class student(SchoolMember):\n",
    "    def __init__(self,name,age,grade):\n",
    "        SchoolMember.__init__(self,name,age)\n",
    "        self.grade = grade\n",
    "        print('grade initialized')\n",
    "\n",
    "    def tell(self):\n",
    "        SchoolMember.tell(self)\n",
    "        print(f'Grade : {self.grade}')\n",
    "        "
   ]
  },
  {
   "cell_type": "code",
   "execution_count": 45,
   "id": "542388b4-ee93-4321-81b8-d64208f32a3c",
   "metadata": {},
   "outputs": [
    {
     "name": "stdout",
     "output_type": "stream",
     "text": [
      "Name : pooja Age : 40 Salary : 150000\n"
     ]
    }
   ],
   "source": [
    "t1.tell()"
   ]
  },
  {
   "cell_type": "code",
   "execution_count": 47,
   "id": "4a49c722-f3f9-40dd-ac4e-21b8e685a078",
   "metadata": {},
   "outputs": [
    {
     "name": "stdout",
     "output_type": "stream",
     "text": [
      "School Member initialized\n",
      "grade initialized\n"
     ]
    }
   ],
   "source": [
    "t2 = student('anand',24,'A')"
   ]
  },
  {
   "cell_type": "code",
   "execution_count": 49,
   "id": "75f5ea70-3b8e-44ef-99fd-f62d734cd25f",
   "metadata": {},
   "outputs": [
    {
     "name": "stdout",
     "output_type": "stream",
     "text": [
      "Name : anand Age : 24 Grade : A\n"
     ]
    }
   ],
   "source": [
    "t2.tell()"
   ]
  },
  {
   "cell_type": "code",
   "execution_count": null,
   "id": "eb1e8f3d-8cae-4dde-a108-7a44b888981f",
   "metadata": {},
   "outputs": [],
   "source": []
  }
 ],
 "metadata": {
  "kernelspec": {
   "display_name": "Python 3 (ipykernel)",
   "language": "python",
   "name": "python3"
  },
  "language_info": {
   "codemirror_mode": {
    "name": "ipython",
    "version": 3
   },
   "file_extension": ".py",
   "mimetype": "text/x-python",
   "name": "python",
   "nbconvert_exporter": "python",
   "pygments_lexer": "ipython3",
   "version": "3.12.7"
  }
 },
 "nbformat": 4,
 "nbformat_minor": 5
}
