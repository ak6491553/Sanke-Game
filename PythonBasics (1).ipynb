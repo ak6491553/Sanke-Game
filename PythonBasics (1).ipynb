{
 "cells": [
  {
   "cell_type": "code",
   "execution_count": null,
   "id": "3fc2dd4d-d97d-410c-98be-cf37824f7ed5",
   "metadata": {},
   "outputs": [],
   "source": [
    "print('Hello')\n",
    "print(5+9)"
   ]
  },
  {
   "cell_type": "markdown",
   "id": "559ae333-4e96-4e53-b3a3-60ad7bfa69d6",
   "metadata": {},
   "source": [
    "# Comments\n",
    "* Topic 1\n",
    "* Topic 2\n",
    "# new Comment\n",
    "1. Topic 1\n",
    "2. Topic 2\n",
    "## heading\n",
    "a) Topic 1<br>\n",
    "b) Topic 2"
   ]
  },
  {
   "cell_type": "code",
   "execution_count": null,
   "id": "ddef807b-eb0b-4f22-84b4-1130b59cd826",
   "metadata": {},
   "outputs": [],
   "source": [
    "# This is a comment\n",
    "print('Something') # using print function"
   ]
  },
  {
   "cell_type": "code",
   "execution_count": null,
   "id": "69cd8ba1-cc2d-4c37-a727-fd2a7b015f18",
   "metadata": {},
   "outputs": [],
   "source": [
    "'''\n",
    "This is \n",
    "a multiline \n",
    "comment\n",
    "'''\n",
    "print('anything')"
   ]
  },
  {
   "cell_type": "code",
   "execution_count": 38,
   "id": "35c88408-94cb-4c84-873e-e610ee6ef1de",
   "metadata": {},
   "outputs": [
    {
     "name": "stdout",
     "output_type": "stream",
     "text": [
      "7\n",
      "7\n"
     ]
    },
    {
     "data": {
      "text/plain": [
       "7"
      ]
     },
     "execution_count": 38,
     "metadata": {},
     "output_type": "execute_result"
    }
   ],
   "source": [
    "v = 7\n",
    "print(x)\n",
    "print(v)\n",
    "y\n",
    "\n"
   ]
  },
  {
   "cell_type": "code",
   "execution_count": null,
   "id": "31fddf56-e011-4faa-ac9f-4165b068d005",
   "metadata": {},
   "outputs": [],
   "source": [
    "name = 'Vikas'\n",
    "print('My name is',name)"
   ]
  },
  {
   "cell_type": "code",
   "execution_count": null,
   "id": "a1ee95aa-d661-491a-ae1c-33912fae4a39",
   "metadata": {},
   "outputs": [],
   "source": [
    "name = input('Enter your name: ')\n",
    "print('My name is',name)"
   ]
  },
  {
   "cell_type": "code",
   "execution_count": 7,
   "id": "740da9e1-3d93-4b5a-af06-b1b6b531dc97",
   "metadata": {},
   "outputs": [
    {
     "name": "stdin",
     "output_type": "stream",
     "text": [
      "Enter your name:  anand\n",
      "Enter your age:  23\n"
     ]
    },
    {
     "name": "stdout",
     "output_type": "stream",
     "text": [
      "My name is anand and I am 23 years old.\n"
     ]
    }
   ],
   "source": [
    "name = input('Enter your name: ')\n",
    "age = input('Enter your age: ')\n",
    "print('My name is',name,'and I am',age,'years old.')"
   ]
  },
  {
   "cell_type": "code",
   "execution_count": 9,
   "id": "5405f1c7-a38e-4076-8f27-adce5a07e1a6",
   "metadata": {},
   "outputs": [
    {
     "name": "stdout",
     "output_type": "stream",
     "text": [
      "My name is {} and I am {} years old anand                  \n"
     ]
    }
   ],
   "source": [
    "print('My name is {} and I am {} years old',format(name,age))"
   ]
  },
  {
   "cell_type": "code",
   "execution_count": null,
   "id": "7d7222f6-acc3-4de1-8ec8-867f96e7ba46",
   "metadata": {},
   "outputs": [],
   "source": [
    "radius = 4.8\n",
    "pi = 3.14\n",
    "area = pi * radius ** 2\n",
    "print(area)"
   ]
  },
  {
   "cell_type": "code",
   "execution_count": null,
   "id": "c09710c6-d67f-4951-a1a8-c634228bbcf7",
   "metadata": {},
   "outputs": [],
   "source": [
    "x , y, z = 1,2,3\n",
    "print(x)\n",
    "print(y)\n",
    "print(z)\n",
    "print(x,y,z)\n"
   ]
  },
  {
   "cell_type": "code",
   "execution_count": null,
   "id": "f92adbe8-24f9-47eb-a718-0413e25eb133",
   "metadata": {},
   "outputs": [],
   "source": [
    "a , b, c = 100,200,300\n",
    "print(a,b,c)"
   ]
  },
  {
   "cell_type": "code",
   "execution_count": null,
   "id": "61b2a772-25a4-45ac-ba1e-242e92c8df14",
   "metadata": {},
   "outputs": [],
   "source": [
    "p = 100,200,300\n",
    "print(p)"
   ]
  },
  {
   "cell_type": "markdown",
   "id": "15a53a13-64d2-429c-8be0-7f3fa2e2fd25",
   "metadata": {},
   "source": [
    "# Data Types"
   ]
  },
  {
   "cell_type": "markdown",
   "id": "34c1f3be-5e92-4048-ad20-7b76125cae75",
   "metadata": {},
   "source": [
    "## Numeric"
   ]
  },
  {
   "cell_type": "code",
   "execution_count": null,
   "id": "ad655047-d133-4851-bcb8-aaae1ba112ee",
   "metadata": {},
   "outputs": [],
   "source": [
    "# int\n",
    "x = 7\n",
    "print(x)\n",
    "type(x)"
   ]
  },
  {
   "cell_type": "code",
   "execution_count": null,
   "id": "e3a2079a-4942-4820-ae76-df655b2668db",
   "metadata": {},
   "outputs": [],
   "source": [
    "y = 4.2\n",
    "print(y)\n",
    "type(y)"
   ]
  },
  {
   "cell_type": "code",
   "execution_count": null,
   "id": "da97383e-384b-4d04-89b6-76d16bb08400",
   "metadata": {},
   "outputs": [],
   "source": [
    "z = 1 + 3j\n",
    "print(z)\n",
    "type(z)"
   ]
  },
  {
   "cell_type": "markdown",
   "id": "5938d64e-c298-413d-93e8-8335ac8a94c8",
   "metadata": {},
   "source": [
    "## Boolean"
   ]
  },
  {
   "cell_type": "code",
   "execution_count": null,
   "id": "32155e5d-cd29-4bdf-b038-be68f803fa62",
   "metadata": {},
   "outputs": [],
   "source": [
    "a = True\n",
    "print(a)\n",
    "type(a)"
   ]
  },
  {
   "cell_type": "code",
   "execution_count": null,
   "id": "40116246-45a4-4817-987d-42ce65eff4ca",
   "metadata": {},
   "outputs": [],
   "source": [
    "b = False\n",
    "type(b)"
   ]
  },
  {
   "cell_type": "code",
   "execution_count": null,
   "id": "9091b527-97f3-426a-8d93-45086cf84570",
   "metadata": {},
   "outputs": [],
   "source": [
    "p = 5 > 4\n",
    "print(type(p))"
   ]
  },
  {
   "cell_type": "code",
   "execution_count": null,
   "id": "3f10d4c6-824b-4eb0-96cd-18647d914b4a",
   "metadata": {},
   "outputs": [],
   "source": [
    "p"
   ]
  },
  {
   "cell_type": "code",
   "execution_count": null,
   "id": "6e2b88ce-dc02-496e-88fe-1d4232029f8f",
   "metadata": {},
   "outputs": [],
   "source": [
    "6 > 10"
   ]
  },
  {
   "cell_type": "code",
   "execution_count": 15,
   "id": "982c4c46-f358-4d0d-913f-0d5b820efdc8",
   "metadata": {},
   "outputs": [
    {
     "name": "stdout",
     "output_type": "stream",
     "text": [
      "2\n"
     ]
    },
    {
     "data": {
      "text/plain": [
       "3"
      ]
     },
     "execution_count": 15,
     "metadata": {},
     "output_type": "execute_result"
    }
   ],
   "source": [
    "x = 2\n",
    "y = 3\n",
    "print(x) \n",
    "y"
   ]
  },
  {
   "cell_type": "markdown",
   "id": "83074a74-a9ca-4605-a345-d38656aaadd1",
   "metadata": {},
   "source": [
    "# Set"
   ]
  },
  {
   "cell_type": "code",
   "execution_count": 17,
   "id": "72abed6e-b5af-4f1b-aa3b-297be0b9e63d",
   "metadata": {},
   "outputs": [
    {
     "name": "stdout",
     "output_type": "stream",
     "text": [
      "{1, 2, 3, 4, 5, 6}\n"
     ]
    },
    {
     "data": {
      "text/plain": [
       "set"
      ]
     },
     "execution_count": 17,
     "metadata": {},
     "output_type": "execute_result"
    }
   ],
   "source": [
    "s = {1,2,6,5,3,4,3,2,4,5,6,4,3}\n",
    "print(s)\n",
    "type(s)"
   ]
  },
  {
   "cell_type": "code",
   "execution_count": null,
   "id": "1b9df34e-33d3-44d0-ad7a-011831ac6491",
   "metadata": {},
   "outputs": [],
   "source": [
    "s1 = {'Vikas','Shubham','Sandhya','Shubham'}\n",
    "s1"
   ]
  },
  {
   "cell_type": "code",
   "execution_count": 19,
   "id": "04a01628-865d-403a-bdc4-ac1333439fb7",
   "metadata": {},
   "outputs": [
    {
     "name": "stdout",
     "output_type": "stream",
     "text": [
      "Shubham\n"
     ]
    }
   ],
   "source": [
    "name = 'Shubham'\n",
    "print(name)"
   ]
  },
  {
   "cell_type": "code",
   "execution_count": 21,
   "id": "2034fb7e-614e-4c3e-831b-3be2b971bd5a",
   "metadata": {},
   "outputs": [
    {
     "data": {
      "text/plain": [
       "'Shubham'"
      ]
     },
     "execution_count": 21,
     "metadata": {},
     "output_type": "execute_result"
    }
   ],
   "source": [
    "name"
   ]
  },
  {
   "cell_type": "code",
   "execution_count": 23,
   "id": "a3c448ee-0bf3-4214-8615-9f364f0774d8",
   "metadata": {},
   "outputs": [
    {
     "data": {
      "text/plain": [
       "set()"
      ]
     },
     "execution_count": 23,
     "metadata": {},
     "output_type": "execute_result"
    }
   ],
   "source": [
    "s2 = set()\n",
    "s2"
   ]
  },
  {
   "cell_type": "markdown",
   "id": "abe4b056-a3b4-4bcb-aa54-c083c683494f",
   "metadata": {},
   "source": [
    "# Dictionary"
   ]
  },
  {
   "cell_type": "code",
   "execution_count": null,
   "id": "58b9f92c-263b-481b-96fe-567961b783c0",
   "metadata": {},
   "outputs": [],
   "source": [
    "d = {'a':1 , 'b':2, 'c':3}\n",
    "print(d)\n",
    "type(d)"
   ]
  },
  {
   "cell_type": "code",
   "execution_count": null,
   "id": "ad779d41-9044-4104-89b9-760ed0f49c8e",
   "metadata": {},
   "outputs": [],
   "source": [
    "d"
   ]
  },
  {
   "cell_type": "code",
   "execution_count": null,
   "id": "b18bb31c-0e7b-41f1-ae5d-4615ae566a61",
   "metadata": {},
   "outputs": [],
   "source": [
    "d1 = {}\n",
    "type(d1)"
   ]
  },
  {
   "cell_type": "code",
   "execution_count": null,
   "id": "3835e4d9-2e54-4152-b4e4-0a2e2162c47a",
   "metadata": {},
   "outputs": [],
   "source": [
    "student_marks = {'Maths': 87, 'Science':78 , 'English':70}\n",
    "student_marks"
   ]
  },
  {
   "cell_type": "markdown",
   "id": "58036a2d-2080-4be4-8a24-dc99c2f3ea5a",
   "metadata": {},
   "source": [
    "# Sequence Types\n",
    "## String"
   ]
  },
  {
   "cell_type": "code",
   "execution_count": 26,
   "id": "32cb966b-f4dc-48ce-90ec-b4be120ee1ec",
   "metadata": {},
   "outputs": [
    {
     "name": "stdout",
     "output_type": "stream",
     "text": [
      "Bhupender\n",
      "9\n"
     ]
    },
    {
     "data": {
      "text/plain": [
       "str"
      ]
     },
     "execution_count": 26,
     "metadata": {},
     "output_type": "execute_result"
    }
   ],
   "source": [
    "name = 'Bhupender'\n",
    "print(name)\n",
    "print(len(name))\n",
    "type(name)"
   ]
  },
  {
   "cell_type": "code",
   "execution_count": null,
   "id": "8d3b323f-02db-4e76-aa1e-6aeb60e5a2f9",
   "metadata": {},
   "outputs": [],
   "source": [
    "address = '4th cross road, Nandani Layout, Bengaluru- 560120'\n",
    "address"
   ]
  },
  {
   "cell_type": "code",
   "execution_count": 40,
   "id": "c7c2e0b3-2bcf-4624-ad80-469c26069673",
   "metadata": {},
   "outputs": [
    {
     "name": "stdout",
     "output_type": "stream",
     "text": [
      "11\n"
     ]
    },
    {
     "data": {
      "text/plain": [
       "str"
      ]
     },
     "execution_count": 40,
     "metadata": {},
     "output_type": "execute_result"
    }
   ],
   "source": [
    "s1 = '11'\n",
    "print(s1)\n",
    "type(s1)"
   ]
  },
  {
   "cell_type": "code",
   "execution_count": 42,
   "id": "03749683-5ad9-4444-920f-8fb80f23c8f1",
   "metadata": {},
   "outputs": [
    {
     "data": {
      "text/plain": [
       "str"
      ]
     },
     "execution_count": 42,
     "metadata": {},
     "output_type": "execute_result"
    }
   ],
   "source": [
    "type('My name is {} and I am {} years old')"
   ]
  },
  {
   "cell_type": "markdown",
   "id": "cb56eacf-9d5a-40ec-a447-df88f98b6fcc",
   "metadata": {},
   "source": [
    "## List"
   ]
  },
  {
   "cell_type": "code",
   "execution_count": null,
   "id": "6e098758-aa2b-4805-b39b-881a3a1fb8ea",
   "metadata": {},
   "outputs": [],
   "source": [
    "li = [1, 4, 7.8, 'apple','Prateek',56]\n",
    "print(li)\n",
    "type(li)"
   ]
  },
  {
   "cell_type": "code",
   "execution_count": null,
   "id": "732c8ec7-8c8a-4e2e-a2f2-04ac178434eb",
   "metadata": {},
   "outputs": [],
   "source": [
    "fruit_list = ['apple','Mango','orange','Guava','banana','Strawberry','grapes']\n",
    "print(fruit_list)\n",
    "len(fruit_list)  "
   ]
  },
  {
   "cell_type": "code",
   "execution_count": null,
   "id": "82648446-88de-4957-a3a9-8771237c9d2a",
   "metadata": {},
   "outputs": [],
   "source": [
    "len(li)"
   ]
  },
  {
   "cell_type": "markdown",
   "id": "e4fdfb99-6bb6-4db3-9467-008051efe045",
   "metadata": {},
   "source": [
    "## Tuple"
   ]
  },
  {
   "cell_type": "code",
   "execution_count": null,
   "id": "4e4c9516-f250-4acc-b73a-7ccbbc4caeaf",
   "metadata": {},
   "outputs": [],
   "source": [
    "tu = (1, 4, 7.8, 'apple','Prateek',56)\n",
    "print(tu)\n",
    "type(tu)"
   ]
  },
  {
   "cell_type": "markdown",
   "id": "1e2977e3-d6e3-468c-929a-096df07eda12",
   "metadata": {},
   "source": [
    "# Range\n",
    "## range(start,stop,step)"
   ]
  },
  {
   "cell_type": "code",
   "execution_count": null,
   "id": "033d4e4b-46f5-40c6-9cc7-9fa88ac79aed",
   "metadata": {},
   "outputs": [],
   "source": [
    "r1 = range(5)\n",
    "print(r1)\n",
    "print(len(r1))\n",
    "type(r1)"
   ]
  },
  {
   "cell_type": "code",
   "execution_count": null,
   "id": "c865e6ab-ee28-4c88-a7bf-70fe85124f99",
   "metadata": {},
   "outputs": [],
   "source": [
    "r2 = range(2,10)\n",
    "print(r2)\n",
    "print(len(r2))"
   ]
  },
  {
   "cell_type": "code",
   "execution_count": null,
   "id": "5e62249d-e9cd-4d8f-a7fe-10b5800677de",
   "metadata": {},
   "outputs": [],
   "source": [
    "r3 = range(1,21,2)\n",
    "print(r3)\n",
    "print(len(r3))"
   ]
  },
  {
   "cell_type": "code",
   "execution_count": null,
   "id": "6316e286-8730-4b59-9665-c21e94fe02ad",
   "metadata": {},
   "outputs": [],
   "source": [
    "list(r3)"
   ]
  },
  {
   "cell_type": "code",
   "execution_count": null,
   "id": "28a3beea-2c30-4b44-bb38-9ad5e42f71c6",
   "metadata": {},
   "outputs": [],
   "source": [
    "t1 = 1, 4, 7.8, 'apple','Prateek',56\n",
    "print(t1)\n",
    "type(t1)"
   ]
  },
  {
   "cell_type": "markdown",
   "id": "faeb1e55-78e4-4cec-bcfa-8cb1e7bb4321",
   "metadata": {},
   "source": [
    "# Numeric Operators"
   ]
  },
  {
   "cell_type": "code",
   "execution_count": null,
   "id": "10a7592c-616c-46bf-8d81-65a7b3edc75b",
   "metadata": {},
   "outputs": [],
   "source": [
    "x = 5\n",
    "y = 2\n",
    "z = -12"
   ]
  },
  {
   "cell_type": "code",
   "execution_count": null,
   "id": "18f72b3b-5174-4dc6-9dfb-1f63a2384041",
   "metadata": {},
   "outputs": [],
   "source": [
    "x + y"
   ]
  },
  {
   "cell_type": "code",
   "execution_count": null,
   "id": "31d0140e-b0d7-49d0-afa5-10d73e3f91da",
   "metadata": {},
   "outputs": [],
   "source": [
    "x - y"
   ]
  },
  {
   "cell_type": "code",
   "execution_count": null,
   "id": "dd09f257-4173-493d-88ac-996114fe9576",
   "metadata": {},
   "outputs": [],
   "source": [
    "x * y"
   ]
  },
  {
   "cell_type": "code",
   "execution_count": null,
   "id": "c419ee0b-33f1-48d1-a389-3465883608e7",
   "metadata": {},
   "outputs": [],
   "source": [
    "x / y"
   ]
  },
  {
   "cell_type": "code",
   "execution_count": null,
   "id": "2d67e35f-2a86-40d9-8d97-1328abfdaaa1",
   "metadata": {},
   "outputs": [],
   "source": [
    "x // y"
   ]
  },
  {
   "cell_type": "code",
   "execution_count": null,
   "id": "5e8d3a0f-1ac0-42d9-b181-d20585a760ad",
   "metadata": {},
   "outputs": [],
   "source": [
    "x % y"
   ]
  },
  {
   "cell_type": "code",
   "execution_count": null,
   "id": "67735bfd-2612-45ab-badc-96eda2c9e49a",
   "metadata": {},
   "outputs": [],
   "source": [
    "x ** y"
   ]
  },
  {
   "cell_type": "code",
   "execution_count": null,
   "id": "8b6bafa8-5ddb-40c8-99e3-d151a901475a",
   "metadata": {},
   "outputs": [],
   "source": [
    "10 ** 3"
   ]
  },
  {
   "cell_type": "code",
   "execution_count": null,
   "id": "2ba4e4a6-9fe6-475f-a589-bf0d8c1d82da",
   "metadata": {},
   "outputs": [],
   "source": [
    "abs(z)"
   ]
  },
  {
   "cell_type": "code",
   "execution_count": null,
   "id": "198e6cca-1d84-4e47-957d-7289b68b612e",
   "metadata": {},
   "outputs": [],
   "source": [
    "bin(37)"
   ]
  },
  {
   "cell_type": "code",
   "execution_count": null,
   "id": "4452b787-3262-4788-aa7e-2c2df0bcf7c8",
   "metadata": {},
   "outputs": [],
   "source": [
    "hex(37)"
   ]
  },
  {
   "cell_type": "code",
   "execution_count": null,
   "id": "259d4e23-5ef1-4943-ba78-9123a3758fc2",
   "metadata": {},
   "outputs": [],
   "source": [
    "a = input('Enter a number: ')\n",
    "b = input('Enter a number: ')\n",
    "print(a + b)"
   ]
  },
  {
   "cell_type": "code",
   "execution_count": null,
   "id": "182a0a51-075d-471d-b7f3-2e75027c6af6",
   "metadata": {},
   "outputs": [],
   "source": [
    "'1' + '1'"
   ]
  },
  {
   "cell_type": "code",
   "execution_count": null,
   "id": "14cfe973-6a67-40bc-ad81-0dc2eee3ede0",
   "metadata": {},
   "outputs": [],
   "source": [
    "'a' + 'b'"
   ]
  },
  {
   "cell_type": "code",
   "execution_count": null,
   "id": "bbdf2395-ed3c-4067-ac94-4e6c458bd0e9",
   "metadata": {},
   "outputs": [],
   "source": [
    "a = int(input('Enter a number: '))\n",
    "b = int(input('Enter a number: '))\n",
    "print(a + b)"
   ]
  },
  {
   "cell_type": "code",
   "execution_count": null,
   "id": "4cf7b875-adf7-4e33-9598-e75c26194b70",
   "metadata": {},
   "outputs": [],
   "source": [
    "radius = float(input('Enter radius: '))\n",
    "pi = 3.14\n",
    "area = pi * radius ** 2\n",
    "print('Area of the circle:',area)"
   ]
  },
  {
   "cell_type": "code",
   "execution_count": null,
   "id": "d8e1b7bd-0134-4236-b53e-e79bb66d45e4",
   "metadata": {},
   "outputs": [],
   "source": [
    "round(area,2)"
   ]
  },
  {
   "cell_type": "code",
   "execution_count": null,
   "id": "4eb001b0-af54-4524-8f3d-9bdd8aadf1b7",
   "metadata": {},
   "outputs": [],
   "source": [
    "print('sdfghj')"
   ]
  },
  {
   "cell_type": "code",
   "execution_count": null,
   "id": "e54f6080-28d0-4387-9466-196f92e83a53",
   "metadata": {},
   "outputs": [],
   "source": [
    "x = 21\n",
    "print(x)"
   ]
  },
  {
   "cell_type": "markdown",
   "id": "a8fe14c0-092f-48ee-b1f3-c0b57fab4dcf",
   "metadata": {},
   "source": [
    "### Assignment Operators\n",
    "\n",
    "- used to assign values to variables\n",
    "  - `=`\n",
    "\n",
    "- following operators combine numerical operations at the same time as assignment\n",
    "  - `+=`\n",
    "  - `-=`\n",
    "  - `*=`\n",
    "  - `/=`\n",
    "  - `//=`\n",
    "  - `%=`\n",
    "  - `**=`"
   ]
  },
  {
   "cell_type": "code",
   "execution_count": null,
   "id": "b71819b3-c543-421b-926d-dd95a9b30e59",
   "metadata": {},
   "outputs": [],
   "source": [
    "x += 3\n",
    "print(x)"
   ]
  },
  {
   "cell_type": "code",
   "execution_count": null,
   "id": "b2944ffd-aebd-497f-8d42-06e933dff589",
   "metadata": {},
   "outputs": [],
   "source": [
    "x -= 3\n",
    "print(x)"
   ]
  },
  {
   "cell_type": "code",
   "execution_count": null,
   "id": "284d12ae-ff59-4975-a695-59ad387da1db",
   "metadata": {},
   "outputs": [],
   "source": [
    "x *= 3\n",
    "print(x)"
   ]
  },
  {
   "cell_type": "code",
   "execution_count": null,
   "id": "e79ffb70-c02e-452e-b55d-06cab89f92ec",
   "metadata": {},
   "outputs": [],
   "source": [
    "x /= 3\n",
    "x"
   ]
  },
  {
   "cell_type": "code",
   "execution_count": null,
   "id": "aa164e05-dab7-4af5-9ad6-22378ab519ce",
   "metadata": {},
   "outputs": [],
   "source": [
    "x //= 3\n",
    "x"
   ]
  },
  {
   "cell_type": "code",
   "execution_count": null,
   "id": "89da4c7a-4106-47a1-9a1e-758b15052de4",
   "metadata": {},
   "outputs": [],
   "source": [
    "x %= 3\n",
    "print(x)"
   ]
  },
  {
   "cell_type": "markdown",
   "id": "9c9a1b2c-653d-4f80-b5b5-07be24dbc700",
   "metadata": {},
   "source": [
    "### Comparison Operators\n",
    "\n",
    "- used to compare two values\n",
    "  - `<`: less than \n",
    "  - `>`: greater than \n",
    "  - `<=`: less than or equal to\n",
    "  - `>=`: greater than or equal to\n",
    "  - `==`: equality \n",
    "  - `!=`: inequality \n"
   ]
  },
  {
   "cell_type": "code",
   "execution_count": 44,
   "id": "612575b5-6bf3-46cd-89a9-713c7cafaaba",
   "metadata": {},
   "outputs": [
    {
     "name": "stdout",
     "output_type": "stream",
     "text": [
      "True\n"
     ]
    }
   ],
   "source": [
    "i = 3\n",
    "j = 7\n",
    "print(i < j)"
   ]
  },
  {
   "cell_type": "code",
   "execution_count": null,
   "id": "d68904b3-9cd3-4fb7-95c5-3b5aff38b8b1",
   "metadata": {},
   "outputs": [],
   "source": [
    "i = 10\n",
    "j = 7\n",
    "print(i < j)"
   ]
  },
  {
   "cell_type": "code",
   "execution_count": null,
   "id": "d45c9bba-b535-4303-900c-1aceea8c2a6b",
   "metadata": {
    "scrolled": true
   },
   "outputs": [],
   "source": [
    "i = 10\n",
    "j = 7\n",
    "print(i > j)"
   ]
  },
  {
   "cell_type": "code",
   "execution_count": null,
   "id": "8c87b0ac-568e-4a3f-b064-15efc1459b6c",
   "metadata": {},
   "outputs": [],
   "source": [
    "i = 3\n",
    "j = 7\n",
    "print(i <= j)"
   ]
  },
  {
   "cell_type": "code",
   "execution_count": null,
   "id": "f7c85fed-cb92-4331-bcd1-dafb8b0053eb",
   "metadata": {},
   "outputs": [],
   "source": [
    "i = 3\n",
    "j = 3\n",
    "print(i <= j)"
   ]
  },
  {
   "cell_type": "code",
   "execution_count": null,
   "id": "7691526c-a79e-402a-90f8-c6aa90133376",
   "metadata": {},
   "outputs": [],
   "source": [
    "i = 10\n",
    "j = 7\n",
    "print(i <= j)"
   ]
  },
  {
   "cell_type": "code",
   "execution_count": null,
   "id": "f711e041-0560-49f7-9d67-0261c400af03",
   "metadata": {},
   "outputs": [],
   "source": [
    "i = 10\n",
    "j = 7\n",
    "print(i >= j)"
   ]
  },
  {
   "cell_type": "code",
   "execution_count": null,
   "id": "84539eee-53f5-4f83-99ab-8e773384d967",
   "metadata": {},
   "outputs": [],
   "source": [
    "i = 10\n",
    "j = 10\n",
    "print(i >= j)"
   ]
  },
  {
   "cell_type": "code",
   "execution_count": null,
   "id": "195f867d-132c-4e9b-b705-ac46155dcdd2",
   "metadata": {},
   "outputs": [],
   "source": [
    "i = 10\n",
    "j = 10\n",
    "print(i == j)"
   ]
  },
  {
   "cell_type": "code",
   "execution_count": null,
   "id": "641ff3d8-f7ee-48bb-8425-0932eff95ad3",
   "metadata": {},
   "outputs": [],
   "source": [
    "i = 10\n",
    "j = 11\n",
    "print(i == j)"
   ]
  },
  {
   "cell_type": "code",
   "execution_count": null,
   "id": "3e45e510-4ae2-4c85-ab18-70db9924be15",
   "metadata": {},
   "outputs": [],
   "source": [
    "i = 10\n",
    "j = 11\n",
    "print(i != j)"
   ]
  },
  {
   "cell_type": "code",
   "execution_count": null,
   "id": "74f9c065-91f5-47b2-9100-4a54edb8c5f0",
   "metadata": {},
   "outputs": [],
   "source": [
    "# Create a program to find area of a circle and check whether the area is greater than 50 or not.\n",
    "radius = float(input('Enter radius: '))\n",
    "pi = 3.14\n",
    "area = pi * radius ** 2\n",
    "print('Area of the circle: ',area)\n",
    "print(area > 50)"
   ]
  },
  {
   "cell_type": "markdown",
   "id": "f98e84ac-cb71-4b5a-ad23-3545d1bd95b0",
   "metadata": {},
   "source": [
    "### Logic Operators\n",
    "\n",
    "- used to combine conditional statements\n",
    "  - `and` \n",
    "  - `or`\n",
    "  - `not`"
   ]
  },
  {
   "cell_type": "code",
   "execution_count": null,
   "id": "7b8f2469-dca3-4266-acad-474dc8c0a1ae",
   "metadata": {},
   "outputs": [],
   "source": [
    "a  = True\n",
    "print(not a)"
   ]
  },
  {
   "cell_type": "code",
   "execution_count": null,
   "id": "a8387274-7289-4fd7-893c-29ad619ead0f",
   "metadata": {},
   "outputs": [],
   "source": [
    "b = False\n",
    "print(not b)"
   ]
  },
  {
   "cell_type": "code",
   "execution_count": null,
   "id": "3d268620-ce05-4e1b-a650-2f305544b2de",
   "metadata": {},
   "outputs": [],
   "source": [
    "a = True\n",
    "b = True\n",
    "print(a and b)\n",
    "print(a or b)"
   ]
  },
  {
   "cell_type": "code",
   "execution_count": null,
   "id": "10d14dfb-f5d8-4f04-842d-38bc750a6e4a",
   "metadata": {},
   "outputs": [],
   "source": [
    "a = True\n",
    "b = False\n",
    "print(a and b)\n",
    "print(a or b)"
   ]
  },
  {
   "cell_type": "code",
   "execution_count": null,
   "id": "7612ca84-7c07-429b-b6df-d6499102b416",
   "metadata": {},
   "outputs": [],
   "source": [
    "a = False\n",
    "b = True\n",
    "print(a and b)\n",
    "print(a or b)"
   ]
  },
  {
   "cell_type": "code",
   "execution_count": null,
   "id": "f6aafe95-5446-4a88-8933-ac439be015b5",
   "metadata": {},
   "outputs": [],
   "source": [
    "a = False\n",
    "b = False\n",
    "print(a and b)\n",
    "print(a or b)"
   ]
  },
  {
   "cell_type": "code",
   "execution_count": null,
   "id": "537cef04-efc8-40ef-a8ee-2a5780e5b09e",
   "metadata": {},
   "outputs": [],
   "source": [
    "# Check the area of the circle lies between 20 and 50 or not \n",
    "radius = float(input('Enter radius: '))\n",
    "pi = 3.14\n",
    "area = pi * radius ** 2\n",
    "print('Area of the circle: ',area)\n",
    "print(area > 20 and area < 50)"
   ]
  },
  {
   "cell_type": "markdown",
   "id": "29ac570f-977c-49c5-9bbc-e8893704d879",
   "metadata": {},
   "source": [
    "# Membership Operator\n",
    "* in\n",
    "* not in "
   ]
  },
  {
   "cell_type": "code",
   "execution_count": null,
   "id": "f8c74151-805f-4124-aef7-0bb725dbd5d5",
   "metadata": {},
   "outputs": [],
   "source": [
    "avengers = ['Thor','Iron Man','Loki','Spider Man']\n",
    "print(avengers)"
   ]
  },
  {
   "cell_type": "code",
   "execution_count": null,
   "id": "24c65f0d-4ea0-4fad-89a5-0f03d7270678",
   "metadata": {},
   "outputs": [],
   "source": [
    "print('Loki' in avengers)"
   ]
  },
  {
   "cell_type": "code",
   "execution_count": null,
   "id": "823da52e-b61f-4596-9ee3-e4f7a827a32e",
   "metadata": {},
   "outputs": [],
   "source": [
    "print('Superman' in avengers)"
   ]
  },
  {
   "cell_type": "code",
   "execution_count": null,
   "id": "e9e5e997-9f1a-491a-999b-6f7fecae0b5a",
   "metadata": {},
   "outputs": [],
   "source": [
    "print('Superman' not in avengers)"
   ]
  },
  {
   "cell_type": "markdown",
   "id": "7a9c2ac8-06e2-42a8-974a-81bd03536120",
   "metadata": {},
   "source": [
    "# Indentity Operator\n",
    "* is\n",
    "* is not "
   ]
  },
  {
   "cell_type": "code",
   "execution_count": null,
   "id": "812e0645-3b7c-4737-8b19-b84aaa8759d9",
   "metadata": {},
   "outputs": [],
   "source": [
    "x = ['apple','orange']\n",
    "y = ['apple','orange']\n",
    "z = x "
   ]
  },
  {
   "cell_type": "code",
   "execution_count": null,
   "id": "e5d65ad2-2b8c-4112-ab19-0b2150520ffb",
   "metadata": {},
   "outputs": [],
   "source": [
    "x is z"
   ]
  },
  {
   "cell_type": "code",
   "execution_count": null,
   "id": "4592a2ac-b0e5-4544-9d1f-2594e40f049d",
   "metadata": {},
   "outputs": [],
   "source": [
    "x is y"
   ]
  },
  {
   "cell_type": "code",
   "execution_count": null,
   "id": "ffd7f2c1-ebdd-4f5d-b206-3e878a861609",
   "metadata": {},
   "outputs": [],
   "source": [
    "x == y"
   ]
  },
  {
   "cell_type": "code",
   "execution_count": null,
   "id": "7b43ddf9-6711-42f6-9480-24d90855e5f5",
   "metadata": {},
   "outputs": [],
   "source": [
    "x is not y"
   ]
  },
  {
   "cell_type": "code",
   "execution_count": null,
   "id": "6c1ae86b-a5e4-48c9-8a9a-e2e8e8bc9302",
   "metadata": {},
   "outputs": [],
   "source": [
    "x"
   ]
  },
  {
   "cell_type": "code",
   "execution_count": null,
   "id": "48ccf87e-321d-4197-a302-8f9417fd48ae",
   "metadata": {},
   "outputs": [],
   "source": [
    "x[0]"
   ]
  },
  {
   "cell_type": "code",
   "execution_count": null,
   "id": "19879c21-4729-44e9-9f3d-bbe6a0bdcd83",
   "metadata": {},
   "outputs": [],
   "source": [
    "x[1]"
   ]
  },
  {
   "cell_type": "code",
   "execution_count": null,
   "id": "fc48cfcb-512d-405a-892b-4b494d54c5ee",
   "metadata": {},
   "outputs": [],
   "source": [
    "z"
   ]
  },
  {
   "cell_type": "code",
   "execution_count": null,
   "id": "d1fdd927-cb00-459a-b6f2-bfe142d84546",
   "metadata": {},
   "outputs": [],
   "source": [
    "x[0] = 'pineapple'\n",
    "x"
   ]
  },
  {
   "cell_type": "code",
   "execution_count": null,
   "id": "d7842849-f6d7-49fb-94d9-483b8e383774",
   "metadata": {},
   "outputs": [],
   "source": [
    "y"
   ]
  },
  {
   "cell_type": "code",
   "execution_count": null,
   "id": "9a7f0cbc-9fa7-4352-a3ce-26082eba1e1a",
   "metadata": {},
   "outputs": [],
   "source": [
    "z"
   ]
  },
  {
   "cell_type": "code",
   "execution_count": null,
   "id": "da5b3251-4984-4c34-8812-50618966bb63",
   "metadata": {},
   "outputs": [],
   "source": [
    "z[1]"
   ]
  },
  {
   "cell_type": "code",
   "execution_count": null,
   "id": "c1af76e6-f1d2-43bd-a787-19a6ce366b4e",
   "metadata": {},
   "outputs": [],
   "source": [
    "z[1] = 'mango'\n",
    "z"
   ]
  },
  {
   "cell_type": "code",
   "execution_count": null,
   "id": "a03981d3-7866-452f-9d09-86efd58807e3",
   "metadata": {},
   "outputs": [],
   "source": [
    "x"
   ]
  },
  {
   "cell_type": "markdown",
   "id": "2feaaf63-8b1d-4633-aa48-907f04dbdfb8",
   "metadata": {},
   "source": [
    "# Strings\n",
    "* Sequence of characters"
   ]
  },
  {
   "cell_type": "code",
   "execution_count": 2,
   "id": "ab4c1687-dc4b-4b6e-b49f-9541421629a6",
   "metadata": {},
   "outputs": [
    {
     "name": "stdout",
     "output_type": "stream",
     "text": [
      "Hello\n"
     ]
    }
   ],
   "source": [
    "s1 = 'Hello'\n",
    "print(s1)"
   ]
  },
  {
   "cell_type": "code",
   "execution_count": 3,
   "id": "752b6384-3a9e-4cd1-9cfd-e3b56292ad46",
   "metadata": {},
   "outputs": [
    {
     "name": "stdout",
     "output_type": "stream",
     "text": [
      "Hello\n"
     ]
    }
   ],
   "source": [
    "s2 = \"Hello\"\n",
    "print(s2)"
   ]
  },
  {
   "cell_type": "code",
   "execution_count": 4,
   "id": "688017d8-7d7a-4f47-94c6-90fc11120118",
   "metadata": {},
   "outputs": [
    {
     "name": "stdout",
     "output_type": "stream",
     "text": [
      "This is a \n",
      "Multiline strings.\n",
      "We can create a string\n",
      "in multiple line.\n"
     ]
    }
   ],
   "source": [
    "s3 = '''This is a \n",
    "Multiline strings.\n",
    "We can create a string\n",
    "in multiple line.'''\n",
    "print(s3)"
   ]
  },
  {
   "cell_type": "code",
   "execution_count": 5,
   "id": "35fc0e5a-1566-49b8-93e4-5b2e271ffbd4",
   "metadata": {},
   "outputs": [
    {
     "name": "stdout",
     "output_type": "stream",
     "text": [
      "What a \"wonderful\" day!\n"
     ]
    }
   ],
   "source": [
    "s4 = 'What a \"wonderful\" day!'\n",
    "print(s4)"
   ]
  },
  {
   "cell_type": "code",
   "execution_count": null,
   "id": "0d2e1bd8-cc64-450a-9d6c-03cde8305138",
   "metadata": {},
   "outputs": [],
   "source": [
    "s5 = \"What a 'wonderful' day!\"\n",
    "print(s5)"
   ]
  },
  {
   "cell_type": "markdown",
   "id": "a6fe3e2e-08a7-44b0-834c-194c37be9cb9",
   "metadata": {},
   "source": [
    "## String Methods"
   ]
  },
  {
   "cell_type": "code",
   "execution_count": 6,
   "id": "ba1b9259-6cca-486c-a0d5-e2a86767be4a",
   "metadata": {},
   "outputs": [
    {
     "data": {
      "text/plain": [
       "'HELLO'"
      ]
     },
     "execution_count": 6,
     "metadata": {},
     "output_type": "execute_result"
    }
   ],
   "source": [
    "text = 'hello'\n",
    "text.upper()"
   ]
  },
  {
   "cell_type": "code",
   "execution_count": 7,
   "id": "690e30d0-c990-4311-b3e4-9c09b1c4b34e",
   "metadata": {},
   "outputs": [
    {
     "data": {
      "text/plain": [
       "'hello'"
      ]
     },
     "execution_count": 7,
     "metadata": {},
     "output_type": "execute_result"
    }
   ],
   "source": [
    "text = \"HELLO\"\n",
    "text.lower()"
   ]
  },
  {
   "cell_type": "code",
   "execution_count": 8,
   "id": "8b9273bd-1ab1-49a1-b3b8-9d9eb980d27f",
   "metadata": {},
   "outputs": [
    {
     "data": {
      "text/plain": [
       "'hello'"
      ]
     },
     "execution_count": 8,
     "metadata": {},
     "output_type": "execute_result"
    }
   ],
   "source": [
    "text = \"  hello  \"\n",
    "text.strip()"
   ]
  },
  {
   "cell_type": "code",
   "execution_count": 9,
   "id": "56577eac-583f-4db7-a704-e05e9246c450",
   "metadata": {},
   "outputs": [
    {
     "data": {
      "text/plain": [
       "'Hello Python'"
      ]
     },
     "execution_count": 9,
     "metadata": {},
     "output_type": "execute_result"
    }
   ],
   "source": [
    "text = 'Hello World'\n",
    "text.replace('World','Python')"
   ]
  },
  {
   "cell_type": "code",
   "execution_count": null,
   "id": "1940792d-d2ff-42bf-815b-9e8e184c2b27",
   "metadata": {},
   "outputs": [],
   "source": [
    "text = 'Hello World'\n",
    "text.split(' ')"
   ]
  },
  {
   "cell_type": "code",
   "execution_count": 10,
   "id": "042f50e2-f6e6-4332-beeb-026707df893d",
   "metadata": {},
   "outputs": [
    {
     "data": {
      "text/plain": [
       "['Good Morning', ' Sir']"
      ]
     },
     "execution_count": 10,
     "metadata": {},
     "output_type": "execute_result"
    }
   ],
   "source": [
    "text = 'Good Morning, Sir'\n",
    "text.split(',')"
   ]
  },
  {
   "cell_type": "code",
   "execution_count": 11,
   "id": "9bee9f3e-a284-4d34-9a7c-1d9117b09531",
   "metadata": {},
   "outputs": [
    {
     "data": {
      "text/plain": [
       "['vikas', 'gmail.com']"
      ]
     },
     "execution_count": 11,
     "metadata": {},
     "output_type": "execute_result"
    }
   ],
   "source": [
    "email = 'vikas@gmail.com'\n",
    "email.split('@')"
   ]
  },
  {
   "cell_type": "code",
   "execution_count": 12,
   "id": "e451e8c4-4a7f-4130-b412-5faea585c4b7",
   "metadata": {},
   "outputs": [
    {
     "data": {
      "text/plain": [
       "['this', 'is', 'a', 'sentence']"
      ]
     },
     "execution_count": 12,
     "metadata": {},
     "output_type": "execute_result"
    }
   ],
   "source": [
    "li = ['this', 'is', 'a', 'sentence']\n",
    "li\n"
   ]
  },
  {
   "cell_type": "code",
   "execution_count": 13,
   "id": "ebaa6bd3-0b38-4205-9f53-1d170980c131",
   "metadata": {},
   "outputs": [
    {
     "name": "stdout",
     "output_type": "stream",
     "text": [
      "this is a sentence\n"
     ]
    }
   ],
   "source": [
    "sentence = ' '.join(li)\n",
    "print(sentence)"
   ]
  },
  {
   "cell_type": "code",
   "execution_count": 14,
   "id": "983c961b-679f-4211-afc7-e392c31daed2",
   "metadata": {},
   "outputs": [
    {
     "data": {
      "text/plain": [
       "'This is a sentence.'"
      ]
     },
     "execution_count": 14,
     "metadata": {},
     "output_type": "execute_result"
    }
   ],
   "source": [
    "sent = 'this is a sentence.'\n",
    "sent.capitalize()"
   ]
  },
  {
   "cell_type": "code",
   "execution_count": 15,
   "id": "3946e7c4-5ecc-4812-b60c-3724ccaa8cc5",
   "metadata": {},
   "outputs": [
    {
     "data": {
      "text/plain": [
       "'Piyush Pankaj'"
      ]
     },
     "execution_count": 15,
     "metadata": {},
     "output_type": "execute_result"
    }
   ],
   "source": [
    "name = 'piyush pankaj'\n",
    "name.title()"
   ]
  },
  {
   "cell_type": "code",
   "execution_count": 16,
   "id": "141c87f1-d1fb-4ada-99d6-f2f0fe736c70",
   "metadata": {},
   "outputs": [
    {
     "data": {
      "text/plain": [
       "'hELLO wORLD'"
      ]
     },
     "execution_count": 16,
     "metadata": {},
     "output_type": "execute_result"
    }
   ],
   "source": [
    "text = \"Hello World\"\n",
    "text.swapcase()"
   ]
  },
  {
   "cell_type": "markdown",
   "id": "05431df4-7cab-4e9c-93a7-5cbb5096b20d",
   "metadata": {},
   "source": [
    "# List Methods"
   ]
  },
  {
   "cell_type": "code",
   "execution_count": 17,
   "id": "ddb57d38-0ab3-40b7-860e-0484b780e5b4",
   "metadata": {},
   "outputs": [
    {
     "data": {
      "text/plain": [
       "[1, 2, 'a', 'c', 9.8]"
      ]
     },
     "execution_count": 17,
     "metadata": {},
     "output_type": "execute_result"
    }
   ],
   "source": [
    "li = [1,2,'a','c',9.8]\n",
    "li"
   ]
  },
  {
   "cell_type": "code",
   "execution_count": 18,
   "id": "03a18ab6-46d5-4eb4-8731-4a10ec0158b7",
   "metadata": {
    "scrolled": true
   },
   "outputs": [
    {
     "data": {
      "text/plain": [
       "[1, 2, 'a', 'c', 9.8, 'Chocolate']"
      ]
     },
     "execution_count": 18,
     "metadata": {},
     "output_type": "execute_result"
    }
   ],
   "source": [
    "# append \n",
    "li.append('Chocolate')\n",
    "li"
   ]
  },
  {
   "cell_type": "code",
   "execution_count": 19,
   "id": "3a5fe280-a4e8-414f-9ac2-24ad1c8495b6",
   "metadata": {},
   "outputs": [
    {
     "data": {
      "text/plain": [
       "[1, 2, 'a', 'c', 9.8, 'Chocolate', 'Mango', 'Strawberry', 'Guava']"
      ]
     },
     "execution_count": 19,
     "metadata": {},
     "output_type": "execute_result"
    }
   ],
   "source": [
    "# extend\n",
    "li.extend(['Mango','Strawberry','Guava'])\n",
    "li"
   ]
  },
  {
   "cell_type": "code",
   "execution_count": 20,
   "id": "7e1f09f6-81d2-49f2-979e-4498a1e17fff",
   "metadata": {},
   "outputs": [
    {
     "data": {
      "text/plain": [
       "[1,\n",
       " 2,\n",
       " 'a',\n",
       " 'c',\n",
       " 9.8,\n",
       " 'Dairy Milk',\n",
       " 'Chocolate',\n",
       " 'Mango',\n",
       " 'Strawberry',\n",
       " 'Guava']"
      ]
     },
     "execution_count": 20,
     "metadata": {},
     "output_type": "execute_result"
    }
   ],
   "source": [
    "# insert\n",
    "li.insert(5,'Dairy Milk')\n",
    "li"
   ]
  },
  {
   "cell_type": "code",
   "execution_count": null,
   "id": "6e8e4eaa-db44-45c6-bb4d-1124125dfb32",
   "metadata": {},
   "outputs": [],
   "source": [
    "print(li)"
   ]
  },
  {
   "cell_type": "code",
   "execution_count": 21,
   "id": "2b6f2f36-10ee-4f60-9c05-487cef1694cb",
   "metadata": {},
   "outputs": [
    {
     "name": "stdout",
     "output_type": "stream",
     "text": [
      "[1, 2, 'a', 'c', 9.8, 'Dairy Milk', 'Chocolate', 'Mango', 'Guava']\n"
     ]
    }
   ],
   "source": [
    "# remove \n",
    "li.remove('Strawberry')\n",
    "print(li)"
   ]
  },
  {
   "cell_type": "code",
   "execution_count": 22,
   "id": "12fc1977-31e4-43d6-8d83-929ce333e533",
   "metadata": {},
   "outputs": [
    {
     "name": "stdout",
     "output_type": "stream",
     "text": [
      "[1, 2, 'a', 'c', 9.8, 'Dairy Milk', 'Chocolate', 'Guava']\n"
     ]
    }
   ],
   "source": [
    "# pop \n",
    "li.pop(7)\n",
    "print(li)"
   ]
  },
  {
   "cell_type": "code",
   "execution_count": null,
   "id": "dce34285-0ae8-43ca-820f-e593941fbbc9",
   "metadata": {},
   "outputs": [],
   "source": [
    "li.pop()\n",
    "print(li)"
   ]
  },
  {
   "cell_type": "code",
   "execution_count": 23,
   "id": "0f5afe0c-8e92-4c98-8b4b-1fe470ab31ff",
   "metadata": {},
   "outputs": [
    {
     "name": "stdout",
     "output_type": "stream",
     "text": [
      "[1, 2, 'a', 9.8, 'Dairy Milk', 'Chocolate', 'Guava']\n"
     ]
    }
   ],
   "source": [
    "del li[3]\n",
    "print(li)"
   ]
  },
  {
   "cell_type": "code",
   "execution_count": 24,
   "id": "ba514362-32ad-436f-b5de-abf0c072454b",
   "metadata": {},
   "outputs": [
    {
     "data": {
      "text/plain": [
       "[]"
      ]
     },
     "execution_count": 24,
     "metadata": {},
     "output_type": "execute_result"
    }
   ],
   "source": [
    "li.clear()\n",
    "li"
   ]
  },
  {
   "cell_type": "code",
   "execution_count": 25,
   "id": "512e670d-94a6-4143-839a-597aba89f9e8",
   "metadata": {},
   "outputs": [],
   "source": [
    "del li"
   ]
  },
  {
   "cell_type": "code",
   "execution_count": null,
   "id": "389415bb-6498-44aa-b66f-5ecffc03a3f4",
   "metadata": {},
   "outputs": [],
   "source": [
    "li"
   ]
  },
  {
   "cell_type": "markdown",
   "id": "e8d3ed67-5cbe-47fa-a6fc-535bf2a7a90e",
   "metadata": {},
   "source": [
    "## Appending Items:\n",
    "\n",
    "* Create a list of your favorite fruits. Use the append() method to add a new fruit to the list.\n",
    "\n",
    "## Extending a List:\n",
    "\n",
    "* You have a list of numbers. Use the extend() method to add another list of numbers to the original list.\n",
    "\n",
    "## Removing Items:\n",
    "\n",
    "* Given a list of cities, use the remove() method to delete a specific city from the list.\n",
    "\n",
    "## Popping Items:\n",
    "\n",
    "* Create a list of tasks for the day. Use the pop() method to remove the last task from the list and print it.\n",
    "\n",
    "## Inserting Items:\n",
    "\n",
    "* You have a list of books. Use the insert() method to add a new book at the second position in the list."
   ]
  },
  {
   "cell_type": "markdown",
   "id": "66ad6a9f-32bf-4823-ae2d-fe540b02a344",
   "metadata": {},
   "source": [
    "# Type Conversion"
   ]
  },
  {
   "cell_type": "code",
   "execution_count": 26,
   "id": "b9d85cca-075a-4ea1-8023-b7d6a4c8aecc",
   "metadata": {},
   "outputs": [
    {
     "name": "stdout",
     "output_type": "stream",
     "text": [
      "3\n"
     ]
    },
    {
     "data": {
      "text/plain": [
       "int"
      ]
     },
     "execution_count": 26,
     "metadata": {},
     "output_type": "execute_result"
    }
   ],
   "source": [
    "# int to float\n",
    "x = 3\n",
    "print(x)\n",
    "type(x)"
   ]
  },
  {
   "cell_type": "code",
   "execution_count": 27,
   "id": "ab7cd08b-41f1-4651-bda8-57db2c2ba15b",
   "metadata": {},
   "outputs": [
    {
     "name": "stdout",
     "output_type": "stream",
     "text": [
      "3.0\n"
     ]
    },
    {
     "data": {
      "text/plain": [
       "float"
      ]
     },
     "execution_count": 27,
     "metadata": {},
     "output_type": "execute_result"
    }
   ],
   "source": [
    "y = float(x)\n",
    "print(y)\n",
    "type(y)"
   ]
  },
  {
   "cell_type": "code",
   "execution_count": 28,
   "id": "6c9cfc70-fa11-4590-b8f2-3e4f06890ebe",
   "metadata": {},
   "outputs": [
    {
     "name": "stdout",
     "output_type": "stream",
     "text": [
      "3.75\n"
     ]
    },
    {
     "data": {
      "text/plain": [
       "float"
      ]
     },
     "execution_count": 28,
     "metadata": {},
     "output_type": "execute_result"
    }
   ],
   "source": [
    "# float to int\n",
    "a = 3.75\n",
    "print(a)\n",
    "type(a)"
   ]
  },
  {
   "cell_type": "code",
   "execution_count": 29,
   "id": "a01a6482-3e8c-4a7c-bea9-5ab319e22b72",
   "metadata": {},
   "outputs": [
    {
     "name": "stdout",
     "output_type": "stream",
     "text": [
      "3\n"
     ]
    },
    {
     "data": {
      "text/plain": [
       "int"
      ]
     },
     "execution_count": 29,
     "metadata": {},
     "output_type": "execute_result"
    }
   ],
   "source": [
    "b = int(a)\n",
    "print(b)\n",
    "type(b)"
   ]
  },
  {
   "cell_type": "code",
   "execution_count": 30,
   "id": "1ea96b32-fd03-4ed4-b9a2-ed80581ba11d",
   "metadata": {},
   "outputs": [
    {
     "name": "stdout",
     "output_type": "stream",
     "text": [
      "25\n"
     ]
    },
    {
     "data": {
      "text/plain": [
       "str"
      ]
     },
     "execution_count": 30,
     "metadata": {},
     "output_type": "execute_result"
    }
   ],
   "source": [
    "# str to int\n",
    "s = '25'\n",
    "print(s)\n",
    "type(s)"
   ]
  },
  {
   "cell_type": "code",
   "execution_count": 31,
   "id": "21ea0d8c-6b93-4d5c-b552-0b6d8fda1142",
   "metadata": {},
   "outputs": [
    {
     "name": "stdout",
     "output_type": "stream",
     "text": [
      "25\n"
     ]
    },
    {
     "data": {
      "text/plain": [
       "int"
      ]
     },
     "execution_count": 31,
     "metadata": {},
     "output_type": "execute_result"
    }
   ],
   "source": [
    "i = int(s)\n",
    "print(i)\n",
    "type(i)"
   ]
  },
  {
   "cell_type": "code",
   "execution_count": 32,
   "id": "1224825b-7677-43f8-ac88-1abacf21d091",
   "metadata": {},
   "outputs": [
    {
     "name": "stdout",
     "output_type": "stream",
     "text": [
      "3\n"
     ]
    },
    {
     "data": {
      "text/plain": [
       "int"
      ]
     },
     "execution_count": 32,
     "metadata": {},
     "output_type": "execute_result"
    }
   ],
   "source": [
    "# int to sstr\n",
    "x = 3\n",
    "print(x)\n",
    "type(x)"
   ]
  },
  {
   "cell_type": "code",
   "execution_count": 33,
   "id": "1030ab8d-5734-4274-9a07-0f9fb32310c4",
   "metadata": {},
   "outputs": [
    {
     "name": "stdout",
     "output_type": "stream",
     "text": [
      "3\n"
     ]
    },
    {
     "data": {
      "text/plain": [
       "str"
      ]
     },
     "execution_count": 33,
     "metadata": {},
     "output_type": "execute_result"
    }
   ],
   "source": [
    "y = str(x)\n",
    "print(y)\n",
    "type(y)"
   ]
  },
  {
   "cell_type": "code",
   "execution_count": 34,
   "id": "ef107922-c8ab-4d0c-aa5f-171781187d3e",
   "metadata": {},
   "outputs": [
    {
     "name": "stdout",
     "output_type": "stream",
     "text": [
      "[1, 2, 3, 'a', 'z']\n"
     ]
    },
    {
     "data": {
      "text/plain": [
       "list"
      ]
     },
     "execution_count": 34,
     "metadata": {},
     "output_type": "execute_result"
    }
   ],
   "source": [
    "# List to tuple\n",
    "li = [1,2,3,'a','z']\n",
    "print(li)\n",
    "type(li)"
   ]
  },
  {
   "cell_type": "code",
   "execution_count": 35,
   "id": "2dbacfe0-46c7-4223-9b6b-8fcdbb29f9e8",
   "metadata": {},
   "outputs": [
    {
     "name": "stdout",
     "output_type": "stream",
     "text": [
      "(1, 2, 3, 'a', 'z')\n"
     ]
    },
    {
     "data": {
      "text/plain": [
       "tuple"
      ]
     },
     "execution_count": 35,
     "metadata": {},
     "output_type": "execute_result"
    }
   ],
   "source": [
    "tu = tuple(li)\n",
    "print(tu)\n",
    "type(tu)"
   ]
  },
  {
   "cell_type": "code",
   "execution_count": 36,
   "id": "1e880878-1386-4421-bbd8-f23b35c55d72",
   "metadata": {},
   "outputs": [
    {
     "name": "stdout",
     "output_type": "stream",
     "text": [
      "(1, 2, 3, 4, 5)\n"
     ]
    },
    {
     "data": {
      "text/plain": [
       "tuple"
      ]
     },
     "execution_count": 36,
     "metadata": {},
     "output_type": "execute_result"
    }
   ],
   "source": [
    "# tuple to llist\n",
    "t1 = (1,2,3,4,5)\n",
    "print(t1)\n",
    "type(t1)"
   ]
  },
  {
   "cell_type": "code",
   "execution_count": 37,
   "id": "5e45041f-3f4f-4245-882d-379e50ba142b",
   "metadata": {},
   "outputs": [
    {
     "name": "stdout",
     "output_type": "stream",
     "text": [
      "[1, 2, 3, 4, 5]\n"
     ]
    },
    {
     "data": {
      "text/plain": [
       "list"
      ]
     },
     "execution_count": 37,
     "metadata": {},
     "output_type": "execute_result"
    }
   ],
   "source": [
    "list1 = list(t1)\n",
    "print(list1)\n",
    "type(list1)"
   ]
  },
  {
   "cell_type": "code",
   "execution_count": 39,
   "id": "92bce382-ceab-4980-ae91-5c214bfa692b",
   "metadata": {},
   "outputs": [
    {
     "name": "stdout",
     "output_type": "stream",
     "text": [
      "['Vikas', 'Gulsan', 'Aditya', 'Vikas', 'Pramesh']\n"
     ]
    },
    {
     "data": {
      "text/plain": [
       "list"
      ]
     },
     "execution_count": 39,
     "metadata": {},
     "output_type": "execute_result"
    }
   ],
   "source": [
    "# list to set\n",
    "names = ['Vikas','Gulsan','Aditya','Vikas','Pramesh']\n",
    "print(names)\n",
    "type(names)"
   ]
  },
  {
   "cell_type": "code",
   "execution_count": 41,
   "id": "3084ec54-cb77-438a-abef-a0c0f8b15b7d",
   "metadata": {},
   "outputs": [
    {
     "name": "stdout",
     "output_type": "stream",
     "text": [
      "{'Vikas', 'Gulsan', 'Pramesh', 'Aditya'}\n"
     ]
    },
    {
     "data": {
      "text/plain": [
       "set"
      ]
     },
     "execution_count": 41,
     "metadata": {},
     "output_type": "execute_result"
    }
   ],
   "source": [
    "names = set(names)\n",
    "print(names)\n",
    "type(names)"
   ]
  },
  {
   "cell_type": "markdown",
   "id": "21900cd3-5ef9-41d0-8578-eb1b4af8e697",
   "metadata": {},
   "source": [
    "# Indexing and Slicing"
   ]
  },
  {
   "cell_type": "code",
   "execution_count": 43,
   "id": "191d451e-c461-49ac-b898-42a09d80591b",
   "metadata": {},
   "outputs": [
    {
     "name": "stdout",
     "output_type": "stream",
     "text": [
      "abcde\n"
     ]
    }
   ],
   "source": [
    "s = 'abcde'\n",
    "    #01234\n",
    "print(s)"
   ]
  },
  {
   "cell_type": "code",
   "execution_count": 44,
   "id": "c901314d-71e2-4a5e-894d-3059c3d64108",
   "metadata": {},
   "outputs": [
    {
     "data": {
      "text/plain": [
       "'a'"
      ]
     },
     "execution_count": 44,
     "metadata": {},
     "output_type": "execute_result"
    }
   ],
   "source": [
    "s[0]"
   ]
  },
  {
   "cell_type": "code",
   "execution_count": 45,
   "id": "d7360233-503e-4c6c-a26b-cdd12ee209d6",
   "metadata": {},
   "outputs": [
    {
     "data": {
      "text/plain": [
       "'d'"
      ]
     },
     "execution_count": 45,
     "metadata": {},
     "output_type": "execute_result"
    }
   ],
   "source": [
    "s[3]"
   ]
  },
  {
   "cell_type": "code",
   "execution_count": 46,
   "id": "dcfb0cef-8770-4abf-9f80-5f030f6defa9",
   "metadata": {},
   "outputs": [
    {
     "data": {
      "text/plain": [
       "'e'"
      ]
     },
     "execution_count": 46,
     "metadata": {},
     "output_type": "execute_result"
    }
   ],
   "source": [
    "s[-1]"
   ]
  },
  {
   "cell_type": "code",
   "execution_count": 47,
   "id": "fe4a37d0-2c0b-4105-bfee-f446122fa7c2",
   "metadata": {},
   "outputs": [
    {
     "data": {
      "text/plain": [
       "'c'"
      ]
     },
     "execution_count": 47,
     "metadata": {},
     "output_type": "execute_result"
    }
   ],
   "source": [
    "s[-3]"
   ]
  },
  {
   "cell_type": "code",
   "execution_count": null,
   "id": "2fec7df6-c967-4b68-a383-15f16bc55ce6",
   "metadata": {},
   "outputs": [],
   "source": [
    "s[5]"
   ]
  },
  {
   "cell_type": "code",
   "execution_count": null,
   "id": "d067e543-bc77-4842-871e-9ae4ff4f5c06",
   "metadata": {},
   "outputs": [],
   "source": [
    "s[-5]"
   ]
  },
  {
   "cell_type": "code",
   "execution_count": null,
   "id": "d597e402-cea9-4939-b014-adb613ce7678",
   "metadata": {},
   "outputs": [],
   "source": [
    "s[-6]"
   ]
  },
  {
   "cell_type": "code",
   "execution_count": 48,
   "id": "acc5472e-b906-4146-8b18-88347cd20d6a",
   "metadata": {},
   "outputs": [
    {
     "name": "stdout",
     "output_type": "stream",
     "text": [
      "abcdefgh\n"
     ]
    }
   ],
   "source": [
    "s = 'abcdefgh'\n",
    "    #01234567\n",
    "print(s)"
   ]
  },
  {
   "cell_type": "code",
   "execution_count": 49,
   "id": "bd31f085-d6aa-4fbb-b21b-4b17daa8351e",
   "metadata": {},
   "outputs": [
    {
     "data": {
      "text/plain": [
       "'abcd'"
      ]
     },
     "execution_count": 49,
     "metadata": {},
     "output_type": "execute_result"
    }
   ],
   "source": [
    "s[0:4]"
   ]
  },
  {
   "cell_type": "code",
   "execution_count": 50,
   "id": "153b3888-bf9c-4401-8f01-3f2579e2ff78",
   "metadata": {},
   "outputs": [
    {
     "data": {
      "text/plain": [
       "'def'"
      ]
     },
     "execution_count": 50,
     "metadata": {},
     "output_type": "execute_result"
    }
   ],
   "source": [
    "s[3:6]"
   ]
  },
  {
   "cell_type": "code",
   "execution_count": 51,
   "id": "ee45cdbe-32f6-47aa-97bf-6b9941b3f7a8",
   "metadata": {},
   "outputs": [
    {
     "data": {
      "text/plain": [
       "'abcde'"
      ]
     },
     "execution_count": 51,
     "metadata": {},
     "output_type": "execute_result"
    }
   ],
   "source": [
    "s[:5]"
   ]
  },
  {
   "cell_type": "code",
   "execution_count": 52,
   "id": "aa567c16-c145-4fc7-9f42-edb8a2e39b2c",
   "metadata": {},
   "outputs": [
    {
     "data": {
      "text/plain": [
       "'cdefgh'"
      ]
     },
     "execution_count": 52,
     "metadata": {},
     "output_type": "execute_result"
    }
   ],
   "source": [
    "s[2:]"
   ]
  },
  {
   "cell_type": "code",
   "execution_count": 53,
   "id": "cc8be6f4-7f63-4a01-b3fb-6866bc80eed7",
   "metadata": {},
   "outputs": [
    {
     "data": {
      "text/plain": [
       "'abcdefgh'"
      ]
     },
     "execution_count": 53,
     "metadata": {},
     "output_type": "execute_result"
    }
   ],
   "source": [
    "s[:]"
   ]
  },
  {
   "cell_type": "code",
   "execution_count": 54,
   "id": "ce54cf7e-5810-4261-9598-6f76ce2620b0",
   "metadata": {},
   "outputs": [
    {
     "data": {
      "text/plain": [
       "'cdefg'"
      ]
     },
     "execution_count": 54,
     "metadata": {},
     "output_type": "execute_result"
    }
   ],
   "source": [
    "s[2:-1]"
   ]
  },
  {
   "cell_type": "code",
   "execution_count": null,
   "id": "eeac0568-2fe2-4659-a29a-20e527f9dcef",
   "metadata": {},
   "outputs": [],
   "source": [
    "s[4:-2]"
   ]
  },
  {
   "cell_type": "code",
   "execution_count": null,
   "id": "89db7083-8881-42a3-8755-a3d8bba8a26f",
   "metadata": {},
   "outputs": [],
   "source": [
    "s[::1]"
   ]
  },
  {
   "cell_type": "code",
   "execution_count": null,
   "id": "288173f1-1e24-487f-a3c7-de6169562e7b",
   "metadata": {},
   "outputs": [],
   "source": [
    "s[0:5:2]"
   ]
  },
  {
   "cell_type": "code",
   "execution_count": null,
   "id": "1b4dec14-342b-4367-be99-f07d9db786dc",
   "metadata": {},
   "outputs": [],
   "source": [
    "s[1:6:3]"
   ]
  },
  {
   "cell_type": "code",
   "execution_count": null,
   "id": "672e826e-6c30-4a01-9f81-9829b83d6377",
   "metadata": {},
   "outputs": [],
   "source": [
    "s[::-1]"
   ]
  },
  {
   "cell_type": "code",
   "execution_count": null,
   "id": "db02a22a-c66a-444f-84e0-9ce1f5aa2141",
   "metadata": {},
   "outputs": [],
   "source": [
    "s[6:2:-1]"
   ]
  },
  {
   "cell_type": "code",
   "execution_count": null,
   "id": "24de49d0-567f-4fb2-8adb-506a53cc3caa",
   "metadata": {},
   "outputs": [],
   "source": [
    "s[::-2]"
   ]
  },
  {
   "cell_type": "code",
   "execution_count": 56,
   "id": "0e044331-725e-4a13-be0c-48509b7b9d7a",
   "metadata": {},
   "outputs": [
    {
     "data": {
      "text/plain": [
       "'This is one sentence'"
      ]
     },
     "execution_count": 56,
     "metadata": {},
     "output_type": "execute_result"
    }
   ],
   "source": [
    "sentence = 'This is one sentence'\n",
    "sentence"
   ]
  },
  {
   "cell_type": "code",
   "execution_count": 57,
   "id": "e5292093-9c3e-4329-bfe9-25bcbece006b",
   "metadata": {},
   "outputs": [
    {
     "data": {
      "text/plain": [
       "8"
      ]
     },
     "execution_count": 57,
     "metadata": {},
     "output_type": "execute_result"
    }
   ],
   "source": [
    "sentence.index('o')"
   ]
  },
  {
   "cell_type": "code",
   "execution_count": 58,
   "id": "6be70355-87ac-497e-8a57-051b7293e0cd",
   "metadata": {},
   "outputs": [
    {
     "data": {
      "text/plain": [
       "'one'"
      ]
     },
     "execution_count": 58,
     "metadata": {},
     "output_type": "execute_result"
    }
   ],
   "source": [
    "sentence[8:11]"
   ]
  },
  {
   "cell_type": "code",
   "execution_count": 60,
   "id": "823026c8-6026-4ec3-82b6-a75a5b4e845c",
   "metadata": {},
   "outputs": [
    {
     "name": "stdout",
     "output_type": "stream",
     "text": [
      "PiyushPankaj\n"
     ]
    }
   ],
   "source": [
    "intro = 'My name is Piyush Pankaj'\n",
    "first_name = intro[11:17]\n",
    "second_name = intro[18:] \n",
    "full_name = first_name + '' +second_name\n",
    "print(full_name)"
   ]
  },
  {
   "cell_type": "code",
   "execution_count": 61,
   "id": "81632ff1-98c3-4e1d-a34f-7da1c1b0a2d7",
   "metadata": {},
   "outputs": [
    {
     "data": {
      "text/plain": [
       "'nohtyP'"
      ]
     },
     "execution_count": 61,
     "metadata": {},
     "output_type": "execute_result"
    }
   ],
   "source": [
    "# Reverse a string \n",
    "s = 'Python' \n",
    "s[::-1]"
   ]
  },
  {
   "cell_type": "code",
   "execution_count": 72,
   "id": "5b5f1cb7-ed89-4ae6-82fb-0872216cee7d",
   "metadata": {},
   "outputs": [
    {
     "data": {
      "text/plain": [
       "[2, 4, 6, 1, 3]"
      ]
     },
     "execution_count": 72,
     "metadata": {},
     "output_type": "execute_result"
    }
   ],
   "source": [
    "# max min \n",
    "shiv = [2,4,6,1,3]\n",
    "shiv"
   ]
  },
  {
   "cell_type": "code",
   "execution_count": 73,
   "id": "2d422b43-2f42-464b-8f8e-16dc4e17b989",
   "metadata": {},
   "outputs": [
    {
     "data": {
      "text/plain": [
       "6"
      ]
     },
     "execution_count": 73,
     "metadata": {},
     "output_type": "execute_result"
    }
   ],
   "source": [
    "max(shiv)"
   ]
  },
  {
   "cell_type": "code",
   "execution_count": 76,
   "id": "757d5a2b-9b84-4902-ae99-77e93320d543",
   "metadata": {},
   "outputs": [
    {
     "data": {
      "text/plain": [
       "1"
      ]
     },
     "execution_count": 76,
     "metadata": {},
     "output_type": "execute_result"
    }
   ],
   "source": [
    "min(shiv)"
   ]
  },
  {
   "cell_type": "code",
   "execution_count": 77,
   "id": "0f82efa7-8001-42ae-b440-b8929124a224",
   "metadata": {},
   "outputs": [
    {
     "data": {
      "text/plain": [
       "6"
      ]
     },
     "execution_count": 77,
     "metadata": {},
     "output_type": "execute_result"
    }
   ],
   "source": [
    "li = [2,4,6,2,5,8,2,4,5,6,2,5,6,4,5,7,8,4,3,2,4,5,7,4,3,9]\n",
    "li.count(4)"
   ]
  },
  {
   "cell_type": "code",
   "execution_count": 67,
   "id": "80611f3a-bedc-4f00-8ab8-0612fcbef6c3",
   "metadata": {},
   "outputs": [
    {
     "name": "stdout",
     "output_type": "stream",
     "text": [
      "z\n",
      "A\n"
     ]
    }
   ],
   "source": [
    "li = ['a','d','A','Z','z']\n",
    "print(max(li))\n",
    "print(min(li))"
   ]
  },
  {
   "cell_type": "code",
   "execution_count": 81,
   "id": "0b547699-c06e-4620-8dc8-dd81d911f94d",
   "metadata": {},
   "outputs": [
    {
     "data": {
      "text/plain": [
       "['a', 'b', 'c', 'd', 'b', 'e']"
      ]
     },
     "execution_count": 81,
     "metadata": {},
     "output_type": "execute_result"
    }
   ],
   "source": [
    "li = ['a','b','c','d','b','e']\n",
    "li"
   ]
  },
  {
   "cell_type": "code",
   "execution_count": 82,
   "id": "640edbc3-e473-4b18-8ac6-bb45b474671c",
   "metadata": {},
   "outputs": [
    {
     "data": {
      "text/plain": [
       "1"
      ]
     },
     "execution_count": 82,
     "metadata": {},
     "output_type": "execute_result"
    }
   ],
   "source": [
    "li.index('b')"
   ]
  },
  {
   "cell_type": "code",
   "execution_count": 83,
   "id": "1cf31b48-5c3c-402f-9124-077a7736c9f5",
   "metadata": {},
   "outputs": [
    {
     "data": {
      "text/plain": [
       "4"
      ]
     },
     "execution_count": 83,
     "metadata": {},
     "output_type": "execute_result"
    }
   ],
   "source": [
    "li.index('b',2,len(li))"
   ]
  },
  {
   "cell_type": "code",
   "execution_count": 84,
   "id": "9dca9edd-e38e-468e-8959-2f9048c69a36",
   "metadata": {},
   "outputs": [
    {
     "data": {
      "text/plain": [
       "['a', 'b', 'c', 'd', 'b', 'e']"
      ]
     },
     "execution_count": 84,
     "metadata": {},
     "output_type": "execute_result"
    }
   ],
   "source": [
    "li"
   ]
  },
  {
   "cell_type": "code",
   "execution_count": null,
   "id": "648e3f3f-f1ab-4a92-916e-a50549d3a79a",
   "metadata": {},
   "outputs": [],
   "source": [
    "li[::-1]"
   ]
  },
  {
   "cell_type": "code",
   "execution_count": null,
   "id": "8b0ab430-7734-42a1-87e3-93e374ae1e2d",
   "metadata": {},
   "outputs": [],
   "source": [
    "li"
   ]
  },
  {
   "cell_type": "code",
   "execution_count": null,
   "id": "ad57b784-a5f3-4d95-8900-8c7151b39851",
   "metadata": {},
   "outputs": [],
   "source": [
    "li.reverse()\n",
    "li"
   ]
  },
  {
   "cell_type": "code",
   "execution_count": null,
   "id": "c1bf82c0-950e-463d-b667-c439c44f78f5",
   "metadata": {},
   "outputs": [],
   "source": [
    "li = [2,4,6,1,3]\n",
    "li"
   ]
  },
  {
   "cell_type": "code",
   "execution_count": null,
   "id": "5f293802-af92-4963-be91-19d60e5c4b74",
   "metadata": {},
   "outputs": [],
   "source": [
    "li.sort()\n",
    "li"
   ]
  },
  {
   "cell_type": "code",
   "execution_count": null,
   "id": "70a7d500-8841-496f-980d-316c158993da",
   "metadata": {},
   "outputs": [],
   "source": [
    "li.sort(reverse=True)\n",
    "li"
   ]
  },
  {
   "cell_type": "code",
   "execution_count": null,
   "id": "46da0d85-5da1-482e-a780-db5cfece5d80",
   "metadata": {},
   "outputs": [],
   "source": [
    "li = [2,4,6,1,3]\n",
    "print(li)\n",
    "sorted_list = sorted(li)\n",
    "print(sorted_list)"
   ]
  },
  {
   "cell_type": "markdown",
   "id": "cd058e35-489b-4e96-a087-e678d0ccad5e",
   "metadata": {},
   "source": [
    "li = [2,4,6,1,3]\n",
    "print(li)\n",
    "sorted_list = sorted(li,reverse=True)\n",
    "print(sorted_list)"
   ]
  },
  {
   "cell_type": "markdown",
   "id": "3935b2be-8c1e-4c46-93d1-d579e7bd0b7d",
   "metadata": {},
   "source": [
    "# Flow control\n",
    "* if \n",
    "* elif\n",
    "* else"
   ]
  },
  {
   "cell_type": "code",
   "execution_count": 86,
   "id": "0193490e-de26-4e96-8118-18be65db8a19",
   "metadata": {},
   "outputs": [
    {
     "name": "stdout",
     "output_type": "stream",
     "text": [
      "x is greater\n"
     ]
    }
   ],
   "source": [
    "x = 5\n",
    "y = 4\n",
    "\n",
    "if x > y:\n",
    "    print('x is greater')"
   ]
  },
  {
   "cell_type": "code",
   "execution_count": 88,
   "id": "4bad75bd-7092-4086-857d-7dde945518bd",
   "metadata": {},
   "outputs": [
    {
     "name": "stdout",
     "output_type": "stream",
     "text": [
      "y is greater\n"
     ]
    }
   ],
   "source": [
    "x = 7\n",
    "y = 8\n",
    "\n",
    "if x > y:\n",
    "    print('x is greater')\n",
    "else:\n",
    "    print('y is greater')"
   ]
  },
  {
   "cell_type": "code",
   "execution_count": 89,
   "id": "0e26e4d1-dea5-4cda-99d1-23f2f79a83b1",
   "metadata": {},
   "outputs": [
    {
     "name": "stdin",
     "output_type": "stream",
     "text": [
      "Enter age of x:  23\n",
      "Enter age of y:  22\n"
     ]
    },
    {
     "name": "stdout",
     "output_type": "stream",
     "text": [
      "x is elder\n"
     ]
    }
   ],
   "source": [
    "x = int(input('Enter age of x: '))\n",
    "y = int(input('Enter age of y: '))\n",
    "\n",
    "if x == y:\n",
    "    print('x and y are twins')\n",
    "elif x > y:\n",
    "    print('x is elder')\n",
    "else:\n",
    "    print('y is elder')"
   ]
  },
  {
   "cell_type": "code",
   "execution_count": null,
   "id": "e0771e5a-3991-447a-bc7b-f4922c63aded",
   "metadata": {},
   "outputs": [],
   "source": [
    "age = int(input('Enter your age: '))\n",
    "\n",
    "if age >= 18:\n",
    "    print('You can vote')\n",
    "else:\n",
    "    print('You cannot vote')"
   ]
  },
  {
   "cell_type": "code",
   "execution_count": 90,
   "id": "3a5684d3-9e80-4eb8-b614-d6715daa8f69",
   "metadata": {},
   "outputs": [
    {
     "name": "stdin",
     "output_type": "stream",
     "text": [
      "Enter a number between 1 and 7:  7\n"
     ]
    },
    {
     "name": "stdout",
     "output_type": "stream",
     "text": [
      "Saturday\n"
     ]
    }
   ],
   "source": [
    "# Write a program to take a number between 1 to 7 from user and print the day of week\n",
    "day = int(input('Enter a number between 1 and 7: '))\n",
    "\n",
    "if day == 1:\n",
    "    print('Sunday')\n",
    "elif day == 2:\n",
    "    print('Monday')\n",
    "elif day == 3:\n",
    "    print('Tuesday')\n",
    "elif day == 4:\n",
    "    print('Wednesday')\n",
    "elif day == 5:\n",
    "    print('Thrusday')\n",
    "elif day == 6:\n",
    "    print('Friday')\n",
    "elif day == 7:\n",
    "    print('Saturday')\n",
    "else:\n",
    "    print('Invalid Input..!')"
   ]
  },
  {
   "cell_type": "code",
   "execution_count": 91,
   "id": "1c907cc2-b95c-4ce1-ada2-c2e486061e67",
   "metadata": {},
   "outputs": [
    {
     "name": "stdin",
     "output_type": "stream",
     "text": [
      "Enter a number:  1\n"
     ]
    },
    {
     "name": "stdout",
     "output_type": "stream",
     "text": [
      "Number is odd\n"
     ]
    }
   ],
   "source": [
    "n = int(input('Enter a number: '))\n",
    "\n",
    "if n % 2 == 0:\n",
    "    print('Number is Even')\n",
    "else:\n",
    "    print('Number is odd')"
   ]
  },
  {
   "cell_type": "code",
   "execution_count": null,
   "id": "5538343a-24ed-4a9e-ab44-fa95ddb86485",
   "metadata": {},
   "outputs": [],
   "source": []
  }
 ],
 "metadata": {
  "kernelspec": {
   "display_name": "Python 3 (ipykernel)",
   "language": "python",
   "name": "python3"
  },
  "language_info": {
   "codemirror_mode": {
    "name": "ipython",
    "version": 3
   },
   "file_extension": ".py",
   "mimetype": "text/x-python",
   "name": "python",
   "nbconvert_exporter": "python",
   "pygments_lexer": "ipython3",
   "version": "3.12.7"
  }
 },
 "nbformat": 4,
 "nbformat_minor": 5
}
