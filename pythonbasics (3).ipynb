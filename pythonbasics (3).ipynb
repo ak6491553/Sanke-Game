{
 "cells": [
  {
   "cell_type": "code",
   "execution_count": 4,
   "id": "508ba938-7f91-42c5-b298-9ecf7d47d194",
   "metadata": {},
   "outputs": [
    {
     "name": "stdout",
     "output_type": "stream",
     "text": [
      "i am aditya\n"
     ]
    }
   ],
   "source": [
    "print('i am aditya')"
   ]
  },
  {
   "cell_type": "markdown",
   "id": "c0d3fea7-344c-44b8-bf1a-c587081c7a10",
   "metadata": {},
   "source": [
    "# COMMENTS\n",
    "* topic 1\n",
    "* topic 2\n",
    "* topic 3"
   ]
  },
  {
   "cell_type": "code",
   "execution_count": 12,
   "id": "c21202da-9351-49ff-8f9e-d91cd8b9e55b",
   "metadata": {},
   "outputs": [
    {
     "name": "stdout",
     "output_type": "stream",
     "text": [
      "Something\n"
     ]
    }
   ],
   "source": [
    "# This is a comments\n",
    "print('Something') # using print function"
   ]
  },
  {
   "cell_type": "code",
   "execution_count": 14,
   "id": "92630477-a225-4eb3-8202-613a017419c4",
   "metadata": {},
   "outputs": [
    {
     "name": "stdout",
     "output_type": "stream",
     "text": [
      "anything\n"
     ]
    }
   ],
   "source": [
    "'''\n",
    "This ia a cow \n",
    "this is a dog \n",
    "'''\n",
    "print('anything')"
   ]
  },
  {
   "cell_type": "code",
   "execution_count": 16,
   "id": "9d4134ac-d621-463e-9c47-51aabe2f1840",
   "metadata": {},
   "outputs": [
    {
     "name": "stdout",
     "output_type": "stream",
     "text": [
      "8\n"
     ]
    }
   ],
   "source": [
    "x=8\n",
    "print(x)"
   ]
  },
  {
   "cell_type": "code",
   "execution_count": 18,
   "id": "7a5887ee-5d37-4c68-9daa-018e77d5a4ae",
   "metadata": {},
   "outputs": [
    {
     "name": "stdout",
     "output_type": "stream",
     "text": [
      "aditya\n"
     ]
    }
   ],
   "source": [
    "name= 'aditya'\n",
    "print(name)"
   ]
  },
  {
   "cell_type": "code",
   "execution_count": 20,
   "id": "da4ef6cb-0e0c-49b7-a15f-824865f1fe5f",
   "metadata": {},
   "outputs": [
    {
     "name": "stdout",
     "output_type": "stream",
     "text": [
      "my name is aditya\n"
     ]
    }
   ],
   "source": [
    "name= 'aditya'\n",
    "print('my name is',name)"
   ]
  },
  {
   "cell_type": "code",
   "execution_count": 36,
   "id": "3fa75ea6-8170-4ce9-ba1b-efb147d1471c",
   "metadata": {},
   "outputs": [
    {
     "name": "stdin",
     "output_type": "stream",
     "text": [
      "enter your name:  fghj\n",
      "enter your age:  234\n"
     ]
    },
    {
     "name": "stdout",
     "output_type": "stream",
     "text": [
      "my name is fghj my age is 234 years old\n"
     ]
    }
   ],
   "source": [
    "name= input('enter your name: ')\n",
    "age= input('enter your age: ')\n",
    "print('my name is',name,'my age is', age, 'years old')\n"
   ]
  },
  {
   "cell_type": "code",
   "execution_count": 40,
   "id": "db7efd38-e20c-4864-bcc5-e9f9fab3da3c",
   "metadata": {},
   "outputs": [
    {
     "name": "stdout",
     "output_type": "stream",
     "text": [
      "my name is fghj and i am 234 yaers old\n"
     ]
    }
   ],
   "source": [
    "print('my name is {} and i am {} yaers old'.format(name,age))\n",
    "    "
   ]
  },
  {
   "cell_type": "code",
   "execution_count": 44,
   "id": "cd8af838-3a0d-42b3-afb4-57d6254f7c6e",
   "metadata": {},
   "outputs": [
    {
     "name": "stdout",
     "output_type": "stream",
     "text": [
      "443.576\n"
     ]
    }
   ],
   "source": [
    "radius =8.9\n",
    "pi = 5.6\n",
    "area = pi * radius ** 2\n",
    "print(area)"
   ]
  },
  {
   "cell_type": "code",
   "execution_count": 48,
   "id": "6a57dc01-8c0a-4409-937b-edfeb852c687",
   "metadata": {},
   "outputs": [
    {
     "name": "stdout",
     "output_type": "stream",
     "text": [
      "962.5\n"
     ]
    }
   ],
   "source": [
    "base = 35\n",
    "height = 55\n",
    "area = 0.5 * base * height\n",
    "print(area)"
   ]
  },
  {
   "cell_type": "code",
   "execution_count": 8,
   "id": "c8508e53-b424-4603-a9b5-65b6e7848fab",
   "metadata": {},
   "outputs": [
    {
     "name": "stdout",
     "output_type": "stream",
     "text": [
      "5\n",
      "8\n",
      "9\n"
     ]
    }
   ],
   "source": [
    "x , y , z = 5,8,9\n",
    "print(x)\n",
    "print(y)\n",
    "print(z)"
   ]
  },
  {
   "cell_type": "markdown",
   "id": "648c1d57-5dd5-4b88-81f4-98a1ea0641be",
   "metadata": {},
   "source": [
    "# Data type"
   ]
  },
  {
   "cell_type": "markdown",
   "id": "ca1c3e53-4c73-46b2-b2a4-a1ff11c978f8",
   "metadata": {},
   "source": [
    "## Numeric"
   ]
  },
  {
   "cell_type": "code",
   "execution_count": 13,
   "id": "abeb376c-451c-4c87-a7af-e7ec4fd2a5dc",
   "metadata": {},
   "outputs": [
    {
     "name": "stdout",
     "output_type": "stream",
     "text": [
      "8\n"
     ]
    },
    {
     "data": {
      "text/plain": [
       "int"
      ]
     },
     "execution_count": 13,
     "metadata": {},
     "output_type": "execute_result"
    }
   ],
   "source": [
    "# int\n",
    "x = 8\n",
    "print(x)\n",
    "type(x)"
   ]
  },
  {
   "cell_type": "code",
   "execution_count": 17,
   "id": "424b436a-926f-4ca4-9476-9947360c9ec9",
   "metadata": {},
   "outputs": [
    {
     "name": "stdout",
     "output_type": "stream",
     "text": [
      "5.6\n"
     ]
    },
    {
     "data": {
      "text/plain": [
       "float"
      ]
     },
     "execution_count": 17,
     "metadata": {},
     "output_type": "execute_result"
    }
   ],
   "source": [
    "y = 5.6\n",
    "print(y)\n",
    "type(y)"
   ]
  },
  {
   "cell_type": "code",
   "execution_count": 19,
   "id": "0bb58d7c-7a89-443e-8388-1fab9f25f88e",
   "metadata": {},
   "outputs": [
    {
     "name": "stdout",
     "output_type": "stream",
     "text": [
      "(5+3j)\n"
     ]
    },
    {
     "data": {
      "text/plain": [
       "complex"
      ]
     },
     "execution_count": 19,
     "metadata": {},
     "output_type": "execute_result"
    }
   ],
   "source": [
    "z = 5 + 3j\n",
    "print(z)\n",
    "type(z)"
   ]
  },
  {
   "cell_type": "markdown",
   "id": "8558903c-bb2a-415f-9e82-5ea9326120ab",
   "metadata": {},
   "source": [
    "# Boolean"
   ]
  },
  {
   "cell_type": "code",
   "execution_count": 32,
   "id": "5f85fd0e-4b22-4247-8601-9efe4071fe2a",
   "metadata": {},
   "outputs": [
    {
     "data": {
      "text/plain": [
       "bool"
      ]
     },
     "execution_count": 32,
     "metadata": {},
     "output_type": "execute_result"
    }
   ],
   "source": [
    "a = True\n",
    "type(a)"
   ]
  },
  {
   "cell_type": "code",
   "execution_count": 48,
   "id": "eea18dc2-9c61-47dd-9bee-6e4dbd32b5ef",
   "metadata": {},
   "outputs": [
    {
     "name": "stdout",
     "output_type": "stream",
     "text": [
      "<class 'bool'>\n"
     ]
    }
   ],
   "source": [
    "b = False \n",
    "print(type(b))"
   ]
  },
  {
   "cell_type": "markdown",
   "id": "eb6ca6a9-5ab1-4535-bff3-45bf557963b7",
   "metadata": {},
   "source": [
    "p = 5 > 3\n",
    "type(p)"
   ]
  },
  {
   "cell_type": "code",
   "execution_count": 38,
   "id": "d348579a-f15f-45fb-9f73-9c0d6487ac53",
   "metadata": {},
   "outputs": [
    {
     "data": {
      "text/plain": [
       "True"
      ]
     },
     "execution_count": 38,
     "metadata": {},
     "output_type": "execute_result"
    }
   ],
   "source": [
    "p "
   ]
  },
  {
   "cell_type": "code",
   "execution_count": 46,
   "id": "a9b03a28-dbb8-4a0a-a10a-13ac4ca19a2a",
   "metadata": {},
   "outputs": [
    {
     "name": "stdout",
     "output_type": "stream",
     "text": [
      "2\n",
      "3\n"
     ]
    }
   ],
   "source": [
    "x = 2\n",
    "y = 3\n",
    "print(x)\n",
    "print(y)"
   ]
  },
  {
   "cell_type": "markdown",
   "id": "b76444c4-0c7d-4ade-aad4-d7f3e51a6c6d",
   "metadata": {},
   "source": [
    "# set"
   ]
  },
  {
   "cell_type": "code",
   "execution_count": 55,
   "id": "d5d9e182-ceba-4e41-8a4c-191958d912cf",
   "metadata": {},
   "outputs": [
    {
     "name": "stdout",
     "output_type": "stream",
     "text": [
      "{0, 1, 2, 3, 4, 5, 6, 7, 8, 9}\n"
     ]
    },
    {
     "data": {
      "text/plain": [
       "set"
      ]
     },
     "execution_count": 55,
     "metadata": {},
     "output_type": "execute_result"
    }
   ],
   "source": [
    "s = {1,2,3,4,5,6,7,8,9,0,8,8,7,6,5,5,5,4}\n",
    "print(s)\n",
    "type(s)"
   ]
  },
  {
   "cell_type": "code",
   "execution_count": 59,
   "id": "0fe97dba-96a3-40a1-aa4c-842217980b5e",
   "metadata": {},
   "outputs": [
    {
     "data": {
      "text/plain": [
       "{'aditya', 'shubham', 'vikash'}"
      ]
     },
     "execution_count": 59,
     "metadata": {},
     "output_type": "execute_result"
    }
   ],
   "source": [
    "sl = {'aditya','shubham','vikash','shubham','aditya','vikash'}\n",
    "sl"
   ]
  },
  {
   "cell_type": "code",
   "execution_count": 61,
   "id": "aa22a694-a226-4a9c-888f-4e75e41d3dd3",
   "metadata": {},
   "outputs": [
    {
     "name": "stdout",
     "output_type": "stream",
     "text": [
      "aditya\n"
     ]
    }
   ],
   "source": [
    "name = 'aditya'\n",
    "print(name)"
   ]
  },
  {
   "cell_type": "code",
   "execution_count": 65,
   "id": "e0d81f7f-3883-4189-b273-c47c73db9899",
   "metadata": {},
   "outputs": [
    {
     "data": {
      "text/plain": [
       "'aditya'"
      ]
     },
     "execution_count": 65,
     "metadata": {},
     "output_type": "execute_result"
    }
   ],
   "source": [
    "name"
   ]
  },
  {
   "cell_type": "code",
   "execution_count": 67,
   "id": "7692f339-a6bc-435f-812f-055dd9e1a653",
   "metadata": {},
   "outputs": [
    {
     "data": {
      "text/plain": [
       "set()"
      ]
     },
     "execution_count": 67,
     "metadata": {},
     "output_type": "execute_result"
    }
   ],
   "source": [
    "s2 = set()\n",
    "s2"
   ]
  },
  {
   "cell_type": "markdown",
   "id": "6a51e1b0-4503-4ac5-97eb-63dc947194ac",
   "metadata": {},
   "source": [
    "# Dictionary"
   ]
  },
  {
   "cell_type": "code",
   "execution_count": 72,
   "id": "5b5bafef-90ba-4087-b669-c3cc050f1dcb",
   "metadata": {},
   "outputs": [
    {
     "name": "stdout",
     "output_type": "stream",
     "text": [
      "{'a': 1, 'b': 2, 'c': 3}\n"
     ]
    },
    {
     "data": {
      "text/plain": [
       "dict"
      ]
     },
     "execution_count": 72,
     "metadata": {},
     "output_type": "execute_result"
    }
   ],
   "source": [
    "d = {'a':1, 'b':2, 'c':3}\n",
    "print(d)\n",
    "type(d)"
   ]
  },
  {
   "cell_type": "code",
   "execution_count": 82,
   "id": "a14811f1-d257-465d-99c1-cdddbd28ff6b",
   "metadata": {},
   "outputs": [
    {
     "data": {
      "text/plain": [
       "dict"
      ]
     },
     "execution_count": 82,
     "metadata": {},
     "output_type": "execute_result"
    }
   ],
   "source": [
    "d1 = {}\n",
    "type(d1)"
   ]
  },
  {
   "cell_type": "code",
   "execution_count": 86,
   "id": "2545bd5f-1662-4792-9aa5-11962f13b8b1",
   "metadata": {},
   "outputs": [
    {
     "name": "stdout",
     "output_type": "stream",
     "text": [
      "{'hindi': 78, 'english': 70, 'math': 88}\n"
     ]
    },
    {
     "data": {
      "text/plain": [
       "dict"
      ]
     },
     "execution_count": 86,
     "metadata": {},
     "output_type": "execute_result"
    }
   ],
   "source": [
    "s = {'hindi':78, 'english':70, 'math':88}\n",
    "print(s)\n",
    "type(s)"
   ]
  },
  {
   "cell_type": "markdown",
   "id": "3939095f-22be-4489-9053-94b1ae038a07",
   "metadata": {},
   "source": [
    "# Sequence Types\n",
    "## String"
   ]
  },
  {
   "cell_type": "code",
   "execution_count": 91,
   "id": "9a251d2d-a487-4b6e-b9ef-800e23b90209",
   "metadata": {},
   "outputs": [
    {
     "name": "stdout",
     "output_type": "stream",
     "text": [
      "prateek\n"
     ]
    },
    {
     "data": {
      "text/plain": [
       "str"
      ]
     },
     "execution_count": 91,
     "metadata": {},
     "output_type": "execute_result"
    }
   ],
   "source": [
    "name = 'prateek'\n",
    "print(name)\n",
    "type(name)"
   ]
  },
  {
   "cell_type": "code",
   "execution_count": 93,
   "id": "0e87f6b0-8959-4ac6-b3cf-d67e87843f61",
   "metadata": {},
   "outputs": [
    {
     "name": "stdout",
     "output_type": "stream",
     "text": [
      "55\n"
     ]
    },
    {
     "data": {
      "text/plain": [
       "str"
      ]
     },
     "execution_count": 93,
     "metadata": {},
     "output_type": "execute_result"
    }
   ],
   "source": [
    "s1 = '55'\n",
    "print(s1)\n",
    "type(s1)"
   ]
  },
  {
   "cell_type": "markdown",
   "id": "374cacb2-a5fd-4f0e-af15-a99ab10cadce",
   "metadata": {},
   "source": [
    "# List"
   ]
  },
  {
   "cell_type": "code",
   "execution_count": 102,
   "id": "97eefc7a-337b-45a6-be26-1b021879ac56",
   "metadata": {},
   "outputs": [
    {
     "name": "stdout",
     "output_type": "stream",
     "text": [
      "['apple', 'banana', 'orange', 'grapes', 'watermelon']\n"
     ]
    },
    {
     "data": {
      "text/plain": [
       "5"
      ]
     },
     "execution_count": 102,
     "metadata": {},
     "output_type": "execute_result"
    }
   ],
   "source": [
    "fruitsname = ['apple' ,'banana' ,'orange' ,'grapes' ,'watermelon']\n",
    "print(fruitsname)\n",
    "len(fruitsname)"
   ]
  },
  {
   "cell_type": "markdown",
   "id": "e9b7ba8b-ccc1-4909-920f-4a23606b1e0b",
   "metadata": {},
   "source": [
    "# Tuple"
   ]
  },
  {
   "cell_type": "code",
   "execution_count": 109,
   "id": "96e526c4-df63-4038-82e3-8f0ffbe02456",
   "metadata": {},
   "outputs": [
    {
     "name": "stdout",
     "output_type": "stream",
     "text": [
      "('shubham', 'bhupendra', 'prateek', 'vikash', 'sarthak', 'gulshan', 'parmesh')\n",
      "7\n"
     ]
    },
    {
     "data": {
      "text/plain": [
       "tuple"
      ]
     },
     "execution_count": 109,
     "metadata": {},
     "output_type": "execute_result"
    }
   ],
   "source": [
    "friends_name = ('shubham' ,'bhupendra' ,'prateek' ,'vikash' ,'sarthak' ,'gulshan' ,'parmesh')\n",
    "print(friends_name)\n",
    "print(len(friends_name))\n",
    "type(friends_name)"
   ]
  },
  {
   "cell_type": "markdown",
   "id": "b3ebde38-bf09-429d-86c7-41a15f5c7ca0",
   "metadata": {},
   "source": [
    "# Numeric Operator"
   ]
  },
  {
   "cell_type": "code",
   "execution_count": 4,
   "id": "a3e85b4b-ca7b-4040-803e-0aa229579c21",
   "metadata": {},
   "outputs": [
    {
     "name": "stdout",
     "output_type": "stream",
     "text": [
      "30\n"
     ]
    }
   ],
   "source": [
    "x = 7\n",
    "y = 6\n",
    "z = -17"
   ]
  },
  {
   "cell_type": "code",
   "execution_count": 114,
   "id": "1c8676b4-ea15-4c6d-9941-5ce24bb0b54b",
   "metadata": {},
   "outputs": [
    {
     "data": {
      "text/plain": [
       "13"
      ]
     },
     "execution_count": 114,
     "metadata": {},
     "output_type": "execute_result"
    }
   ],
   "source": [
    "x + y"
   ]
  },
  {
   "cell_type": "code",
   "execution_count": 116,
   "id": "0990ef76-f2e1-489e-9fb4-a62242a824da",
   "metadata": {},
   "outputs": [
    {
     "data": {
      "text/plain": [
       "1"
      ]
     },
     "execution_count": 116,
     "metadata": {},
     "output_type": "execute_result"
    }
   ],
   "source": [
    "x - y"
   ]
  },
  {
   "cell_type": "code",
   "execution_count": 118,
   "id": "2c5dd6ff-8b32-467e-b5b4-13e5a2f1e4d1",
   "metadata": {},
   "outputs": [
    {
     "data": {
      "text/plain": [
       "42"
      ]
     },
     "execution_count": 118,
     "metadata": {},
     "output_type": "execute_result"
    }
   ],
   "source": [
    "x * y"
   ]
  },
  {
   "cell_type": "code",
   "execution_count": 120,
   "id": "d72b790c-0cab-4e7d-83e3-96fc9b8940b4",
   "metadata": {},
   "outputs": [
    {
     "data": {
      "text/plain": [
       "1.1666666666666667"
      ]
     },
     "execution_count": 120,
     "metadata": {},
     "output_type": "execute_result"
    }
   ],
   "source": [
    "x / y"
   ]
  },
  {
   "cell_type": "code",
   "execution_count": 122,
   "id": "96580d33-e097-4bb1-8bf1-d1a141a8f7e1",
   "metadata": {},
   "outputs": [
    {
     "data": {
      "text/plain": [
       "17"
      ]
     },
     "execution_count": 122,
     "metadata": {},
     "output_type": "execute_result"
    }
   ],
   "source": [
    "abs(z)"
   ]
  },
  {
   "cell_type": "code",
   "execution_count": 124,
   "id": "cd5e34aa-afb2-4f64-9057-c0b3e23d2d11",
   "metadata": {},
   "outputs": [
    {
     "data": {
      "text/plain": [
       "'0b111000'"
      ]
     },
     "execution_count": 124,
     "metadata": {},
     "output_type": "execute_result"
    }
   ],
   "source": [
    "bin(56)"
   ]
  },
  {
   "cell_type": "code",
   "execution_count": 126,
   "id": "be95a3fd-1aa9-4277-909d-67b834c892c6",
   "metadata": {},
   "outputs": [
    {
     "data": {
      "text/plain": [
       "'0x38'"
      ]
     },
     "execution_count": 126,
     "metadata": {},
     "output_type": "execute_result"
    }
   ],
   "source": [
    "hex(56)"
   ]
  },
  {
   "cell_type": "code",
   "execution_count": 134,
   "id": "2d6a263d-47cd-4f6d-a2fe-ccc8445dae40",
   "metadata": {},
   "outputs": [
    {
     "name": "stdout",
     "output_type": "stream",
     "text": [
      "2800.0\n"
     ]
    }
   ],
   "source": [
    "p = 5000\n",
    "r = 7\n",
    "t = 8\n",
    "SI=p*r*t/100\n",
    "print(SI)"
   ]
  },
  {
   "cell_type": "code",
   "execution_count": 144,
   "id": "32805359-45af-4ffb-9418-9183738709b4",
   "metadata": {},
   "outputs": [
    {
     "name": "stdout",
     "output_type": "stream",
     "text": [
      "327600000.0\n"
     ]
    }
   ],
   "source": [
    "p = 80000\n",
    "r = 9\n",
    "n = 3\n",
    "t = 2\n",
    "ci= p*(1+r/n)**(n*t) -p\n",
    "print(ci)"
   ]
  },
  {
   "cell_type": "code",
   "execution_count": 142,
   "id": "0d5a0080-25c6-43a1-a475-399b73405b88",
   "metadata": {},
   "outputs": [
    {
     "data": {
      "text/plain": [
       "94400.0"
      ]
     },
     "execution_count": 142,
     "metadata": {},
     "output_type": "execute_result"
    }
   ],
   "source": [
    "total_amount = p + si\n",
    "total_amount"
   ]
  },
  {
   "cell_type": "code",
   "execution_count": 148,
   "id": "00a66338-15ce-40fb-8f08-0ed2eb07dbd8",
   "metadata": {},
   "outputs": [
    {
     "name": "stdin",
     "output_type": "stream",
     "text": [
      "enter radius:  7.8\n"
     ]
    },
    {
     "name": "stdout",
     "output_type": "stream",
     "text": [
      "area of the circle: 191.0376\n"
     ]
    }
   ],
   "source": [
    "radius = float(input('enter radius: ')) \n",
    "pi = 3.14\n",
    "area = pi * radius ** 2\n",
    "print('area of the circle:',area)"
   ]
  },
  {
   "cell_type": "code",
   "execution_count": 150,
   "id": "cb701de2-1136-4cd1-9d23-bf0d644abcf4",
   "metadata": {},
   "outputs": [
    {
     "name": "stdin",
     "output_type": "stream",
     "text": [
      "enter radius:  77\n"
     ]
    },
    {
     "name": "stdout",
     "output_type": "stream",
     "text": [
      "area of the circle: 18617.06\n"
     ]
    }
   ],
   "source": [
    "radius = float(input('enter radius: '))\n",
    "pi = 3.14\n",
    "area = pi * radius ** 2\n",
    "print('area of the circle:',area)"
   ]
  },
  {
   "cell_type": "markdown",
   "id": "5acb3f7c-458f-4e10-aca8-9cf4b74f9747",
   "metadata": {},
   "source": [
    "# Range\n"
   ]
  },
  {
   "cell_type": "markdown",
   "id": "6dacbe7c-121a-4177-ad5b-728ef19583b0",
   "metadata": {},
   "source": [
    "## Range(start,stop)"
   ]
  },
  {
   "cell_type": "code",
   "execution_count": 9,
   "id": "ead4e87e-0d74-4aaa-b27f-a1e17a7772f0",
   "metadata": {},
   "outputs": [
    {
     "name": "stdout",
     "output_type": "stream",
     "text": [
      "range(0, 5)\n",
      "5\n"
     ]
    },
    {
     "data": {
      "text/plain": [
       "range"
      ]
     },
     "execution_count": 9,
     "metadata": {},
     "output_type": "execute_result"
    }
   ],
   "source": [
    "r1 = range(5)\n",
    "print(r1)\n",
    "print(len(r1))\n",
    "type(r1)"
   ]
  },
  {
   "cell_type": "code",
   "execution_count": 11,
   "id": "cabf3b6f-03f7-4d81-ad42-b836dbd1529c",
   "metadata": {},
   "outputs": [
    {
     "name": "stdout",
     "output_type": "stream",
     "text": [
      "range(2, 10)\n",
      "8\n"
     ]
    }
   ],
   "source": [
    "r2 = range(2,10)\n",
    "print(r2)\n",
    "print(len(r2))"
   ]
  },
  {
   "cell_type": "code",
   "execution_count": 13,
   "id": "cb913f3a-4ea0-4749-bf6b-370ff8239bac",
   "metadata": {},
   "outputs": [
    {
     "name": "stdout",
     "output_type": "stream",
     "text": [
      "55\n"
     ]
    }
   ],
   "source": [
    "x = 55\n",
    "print(x)"
   ]
  },
  {
   "cell_type": "code",
   "execution_count": 15,
   "id": "d8d526e4-62d9-49d2-afa1-16fdd9631f09",
   "metadata": {},
   "outputs": [
    {
     "name": "stdout",
     "output_type": "stream",
     "text": [
      "58\n"
     ]
    }
   ],
   "source": [
    "x += 3\n",
    "print(x)"
   ]
  },
  {
   "cell_type": "code",
   "execution_count": 17,
   "id": "0b969b5c-f712-4f55-86c4-34ad59c304d4",
   "metadata": {},
   "outputs": [
    {
     "name": "stdout",
     "output_type": "stream",
     "text": [
      "55\n"
     ]
    }
   ],
   "source": [
    "x -= 3\n",
    "print(x)"
   ]
  },
  {
   "cell_type": "code",
   "execution_count": 27,
   "id": "3f2d335c-1db8-4575-b1b4-f40a0b6db33a",
   "metadata": {},
   "outputs": [
    {
     "name": "stdout",
     "output_type": "stream",
     "text": [
      "17496.0\n"
     ]
    }
   ],
   "source": [
    "x *= 3\n",
    "print(x)"
   ]
  },
  {
   "cell_type": "code",
   "execution_count": 29,
   "id": "a30dc92c-c0ff-474a-b8de-e7c7376fdd94",
   "metadata": {},
   "outputs": [
    {
     "name": "stdout",
     "output_type": "stream",
     "text": [
      "5832.0\n"
     ]
    }
   ],
   "source": [
    "x /= 3\n",
    "print(x)"
   ]
  },
  {
   "cell_type": "code",
   "execution_count": 31,
   "id": "519a04e7-9a3b-41c9-b022-ac0ee768eece",
   "metadata": {},
   "outputs": [
    {
     "name": "stdout",
     "output_type": "stream",
     "text": [
      "1944.0\n"
     ]
    }
   ],
   "source": [
    "x //= 3\n",
    "print(x)"
   ]
  },
  {
   "cell_type": "code",
   "execution_count": 33,
   "id": "4cddfa9f-2b74-49ce-984f-b95e3adb48e2",
   "metadata": {},
   "outputs": [
    {
     "name": "stdout",
     "output_type": "stream",
     "text": [
      "0.0\n"
     ]
    }
   ],
   "source": [
    "x %= 3\n",
    "print(x)"
   ]
  },
  {
   "cell_type": "code",
   "execution_count": 35,
   "id": "357a0360-af27-4e1a-a486-b70c6c988585",
   "metadata": {},
   "outputs": [
    {
     "name": "stdout",
     "output_type": "stream",
     "text": [
      "True\n"
     ]
    }
   ],
   "source": [
    "I = 4\n",
    "J = 7\n",
    "print(4<7)"
   ]
  },
  {
   "cell_type": "code",
   "execution_count": 37,
   "id": "ae00f662-0e70-4df0-9eac-26ced3e5b457",
   "metadata": {},
   "outputs": [
    {
     "name": "stdout",
     "output_type": "stream",
     "text": [
      "False\n"
     ]
    }
   ],
   "source": [
    "S = 7\n",
    "D = 5\n",
    "print(S<D)"
   ]
  },
  {
   "cell_type": "code",
   "execution_count": 39,
   "id": "0767eee5-51b2-4279-a57c-cd35b2688ac7",
   "metadata": {},
   "outputs": [
    {
     "name": "stdout",
     "output_type": "stream",
     "text": [
      "False\n"
     ]
    }
   ],
   "source": [
    "I = 4\n",
    "J = 7\n",
    "print(I>J)"
   ]
  },
  {
   "cell_type": "code",
   "execution_count": 43,
   "id": "649bde27-071f-4e0b-a5c6-de29d556633a",
   "metadata": {},
   "outputs": [
    {
     "name": "stdout",
     "output_type": "stream",
     "text": [
      "True\n"
     ]
    }
   ],
   "source": [
    "S = 7\n",
    "D = 5\n",
    "print(S>D)"
   ]
  },
  {
   "cell_type": "code",
   "execution_count": 49,
   "id": "a8a4729c-490a-4a32-8586-c620f4262478",
   "metadata": {},
   "outputs": [
    {
     "name": "stdout",
     "output_type": "stream",
     "text": [
      "True\n"
     ]
    }
   ],
   "source": [
    "I = 3\n",
    "J = 3\n",
    "print(I<=J)"
   ]
  },
  {
   "cell_type": "code",
   "execution_count": 51,
   "id": "89b1cb51-1ce5-4b06-a7f8-035ed9f26227",
   "metadata": {},
   "outputs": [
    {
     "name": "stdout",
     "output_type": "stream",
     "text": [
      "True\n"
     ]
    }
   ],
   "source": [
    "I = 3\n",
    "J = 3\n",
    "print(I>=J)"
   ]
  },
  {
   "cell_type": "code",
   "execution_count": 55,
   "id": "14ebc709-91ee-4ec4-96c2-68c0270e6a62",
   "metadata": {},
   "outputs": [
    {
     "name": "stdout",
     "output_type": "stream",
     "text": [
      "True\n"
     ]
    }
   ],
   "source": [
    "I = 7\n",
    "J = 6\n",
    "print(I>=J)"
   ]
  },
  {
   "cell_type": "code",
   "execution_count": null,
   "id": "b020b45b-f68c-418e-877c-5f3a78703708",
   "metadata": {},
   "outputs": [],
   "source": [
    "# create a program to find area of a circle and check wheater the area is greater than 50 or not."
   ]
  },
  {
   "cell_type": "code",
   "execution_count": 6,
   "id": "dc3b9931-a28b-4314-aadf-c3bf23bdee0b",
   "metadata": {},
   "outputs": [
    {
     "name": "stdin",
     "output_type": "stream",
     "text": [
      "enter radius:  8.7\n"
     ]
    },
    {
     "name": "stdout",
     "output_type": "stream",
     "text": [
      "area of the circle: 2067.6994199999995\n",
      "True\n"
     ]
    }
   ],
   "source": [
    "radius = float(input('enter radius: '))\n",
    "pi = 3.14\n",
    "area = pi * radius **3\n",
    "print('area of the circle:',area)\n",
    "print(area > 50)\n"
   ]
  },
  {
   "cell_type": "code",
   "execution_count": 63,
   "id": "aeafd699-265f-4cb3-872d-f411691f05a2",
   "metadata": {},
   "outputs": [
    {
     "name": "stdout",
     "output_type": "stream",
     "text": [
      "False\n"
     ]
    }
   ],
   "source": [
    "a = True\n",
    "print(not a)"
   ]
  },
  {
   "cell_type": "code",
   "execution_count": 65,
   "id": "0369b850-6486-4c75-bd60-05f3a7ad4e55",
   "metadata": {},
   "outputs": [
    {
     "name": "stdout",
     "output_type": "stream",
     "text": [
      "True\n"
     ]
    }
   ],
   "source": [
    "b = False\n",
    "print(not b)"
   ]
  },
  {
   "cell_type": "code",
   "execution_count": 8,
   "id": "cd38c0a8-84e2-4ce0-8804-4e6ee90fd647",
   "metadata": {},
   "outputs": [
    {
     "name": "stdout",
     "output_type": "stream",
     "text": [
      "False\n",
      "False\n"
     ]
    }
   ],
   "source": [
    "a = False\n",
    "b= False \n",
    "print(a and b) \n",
    "print(a or b)"
   ]
  },
  {
   "cell_type": "code",
   "execution_count": 4,
   "id": "ff8d88fe-3d70-441c-a0bd-455c418553f2",
   "metadata": {},
   "outputs": [
    {
     "name": "stdin",
     "output_type": "stream",
     "text": [
      "enter radius:  3.2\n"
     ]
    },
    {
     "name": "stdout",
     "output_type": "stream",
     "text": [
      "area of the circle: 32.153600000000004\n",
      "True\n"
     ]
    }
   ],
   "source": [
    "# Check the area of the circle lies between 20 and 50 or not \n",
    "radius = float(input('enter radius: '))\n",
    "pi = 3.14\n",
    "area = pi * radius ** 2\n",
    "print('area of the circle:',area)\n",
    "print(area > 20 and area < 50)"
   ]
  },
  {
   "cell_type": "markdown",
   "id": "c58f0d23-b2bb-4cd7-9f75-41cb0960879a",
   "metadata": {},
   "source": [
    "# practice"
   ]
  },
  {
   "cell_type": "code",
   "execution_count": 3,
   "id": "a44cfcb3-5db2-4431-9bf3-cea7a0bf15e4",
   "metadata": {},
   "outputs": [
    {
     "name": "stdout",
     "output_type": "stream",
     "text": [
      "501\n"
     ]
    }
   ],
   "source": [
    "a = 123\n",
    "b = 456\n",
    "c = 78\n",
    "result = (a+b-c)\n",
    "print(result)"
   ]
  },
  {
   "cell_type": "code",
   "execution_count": 7,
   "id": "38f5fe1e-b797-4d97-9e41-d0e6e6f50ad8",
   "metadata": {},
   "outputs": [
    {
     "name": "stdout",
     "output_type": "stream",
     "text": [
      "1000\n"
     ]
    }
   ],
   "source": [
    "a = 25\n",
    "b = 40\n",
    "result = ( a * b )\n",
    "print (result)"
   ]
  },
  {
   "cell_type": "code",
   "execution_count": 11,
   "id": "5910e749-1385-4ee6-b70c-f8b58d5f8673",
   "metadata": {},
   "outputs": [
    {
     "name": "stdout",
     "output_type": "stream",
     "text": [
      "62.5\n"
     ]
    }
   ],
   "source": [
    "a = 500\n",
    "b = 8\n",
    "result = ( a / b )\n",
    "print (result)"
   ]
  },
  {
   "cell_type": "code",
   "execution_count": 13,
   "id": "87e7d6e1-4183-4bc1-857c-cf11997ac436",
   "metadata": {},
   "outputs": [
    {
     "name": "stdout",
     "output_type": "stream",
     "text": [
      "9.0\n"
     ]
    }
   ],
   "source": [
    "a = 45.6\n",
    "b = 5\n",
    "result = (a // b)\n",
    "print(result)"
   ]
  },
  {
   "cell_type": "code",
   "execution_count": 15,
   "id": "85c7fd49-204a-4114-a812-504db8d59f52",
   "metadata": {},
   "outputs": [
    {
     "name": "stdout",
     "output_type": "stream",
     "text": [
      "1683941953091573505989403773953024\n"
     ]
    }
   ],
   "source": [
    "a = 2102\n",
    "b = 10\n",
    "result = ( a ** b )\n",
    "print(result)"
   ]
  },
  {
   "cell_type": "code",
   "execution_count": 17,
   "id": "e6c5b688-e7cb-4fe7-b089-8cc687ad12e4",
   "metadata": {},
   "outputs": [
    {
     "name": "stdout",
     "output_type": "stream",
     "text": [
      "0\n"
     ]
    }
   ],
   "source": [
    "a = 525\n",
    "b = 7\n",
    "result = (a % b)\n",
    "print(result)"
   ]
  },
  {
   "cell_type": "code",
   "execution_count": 19,
   "id": "51a4a5a3-c9ff-4738-a1b1-8da7d754114f",
   "metadata": {},
   "outputs": [
    {
     "name": "stdout",
     "output_type": "stream",
     "text": [
      "55.0\n"
     ]
    }
   ],
   "source": [
    "a= (25+5)*2\n",
    "b = 10\n",
    "c = 2\n",
    "result = (25+5)*2-10/2\n",
    "print(result)"
   ]
  },
  {
   "cell_type": "code",
   "execution_count": 21,
   "id": "647f2e1b-bb8d-4c74-8990-5fa13c530f7c",
   "metadata": {},
   "outputs": [
    {
     "name": "stdout",
     "output_type": "stream",
     "text": [
      "-350\n"
     ]
    }
   ],
   "source": [
    "a = 150\n",
    "b = 200\n",
    "sum_value = a+b\n",
    "result = - sum_value\n",
    "print(result)"
   ]
  },
  {
   "cell_type": "code",
   "execution_count": 23,
   "id": "9349d0d7-617c-4b68-877d-36683bd6436b",
   "metadata": {},
   "outputs": [
    {
     "name": "stdout",
     "output_type": "stream",
     "text": [
      "25\n"
     ]
    }
   ],
   "source": [
    "x = 10\n",
    "x += 15\n",
    "print(x)"
   ]
  },
  {
   "cell_type": "code",
   "execution_count": 29,
   "id": "63e82ed5-c9ef-4081-87bd-1b2e65c3ee81",
   "metadata": {},
   "outputs": [
    {
     "name": "stdout",
     "output_type": "stream",
     "text": [
      "8752\n"
     ]
    }
   ],
   "source": [
    "a = 20+3\n",
    "b = (23-4)\n",
    "c = 20+3\n",
    "d = (2^3-4)\n",
    "result = 23*(23-4) *20+3* (2 ** 3 - 4)\n",
    "print(result)"
   ]
  },
  {
   "cell_type": "code",
   "execution_count": 33,
   "id": "e122a654-d482-45b3-8a04-c7bde1db40af",
   "metadata": {},
   "outputs": [
    {
     "name": "stdout",
     "output_type": "stream",
     "text": [
      "True\n"
     ]
    }
   ],
   "source": [
    "a = 34\n",
    "a = 34.0\n",
    "print(a==a)"
   ]
  },
  {
   "cell_type": "code",
   "execution_count": 35,
   "id": "31f2abd3-a2e3-4d0a-9335-e5396a6aebf2",
   "metadata": {},
   "outputs": [
    {
     "name": "stdout",
     "output_type": "stream",
     "text": [
      "False\n"
     ]
    }
   ],
   "source": [
    "a = 15\n",
    "a = 10+5\n",
    "print(a != a)"
   ]
  },
  {
   "cell_type": "markdown",
   "id": "1a0dfaa7-70f9-4bd0-b778-d622225cae59",
   "metadata": {},
   "source": [
    "# Membership Operator"
   ]
  },
  {
   "cell_type": "markdown",
   "id": "6f94e5e5-c15f-4dd9-ba12-312f646c69e9",
   "metadata": {},
   "source": [
    "* in\n",
    "* not in"
   ]
  },
  {
   "cell_type": "code",
   "execution_count": 41,
   "id": "bf16322c-ac34-4263-8cdf-10e50b81e39d",
   "metadata": {},
   "outputs": [
    {
     "name": "stdout",
     "output_type": "stream",
     "text": [
      "['Thor', 'Iron man', 'Loki', 'Spider man']\n"
     ]
    }
   ],
   "source": [
    "avengers = ['Thor','Iron man','Loki','Spider man']\n",
    "print(avengers)"
   ]
  },
  {
   "cell_type": "code",
   "execution_count": 43,
   "id": "d87b2a58-7768-4ed9-8184-9781bdf8a953",
   "metadata": {},
   "outputs": [
    {
     "name": "stdout",
     "output_type": "stream",
     "text": [
      "True\n"
     ]
    }
   ],
   "source": [
    "print('Loki' in avengers)"
   ]
  },
  {
   "cell_type": "code",
   "execution_count": 45,
   "id": "b10e9d12-7b60-49f0-8732-c5571fff77ea",
   "metadata": {},
   "outputs": [
    {
     "name": "stdout",
     "output_type": "stream",
     "text": [
      "False\n"
     ]
    }
   ],
   "source": [
    "print('Super man' in avengers)"
   ]
  },
  {
   "cell_type": "code",
   "execution_count": 47,
   "id": "adabac69-f3f3-4862-9b3e-7ff381867500",
   "metadata": {},
   "outputs": [
    {
     "name": "stdout",
     "output_type": "stream",
     "text": [
      "True\n"
     ]
    }
   ],
   "source": [
    "print('Super man' not in avengers)"
   ]
  },
  {
   "cell_type": "markdown",
   "id": "6ef001e7-bd0f-42c0-8ca1-4b1f1fdbafe3",
   "metadata": {},
   "source": [
    "# Indentity Operator"
   ]
  },
  {
   "cell_type": "code",
   "execution_count": 50,
   "id": "75cf3465-3418-4bf2-91a2-acf7c01daa73",
   "metadata": {},
   "outputs": [],
   "source": [
    "x = ['banana','apple']\n",
    "y = ['banana','apple']\n",
    "z = x"
   ]
  },
  {
   "cell_type": "code",
   "execution_count": 52,
   "id": "8ad4d4bf-0639-4dc5-b159-a7c77309358a",
   "metadata": {},
   "outputs": [
    {
     "data": {
      "text/plain": [
       "True"
      ]
     },
     "execution_count": 52,
     "metadata": {},
     "output_type": "execute_result"
    }
   ],
   "source": [
    "x is z"
   ]
  },
  {
   "cell_type": "code",
   "execution_count": 54,
   "id": "81bd3e3e-289e-4333-b89f-25dc7f587b71",
   "metadata": {},
   "outputs": [
    {
     "data": {
      "text/plain": [
       "False"
      ]
     },
     "execution_count": 54,
     "metadata": {},
     "output_type": "execute_result"
    }
   ],
   "source": [
    "x is y"
   ]
  },
  {
   "cell_type": "code",
   "execution_count": 58,
   "id": "2feab542-aebc-4e68-b73c-612144a61f67",
   "metadata": {},
   "outputs": [
    {
     "data": {
      "text/plain": [
       "True"
      ]
     },
     "execution_count": 58,
     "metadata": {},
     "output_type": "execute_result"
    }
   ],
   "source": [
    "x == y"
   ]
  },
  {
   "cell_type": "code",
   "execution_count": 60,
   "id": "0ae01c75-2808-4878-8a31-1e50efa59c3e",
   "metadata": {},
   "outputs": [
    {
     "data": {
      "text/plain": [
       "True"
      ]
     },
     "execution_count": 60,
     "metadata": {},
     "output_type": "execute_result"
    }
   ],
   "source": [
    "x is not y"
   ]
  },
  {
   "cell_type": "code",
   "execution_count": 62,
   "id": "84919b51-86b0-42a1-b2f5-c262579eaabb",
   "metadata": {},
   "outputs": [
    {
     "data": {
      "text/plain": [
       "['banana', 'apple']"
      ]
     },
     "execution_count": 62,
     "metadata": {},
     "output_type": "execute_result"
    }
   ],
   "source": [
    "x"
   ]
  },
  {
   "cell_type": "code",
   "execution_count": 64,
   "id": "41c9b5ed-7740-45ea-aea6-101941bdbe29",
   "metadata": {},
   "outputs": [
    {
     "data": {
      "text/plain": [
       "['banana', 'apple']"
      ]
     },
     "execution_count": 64,
     "metadata": {},
     "output_type": "execute_result"
    }
   ],
   "source": [
    "z"
   ]
  },
  {
   "cell_type": "code",
   "execution_count": 66,
   "id": "d4fa3eb4-7147-4b6e-bb05-3895c367cdfc",
   "metadata": {},
   "outputs": [
    {
     "data": {
      "text/plain": [
       "'banana'"
      ]
     },
     "execution_count": 66,
     "metadata": {},
     "output_type": "execute_result"
    }
   ],
   "source": [
    "x[0]"
   ]
  },
  {
   "cell_type": "code",
   "execution_count": 68,
   "id": "33a1c48f-c4a5-45b6-a58c-e1fcb61ff23f",
   "metadata": {},
   "outputs": [
    {
     "data": {
      "text/plain": [
       "'apple'"
      ]
     },
     "execution_count": 68,
     "metadata": {},
     "output_type": "execute_result"
    }
   ],
   "source": [
    "x[1]"
   ]
  },
  {
   "cell_type": "code",
   "execution_count": 70,
   "id": "1efd3551-8de6-4ccd-8723-3cebcb2acb69",
   "metadata": {},
   "outputs": [
    {
     "data": {
      "text/plain": [
       "['banana', 'apple']"
      ]
     },
     "execution_count": 70,
     "metadata": {},
     "output_type": "execute_result"
    }
   ],
   "source": [
    "z"
   ]
  },
  {
   "cell_type": "code",
   "execution_count": 72,
   "id": "0d6c2f6a-2644-4d89-bbc9-a752ad9389a6",
   "metadata": {},
   "outputs": [
    {
     "data": {
      "text/plain": [
       "['pineapple', 'apple']"
      ]
     },
     "execution_count": 72,
     "metadata": {},
     "output_type": "execute_result"
    }
   ],
   "source": [
    "x[0] = 'pineapple'\n",
    "x"
   ]
  },
  {
   "cell_type": "code",
   "execution_count": 74,
   "id": "499e847e-bb84-4540-b9ae-92f935dd65a0",
   "metadata": {},
   "outputs": [
    {
     "data": {
      "text/plain": [
       "['banana', 'apple']"
      ]
     },
     "execution_count": 74,
     "metadata": {},
     "output_type": "execute_result"
    }
   ],
   "source": [
    "y"
   ]
  },
  {
   "cell_type": "code",
   "execution_count": 76,
   "id": "4ebd7408-7f92-4539-b291-57a598ebd54a",
   "metadata": {},
   "outputs": [
    {
     "data": {
      "text/plain": [
       "['pineapple', 'apple']"
      ]
     },
     "execution_count": 76,
     "metadata": {},
     "output_type": "execute_result"
    }
   ],
   "source": [
    "z"
   ]
  },
  {
   "cell_type": "code",
   "execution_count": 82,
   "id": "a6822962-e48f-482c-89e0-a1754403a713",
   "metadata": {},
   "outputs": [
    {
     "data": {
      "text/plain": [
       "['pineapple', 'mango']"
      ]
     },
     "execution_count": 82,
     "metadata": {},
     "output_type": "execute_result"
    }
   ],
   "source": [
    "z[1] = 'mango'\n",
    "z"
   ]
  },
  {
   "cell_type": "markdown",
   "id": "f53161b3-bd00-4003-929f-b26d78f3afda",
   "metadata": {},
   "source": [
    "# Strings\n",
    "* Sequence of character"
   ]
  },
  {
   "cell_type": "code",
   "execution_count": 85,
   "id": "607a8d7a-0c95-4ed0-ab03-5d92ceb9f239",
   "metadata": {},
   "outputs": [
    {
     "name": "stdout",
     "output_type": "stream",
     "text": [
      "Hello\n"
     ]
    }
   ],
   "source": [
    "s1 = 'Hello'\n",
    "print(s1)"
   ]
  },
  {
   "cell_type": "code",
   "execution_count": 87,
   "id": "4fc177d9-6b9e-4814-80db-57311b8ca7ee",
   "metadata": {},
   "outputs": [
    {
     "name": "stdout",
     "output_type": "stream",
     "text": [
      "Hello\n"
     ]
    }
   ],
   "source": [
    "s2 = 'Hello'\n",
    "print(s2)"
   ]
  },
  {
   "cell_type": "code",
   "execution_count": 94,
   "id": "14dfb061-c608-4c11-85fd-3035e96992fa",
   "metadata": {},
   "outputs": [
    {
     "name": "stdout",
     "output_type": "stream",
     "text": [
      "this is a\n",
      "multiline string.\n",
      "we can create a string\n",
      "in multiple line.\n"
     ]
    }
   ],
   "source": [
    "s3 = '''this is a\n",
    "multiline string.\n",
    "we can create a string\n",
    "in multiple line.'''\n",
    "print(s3)"
   ]
  },
  {
   "cell_type": "code",
   "execution_count": 2,
   "id": "e1e45211-6745-42f9-9f92-5204688d5d6c",
   "metadata": {},
   "outputs": [
    {
     "name": "stdout",
     "output_type": "stream",
     "text": [
      "What a '''Wonderful''' day!\n"
     ]
    }
   ],
   "source": [
    "s4 = \"What a '''Wonderful''' day!\"\n",
    "print(s4)"
   ]
  },
  {
   "cell_type": "code",
   "execution_count": 98,
   "id": "75a7ab7b-cd5c-40c1-935f-e786fbf33686",
   "metadata": {},
   "outputs": [
    {
     "name": "stdout",
     "output_type": "stream",
     "text": [
      "What is a 'wonderful' day!\n"
     ]
    }
   ],
   "source": [
    "s5 = \"What is a 'wonderful' day!\"\n",
    "print(s5)"
   ]
  },
  {
   "cell_type": "markdown",
   "id": "24a40c2e-2fca-43eb-8ad4-9a565b78c5f7",
   "metadata": {},
   "source": [
    "# string method"
   ]
  },
  {
   "cell_type": "code",
   "execution_count": 100,
   "id": "7b8b6e04-9b1e-4703-b6b2-052e4b8d6fd8",
   "metadata": {},
   "outputs": [
    {
     "data": {
      "text/plain": [
       "'HELLO'"
      ]
     },
     "execution_count": 100,
     "metadata": {},
     "output_type": "execute_result"
    }
   ],
   "source": [
    "text = 'hello'\n",
    "text.upper()"
   ]
  },
  {
   "cell_type": "code",
   "execution_count": 102,
   "id": "b32618dd-d8a5-4945-956d-ffbc20dfed07",
   "metadata": {},
   "outputs": [
    {
     "data": {
      "text/plain": [
       "'hello'"
      ]
     },
     "execution_count": 102,
     "metadata": {},
     "output_type": "execute_result"
    }
   ],
   "source": [
    "text = \"HELLO\"\n",
    "text.lower()"
   ]
  },
  {
   "cell_type": "code",
   "execution_count": 104,
   "id": "858498a5-3aac-4533-a281-234bbd9b7dc5",
   "metadata": {},
   "outputs": [
    {
     "data": {
      "text/plain": [
       "'hello'"
      ]
     },
     "execution_count": 104,
     "metadata": {},
     "output_type": "execute_result"
    }
   ],
   "source": [
    "text = \" hello \"\n",
    "text.strip()"
   ]
  },
  {
   "cell_type": "code",
   "execution_count": 106,
   "id": "f01fca32-0dcd-4b50-86b3-3466df38b84f",
   "metadata": {},
   "outputs": [
    {
     "data": {
      "text/plain": [
       "'hello python'"
      ]
     },
     "execution_count": 106,
     "metadata": {},
     "output_type": "execute_result"
    }
   ],
   "source": [
    "text = 'hello world'\n",
    "text.replace('world','python')"
   ]
  },
  {
   "cell_type": "code",
   "execution_count": 108,
   "id": "21324de4-ef3d-4c77-b74a-7fbc2298eb61",
   "metadata": {},
   "outputs": [
    {
     "data": {
      "text/plain": [
       "['hello', 'world']"
      ]
     },
     "execution_count": 108,
     "metadata": {},
     "output_type": "execute_result"
    }
   ],
   "source": [
    "text = 'hello world'\n",
    "text.split(' ')"
   ]
  },
  {
   "cell_type": "code",
   "execution_count": 110,
   "id": "e228ed1b-18fb-4e56-a9a3-7696fe94cce1",
   "metadata": {},
   "outputs": [
    {
     "data": {
      "text/plain": [
       "['Good mornong', ' Sir']"
      ]
     },
     "execution_count": 110,
     "metadata": {},
     "output_type": "execute_result"
    }
   ],
   "source": [
    "text = 'Good mornong, Sir'\n",
    "text.split(',')"
   ]
  },
  {
   "cell_type": "code",
   "execution_count": 112,
   "id": "e3a341df-3749-4df1-9a1d-f0cf1f10c05e",
   "metadata": {},
   "outputs": [
    {
     "data": {
      "text/plain": [
       "['aditya', 'gmail.com']"
      ]
     },
     "execution_count": 112,
     "metadata": {},
     "output_type": "execute_result"
    }
   ],
   "source": [
    "email = 'aditya@gmail.com'\n",
    "email.split('@')"
   ]
  },
  {
   "cell_type": "code",
   "execution_count": 114,
   "id": "2bf94dc6-963a-4fb7-bdb4-0e579a89383e",
   "metadata": {},
   "outputs": [
    {
     "data": {
      "text/plain": [
       "['this', 'is', 'a', 'sentence']"
      ]
     },
     "execution_count": 114,
     "metadata": {},
     "output_type": "execute_result"
    }
   ],
   "source": [
    "li = ['this','is','a','sentence']\n",
    "li"
   ]
  },
  {
   "cell_type": "code",
   "execution_count": 118,
   "id": "80e4248a-6deb-4f43-b627-6f1cf0452a29",
   "metadata": {},
   "outputs": [
    {
     "name": "stdout",
     "output_type": "stream",
     "text": [
      "this is a sentence\n"
     ]
    }
   ],
   "source": [
    "sentence = ' '.join(li)\n",
    "print(sentence)"
   ]
  },
  {
   "cell_type": "code",
   "execution_count": 5,
   "id": "cfa2ce39-ee62-4e23-ab9c-fdb1b5364ea1",
   "metadata": {},
   "outputs": [
    {
     "data": {
      "text/plain": [
       "'This is a sentence.'"
      ]
     },
     "execution_count": 5,
     "metadata": {},
     "output_type": "execute_result"
    }
   ],
   "source": [
    "sent = 'this is a sentence.'\n",
    "sent.capitalize()"
   ]
  },
  {
   "cell_type": "code",
   "execution_count": 13,
   "id": "f8986dde-45e4-4a46-873a-7e05e0134e54",
   "metadata": {},
   "outputs": [
    {
     "data": {
      "text/plain": [
       "'Aditya Kumar'"
      ]
     },
     "execution_count": 13,
     "metadata": {},
     "output_type": "execute_result"
    }
   ],
   "source": [
    "name = 'aditya kumar'\n",
    "name. title() "
   ]
  },
  {
   "cell_type": "code",
   "execution_count": 15,
   "id": "c51a909c-7ac9-424b-86bf-7ac3c71e2e6b",
   "metadata": {},
   "outputs": [
    {
     "data": {
      "text/plain": [
       "'hELLO wORLD'"
      ]
     },
     "execution_count": 15,
     "metadata": {},
     "output_type": "execute_result"
    }
   ],
   "source": [
    "text = \"Hello World\" \n",
    "text. swapcase()"
   ]
  },
  {
   "cell_type": "code",
   "execution_count": 11,
   "id": "b752d3fb-5132-49cc-be84-0b4b1543d212",
   "metadata": {},
   "outputs": [
    {
     "name": "stdout",
     "output_type": "stream",
     "text": [
      "True\n"
     ]
    }
   ],
   "source": [
    "a = 5\n",
    "b = 30\n",
    "square = 5 ** 2\n",
    "result = square < 30\n",
    "print(result)"
   ]
  },
  {
   "cell_type": "code",
   "execution_count": 6,
   "id": "69005d0e-bcf1-431f-8c78-e01742d263e9",
   "metadata": {},
   "outputs": [
    {
     "name": "stdout",
     "output_type": "stream",
     "text": [
      "True\n"
     ]
    }
   ],
   "source": [
    "a = 20\n",
    "b = 10+1010+10 \n",
    "sum_value = 10+10\n",
    "result = 20 >= sum_value\n",
    "print(result)"
   ]
  },
  {
   "cell_type": "code",
   "execution_count": 8,
   "id": "d66db60e-4de9-415d-931a-32998747dc32",
   "metadata": {},
   "outputs": [
    {
     "name": "stdout",
     "output_type": "stream",
     "text": [
      "False\n"
     ]
    }
   ],
   "source": [
    "a = 333^3\n",
    "b = 2727\n",
    "cube_value = 333 ** 3\n",
    "result = cube_value <= 2727\n",
    "print(result)"
   ]
  },
  {
   "cell_type": "code",
   "execution_count": 10,
   "id": "ae43b057-15c5-4b4d-ab66-f871f0c1682f",
   "metadata": {},
   "outputs": [
    {
     "name": "stdout",
     "output_type": "stream",
     "text": [
      "False\n"
     ]
    }
   ],
   "source": [
    "a = 10\n",
    "b = 15\n",
    "c = 2010\n",
    "d = 15\n",
    "e = 20\n",
    "result = 10 < 15 < 2010 < 15 < 20\n",
    "print(result)"
   ]
  },
  {
   "cell_type": "code",
   "execution_count": 20,
   "id": "2a0b7a32-b3fe-47cc-a439-326b73c98bd1",
   "metadata": {},
   "outputs": [
    {
     "name": "stdout",
     "output_type": "stream",
     "text": [
      "True\n"
     ]
    }
   ],
   "source": [
    "string1 = \"Python\"\n",
    "string2 = \"Python\"\n",
    "result = string1 == string2\n",
    "print(result)"
   ]
  },
  {
   "cell_type": "code",
   "execution_count": 26,
   "id": "5b1af87c-6721-44fa-a3d1-64ac873d3ad7",
   "metadata": {},
   "outputs": [
    {
     "name": "stdout",
     "output_type": "stream",
     "text": [
      "True\n"
     ]
    }
   ],
   "source": [
    "float_value = 45.0\n",
    "integer_value = 44\n",
    "result = float_value > integer_value\n",
    "print(result)"
   ]
  },
  {
   "cell_type": "code",
   "execution_count": 28,
   "id": "5a5a47e8-a0a3-4716-b3b2-33b763c06e1b",
   "metadata": {},
   "outputs": [
    {
     "name": "stdout",
     "output_type": "stream",
     "text": [
      "True\n"
     ]
    }
   ],
   "source": [
    "a = 10 > 5\n",
    "b = 15 < 20\n",
    "result = (10 > 5) and (15 < 20)\n",
    "print(result)"
   ]
  },
  {
   "cell_type": "code",
   "execution_count": 30,
   "id": "e56c8223-2854-489e-a3da-2dd62ae71539",
   "metadata": {},
   "outputs": [
    {
     "name": "stdout",
     "output_type": "stream",
     "text": [
      "True\n"
     ]
    }
   ],
   "source": [
    "a = 5 == 10\n",
    "b = 20 > 15\n",
    "result = (5 == 10) or (20 > 15)\n",
    "print(result)"
   ]
  },
  {
   "cell_type": "code",
   "execution_count": 32,
   "id": "1648a3b8-eccc-473c-881e-b258ba0fa6ed",
   "metadata": {},
   "outputs": [
    {
     "name": "stdout",
     "output_type": "stream",
     "text": [
      "False\n"
     ]
    }
   ],
   "source": [
    "a = 10 > 5\n",
    "b = 10 > 5\n",
    "result = not (10 > 5 and 10 > 5)\n",
    "print(result)"
   ]
  },
  {
   "cell_type": "code",
   "execution_count": 34,
   "id": "7ed68055-94e5-4530-a9f6-502c40cafb88",
   "metadata": {},
   "outputs": [
    {
     "name": "stdout",
     "output_type": "stream",
     "text": [
      "True\n"
     ]
    }
   ],
   "source": [
    "a = 10 > 5\n",
    "b = (20 < 15 or 5 == 5)\n",
    "result = 10 > 5 and (20 < 15 or 5 == 5)\n",
    "print(result)"
   ]
  },
  {
   "cell_type": "code",
   "execution_count": 40,
   "id": "97f3cb19-a35f-4714-923e-1bc4d262ac8d",
   "metadata": {},
   "outputs": [
    {
     "name": "stdout",
     "output_type": "stream",
     "text": [
      "0\n"
     ]
    }
   ],
   "source": [
    "a = 0\n",
    "b = 10 > 5\n",
    "result = 0 and 10 > 5\n",
    "print(result)"
   ]
  },
  {
   "cell_type": "code",
   "execution_count": 42,
   "id": "3062b095-6e24-48a4-9925-bd4492f0c420",
   "metadata": {},
   "outputs": [
    {
     "data": {
      "text/plain": [
       "False"
      ]
     },
     "execution_count": 42,
     "metadata": {},
     "output_type": "execute_result"
    }
   ],
   "source": [
    "False and True"
   ]
  },
  {
   "cell_type": "markdown",
   "id": "68432743-f66b-4e37-b3a2-6ca73686215f",
   "metadata": {},
   "source": [
    "# List Methods"
   ]
  },
  {
   "cell_type": "code",
   "execution_count": 54,
   "id": "38bb3101-f33a-44bc-a8d6-fb247b44a218",
   "metadata": {},
   "outputs": [
    {
     "data": {
      "text/plain": [
       "[1, 1, 1, 1, 1, 1, 1, 1]"
      ]
     },
     "execution_count": 54,
     "metadata": {},
     "output_type": "execute_result"
    }
   ],
   "source": [
    "li = [1,1,1,1,1,1,1,1]\n",
    "li"
   ]
  },
  {
   "cell_type": "code",
   "execution_count": 48,
   "id": "a1d710ee-6a1e-4008-9aad-17fdfde9cb31",
   "metadata": {},
   "outputs": [
    {
     "data": {
      "text/plain": [
       "[1, 1, 1, 1, 1, 1, 1, 1, 1, 1, 1, 1, 1, 1, 1, 1, 1, 1, 1, 1, 1, 1, 'Chocolate']"
      ]
     },
     "execution_count": 48,
     "metadata": {},
     "output_type": "execute_result"
    }
   ],
   "source": [
    "# append\n",
    "li.append('Chocolate')\n",
    "li"
   ]
  },
  {
   "cell_type": "code",
   "execution_count": 52,
   "id": "2b8d1ce5-a155-460c-bc90-698ca278cf3a",
   "metadata": {},
   "outputs": [
    {
     "data": {
      "text/plain": [
       "[1,\n",
       " 1,\n",
       " 1,\n",
       " 1,\n",
       " 1,\n",
       " 1,\n",
       " 1,\n",
       " 1,\n",
       " 1,\n",
       " 1,\n",
       " 1,\n",
       " 1,\n",
       " 1,\n",
       " 1,\n",
       " 1,\n",
       " 1,\n",
       " 1,\n",
       " 1,\n",
       " 1,\n",
       " 1,\n",
       " 1,\n",
       " 1,\n",
       " 'Chocolate',\n",
       " 'aditya',\n",
       " 'shubham']"
      ]
     },
     "execution_count": 52,
     "metadata": {},
     "output_type": "execute_result"
    }
   ],
   "source": [
    "# extend \n",
    "li.extend(['aditya','shubham'])\n",
    "li "
   ]
  },
  {
   "cell_type": "code",
   "execution_count": 56,
   "id": "863ec4bd-ec6e-42e0-8301-a2fd5d5b2d95",
   "metadata": {},
   "outputs": [
    {
     "data": {
      "text/plain": [
       "[1, 1, 1, 1, 1, 1, 1, 1, 'dairy milk']"
      ]
     },
     "execution_count": 56,
     "metadata": {},
     "output_type": "execute_result"
    }
   ],
   "source": [
    "# insert\n",
    "li.insert(23,'dairy milk')\n",
    "li"
   ]
  },
  {
   "cell_type": "code",
   "execution_count": 58,
   "id": "54e07218-1001-4e61-8d4e-1a3258d6d86c",
   "metadata": {},
   "outputs": [
    {
     "data": {
      "text/plain": [
       "['sugar', 'aata', 'oil', 'spices']"
      ]
     },
     "execution_count": 58,
     "metadata": {},
     "output_type": "execute_result"
    }
   ],
   "source": [
    "li = ['sugar','aata','oil','spices']\n",
    "li"
   ]
  },
  {
   "cell_type": "code",
   "execution_count": 60,
   "id": "6f9eea15-3654-496e-a3ef-80538e68db07",
   "metadata": {},
   "outputs": [
    {
     "data": {
      "text/plain": [
       "['sugar', 'aata', 'oil', 'spices', 'maida']"
      ]
     },
     "execution_count": 60,
     "metadata": {},
     "output_type": "execute_result"
    }
   ],
   "source": [
    "# append\n",
    "li.append('maida')\n",
    "li"
   ]
  },
  {
   "cell_type": "code",
   "execution_count": 62,
   "id": "b85c5e9b-89d6-43b8-98cc-0b73d3d804bb",
   "metadata": {},
   "outputs": [
    {
     "data": {
      "text/plain": [
       "['sugar', 'aata', 'oil', 'spices', 'maida', 'butter', 'milk', 'biscuits']"
      ]
     },
     "execution_count": 62,
     "metadata": {},
     "output_type": "execute_result"
    }
   ],
   "source": [
    "# extend\n",
    "li.extend(['butter','milk','biscuits'])\n",
    "li"
   ]
  },
  {
   "cell_type": "code",
   "execution_count": 66,
   "id": "ab91a6b8-7b5f-4b8a-9d04-97186ad82bbf",
   "metadata": {},
   "outputs": [
    {
     "data": {
      "text/plain": [
       "['sugar',\n",
       " 'aata',\n",
       " 'oil',\n",
       " 'spices',\n",
       " 'maida',\n",
       " 'butter',\n",
       " 'bread',\n",
       " 'milk',\n",
       " 'biscuits']"
      ]
     },
     "execution_count": 66,
     "metadata": {},
     "output_type": "execute_result"
    }
   ],
   "source": [
    "# insert\n",
    "li.insert(6,'bread')\n",
    "li"
   ]
  },
  {
   "cell_type": "code",
   "execution_count": 68,
   "id": "b06455fc-abb1-4166-bd4a-c398dcb67fc1",
   "metadata": {},
   "outputs": [
    {
     "name": "stdout",
     "output_type": "stream",
     "text": [
      "['sugar', 'aata', 'oil', 'maida', 'butter', 'bread', 'milk', 'biscuits']\n"
     ]
    }
   ],
   "source": [
    "# remove\n",
    "li.remove('spices')\n",
    "print(li)"
   ]
  },
  {
   "cell_type": "code",
   "execution_count": 72,
   "id": "72d0c8c0-e074-4f2e-9930-954adaaef5b3",
   "metadata": {},
   "outputs": [
    {
     "name": "stdout",
     "output_type": "stream",
     "text": [
      "['sugar', 'aata', 'oil', 'maida', 'butter', 'bread', 'milk']\n"
     ]
    }
   ],
   "source": [
    "# pop\n",
    "li.pop(7)\n",
    "print(li)"
   ]
  },
  {
   "cell_type": "code",
   "execution_count": 74,
   "id": "2c1bcda9-7900-4f1e-8337-d993b3bf1a79",
   "metadata": {},
   "outputs": [
    {
     "name": "stdout",
     "output_type": "stream",
     "text": [
      "['sugar', 'aata', 'oil', 'maida', 'butter', 'bread']\n"
     ]
    }
   ],
   "source": [
    "li.pop()\n",
    "print(li)"
   ]
  },
  {
   "cell_type": "code",
   "execution_count": 76,
   "id": "d4507a5a-58d0-4c92-9142-0eb834e7f017",
   "metadata": {},
   "outputs": [
    {
     "name": "stdout",
     "output_type": "stream",
     "text": [
      "['sugar', 'aata', 'oil', 'maida', 'bread']\n"
     ]
    }
   ],
   "source": [
    "del li[4]\n",
    "print(li)"
   ]
  },
  {
   "cell_type": "code",
   "execution_count": 78,
   "id": "f7285d63-a374-425c-8fb4-c6d95e6d3f0b",
   "metadata": {},
   "outputs": [
    {
     "data": {
      "text/plain": [
       "[]"
      ]
     },
     "execution_count": 78,
     "metadata": {},
     "output_type": "execute_result"
    }
   ],
   "source": [
    "li.clear()\n",
    "li"
   ]
  },
  {
   "cell_type": "code",
   "execution_count": 17,
   "id": "1dcd100c-d485-4147-820a-38e0a984ed71",
   "metadata": {},
   "outputs": [
    {
     "ename": "NameError",
     "evalue": "name 'li' is not defined",
     "output_type": "error",
     "traceback": [
      "\u001b[1;31m---------------------------------------------------------------------------\u001b[0m",
      "\u001b[1;31mNameError\u001b[0m                                 Traceback (most recent call last)",
      "Cell \u001b[1;32mIn[17], line 1\u001b[0m\n\u001b[1;32m----> 1\u001b[0m \u001b[38;5;28;01mdel\u001b[39;00m li\n",
      "\u001b[1;31mNameError\u001b[0m: name 'li' is not defined"
     ]
    }
   ],
   "source": [
    "del li"
   ]
  },
  {
   "cell_type": "code",
   "execution_count": 86,
   "id": "362ad7f0-5425-440e-b3c4-873259718a2a",
   "metadata": {},
   "outputs": [
    {
     "data": {
      "text/plain": [
       "['mango', 'banana', 'guava', 'pineapple']"
      ]
     },
     "execution_count": 86,
     "metadata": {},
     "output_type": "execute_result"
    }
   ],
   "source": [
    "fruitsname = ['mango','banana','guava','pineapple']\n",
    "fruitsname"
   ]
  },
  {
   "cell_type": "code",
   "execution_count": 88,
   "id": "c26b6f9b-23a2-4354-b1e8-6eb3a923eee0",
   "metadata": {},
   "outputs": [
    {
     "data": {
      "text/plain": [
       "['mango', 'banana', 'guava', 'pineapple', 'pear']"
      ]
     },
     "execution_count": 88,
     "metadata": {},
     "output_type": "execute_result"
    }
   ],
   "source": [
    "# append\n",
    "fruitsname.append('pear')\n",
    "fruitsname"
   ]
  },
  {
   "cell_type": "code",
   "execution_count": 90,
   "id": "5c02a9d7-f0e1-41f2-9b5c-2e72fba647a0",
   "metadata": {},
   "outputs": [
    {
     "data": {
      "text/plain": [
       "[1, 2, 3, 4, 5, 6, 7, 8, 9, 10]"
      ]
     },
     "execution_count": 90,
     "metadata": {},
     "output_type": "execute_result"
    }
   ],
   "source": [
    "num = [1,2,3,4,5,6,7,8,9,10]\n",
    "num\n"
   ]
  },
  {
   "cell_type": "code",
   "execution_count": 100,
   "id": "4822cb23-68c2-4f63-a9c9-0e597bac5d68",
   "metadata": {},
   "outputs": [
    {
     "data": {
      "text/plain": [
       "[1, 2, 3, 4, 5, 6, 7, 8, 9, 10, 11, 12, 13, 14, 15, 16, 17, 18, 19, 20]"
      ]
     },
     "execution_count": 100,
     "metadata": {},
     "output_type": "execute_result"
    }
   ],
   "source": [
    "# extend \n",
    "num.extend([11,12,13,14,15,16,17,18,19,20])\n",
    "num"
   ]
  },
  {
   "cell_type": "markdown",
   "id": "55c67c98-ce19-439e-9aea-97afb527764c",
   "metadata": {},
   "source": [
    "# Type Conversion"
   ]
  },
  {
   "cell_type": "code",
   "execution_count": 111,
   "id": "e057289b-f729-4592-bf9b-41eb6c1d57af",
   "metadata": {},
   "outputs": [
    {
     "name": "stdout",
     "output_type": "stream",
     "text": [
      "7\n"
     ]
    },
    {
     "data": {
      "text/plain": [
       "int"
      ]
     },
     "execution_count": 111,
     "metadata": {},
     "output_type": "execute_result"
    }
   ],
   "source": [
    "x = 7\n",
    "print(x)\n",
    "type(x)"
   ]
  },
  {
   "cell_type": "code",
   "execution_count": 113,
   "id": "ec767d9d-ba0f-459b-a6fe-2993cd590cfb",
   "metadata": {},
   "outputs": [
    {
     "name": "stdout",
     "output_type": "stream",
     "text": [
      "7.0\n"
     ]
    },
    {
     "data": {
      "text/plain": [
       "float"
      ]
     },
     "execution_count": 113,
     "metadata": {},
     "output_type": "execute_result"
    }
   ],
   "source": [
    "y = float(x)\n",
    "print(y) \n",
    "type(y) "
   ]
  },
  {
   "cell_type": "code",
   "execution_count": 115,
   "id": "3335897c-75e0-45b2-a7d6-49f845bbd2da",
   "metadata": {},
   "outputs": [
    {
     "name": "stdout",
     "output_type": "stream",
     "text": [
      "3.45\n"
     ]
    },
    {
     "data": {
      "text/plain": [
       "float"
      ]
     },
     "execution_count": 115,
     "metadata": {},
     "output_type": "execute_result"
    }
   ],
   "source": [
    "# float to int \n",
    "a = 3.45 \n",
    "print(a) \n",
    "type(a) "
   ]
  },
  {
   "cell_type": "code",
   "execution_count": 117,
   "id": "c821a98a-d13e-471e-b051-4fafdc059c89",
   "metadata": {},
   "outputs": [
    {
     "name": "stdout",
     "output_type": "stream",
     "text": [
      "3\n"
     ]
    },
    {
     "data": {
      "text/plain": [
       "int"
      ]
     },
     "execution_count": 117,
     "metadata": {},
     "output_type": "execute_result"
    }
   ],
   "source": [
    "b = int(a) \n",
    "print(b) \n",
    "type(b) "
   ]
  },
  {
   "cell_type": "code",
   "execution_count": 119,
   "id": "ffa001ad-11ab-4bc7-bcc5-755382c5bcfe",
   "metadata": {},
   "outputs": [
    {
     "name": "stdout",
     "output_type": "stream",
     "text": [
      "35\n"
     ]
    },
    {
     "data": {
      "text/plain": [
       "str"
      ]
     },
     "execution_count": 119,
     "metadata": {},
     "output_type": "execute_result"
    }
   ],
   "source": [
    "# str to int \n",
    "s = '35' \n",
    "print(s) \n",
    "type(s)"
   ]
  },
  {
   "cell_type": "code",
   "execution_count": 121,
   "id": "ab410e8d-6dbb-4de4-a125-ba1c8a0e0f6b",
   "metadata": {},
   "outputs": [
    {
     "name": "stdout",
     "output_type": "stream",
     "text": [
      "35\n"
     ]
    },
    {
     "data": {
      "text/plain": [
       "int"
      ]
     },
     "execution_count": 121,
     "metadata": {},
     "output_type": "execute_result"
    }
   ],
   "source": [
    "i = int(s) \n",
    "print(i) \n",
    "type(i)"
   ]
  },
  {
   "cell_type": "code",
   "execution_count": 123,
   "id": "5ecb9476-721e-4e01-b872-5d2ed24abdb5",
   "metadata": {},
   "outputs": [
    {
     "name": "stdout",
     "output_type": "stream",
     "text": [
      "4\n"
     ]
    },
    {
     "data": {
      "text/plain": [
       "int"
      ]
     },
     "execution_count": 123,
     "metadata": {},
     "output_type": "execute_result"
    }
   ],
   "source": [
    "# int to str \n",
    "x = 4 \n",
    "print(x) \n",
    "type(x) \n"
   ]
  },
  {
   "cell_type": "code",
   "execution_count": 125,
   "id": "dbd2878c-2775-4df1-af91-d149301b3c06",
   "metadata": {},
   "outputs": [
    {
     "name": "stdout",
     "output_type": "stream",
     "text": [
      "4\n"
     ]
    },
    {
     "data": {
      "text/plain": [
       "str"
      ]
     },
     "execution_count": 125,
     "metadata": {},
     "output_type": "execute_result"
    }
   ],
   "source": [
    "y = str(x) \n",
    "print(y) \n",
    "type(y)"
   ]
  },
  {
   "cell_type": "code",
   "execution_count": 127,
   "id": "7b1a5cb4-10cb-4dfe-a46b-67c5e2022a22",
   "metadata": {},
   "outputs": [
    {
     "name": "stdout",
     "output_type": "stream",
     "text": [
      "65\n"
     ]
    },
    {
     "data": {
      "text/plain": [
       "int"
      ]
     },
     "execution_count": 127,
     "metadata": {},
     "output_type": "execute_result"
    }
   ],
   "source": [
    "# int to flt \n",
    "x = 65\n",
    "print(x) \n",
    "type(x)"
   ]
  },
  {
   "cell_type": "code",
   "execution_count": 129,
   "id": "7899bb5d-a5f6-4e94-9d3d-918526d448dd",
   "metadata": {},
   "outputs": [
    {
     "name": "stdout",
     "output_type": "stream",
     "text": [
      "65.0\n"
     ]
    },
    {
     "data": {
      "text/plain": [
       "float"
      ]
     },
     "execution_count": 129,
     "metadata": {},
     "output_type": "execute_result"
    }
   ],
   "source": [
    "y = float(x) \n",
    "print(y) \n",
    "type(y)"
   ]
  },
  {
   "cell_type": "code",
   "execution_count": 131,
   "id": "11332154-3264-4393-a3b0-84cc028eceb4",
   "metadata": {},
   "outputs": [
    {
     "name": "stdout",
     "output_type": "stream",
     "text": [
      "45.76\n"
     ]
    },
    {
     "data": {
      "text/plain": [
       "float"
      ]
     },
     "execution_count": 131,
     "metadata": {},
     "output_type": "execute_result"
    }
   ],
   "source": [
    "# float to int\n",
    "x = 45.76 \n",
    "print(x) \n",
    "type(x)"
   ]
  },
  {
   "cell_type": "code",
   "execution_count": 133,
   "id": "e69aeb20-ee29-42b6-a13b-4317e83c982c",
   "metadata": {},
   "outputs": [
    {
     "name": "stdout",
     "output_type": "stream",
     "text": [
      "45\n"
     ]
    },
    {
     "data": {
      "text/plain": [
       "int"
      ]
     },
     "execution_count": 133,
     "metadata": {},
     "output_type": "execute_result"
    }
   ],
   "source": [
    "y = int(x) \n",
    "print(y) \n",
    "type(y)"
   ]
  },
  {
   "cell_type": "code",
   "execution_count": 135,
   "id": "c96d5cf4-a1b5-49e3-be15-71aff57b33bf",
   "metadata": {},
   "outputs": [
    {
     "name": "stdout",
     "output_type": "stream",
     "text": [
      "[1, 2, 3, 4, 5, 'a', 'b', 'c', 'd']\n"
     ]
    },
    {
     "data": {
      "text/plain": [
       "list"
      ]
     },
     "execution_count": 135,
     "metadata": {},
     "output_type": "execute_result"
    }
   ],
   "source": [
    "# list to tuple \n",
    "li = [1,2,3,4,5,'a','b','c','d']\n",
    "print(li) \n",
    "type(li)"
   ]
  },
  {
   "cell_type": "code",
   "execution_count": 137,
   "id": "e329ea84-c773-408d-8181-0c4649d6b92b",
   "metadata": {},
   "outputs": [
    {
     "name": "stdout",
     "output_type": "stream",
     "text": [
      "(1, 2, 3, 4, 5, 'a', 'b', 'c', 'd')\n"
     ]
    },
    {
     "data": {
      "text/plain": [
       "tuple"
      ]
     },
     "execution_count": 137,
     "metadata": {},
     "output_type": "execute_result"
    }
   ],
   "source": [
    "tu = tuple(li) \n",
    "print(tu) \n",
    "type(tu)"
   ]
  },
  {
   "cell_type": "code",
   "execution_count": 139,
   "id": "0d42c356-564e-423a-a287-6f9af61ba9e4",
   "metadata": {},
   "outputs": [
    {
     "name": "stdout",
     "output_type": "stream",
     "text": [
      "(1, 2, 3, 4, 5, 6, 7, 8, 9)\n"
     ]
    },
    {
     "data": {
      "text/plain": [
       "tuple"
      ]
     },
     "execution_count": 139,
     "metadata": {},
     "output_type": "execute_result"
    }
   ],
   "source": [
    "# tuple to list \n",
    "tu = (1,2,3,4,5,6,7,8,9) \n",
    "print(tu) \n",
    "type(tu)"
   ]
  },
  {
   "cell_type": "code",
   "execution_count": 141,
   "id": "e35400dc-904a-44c5-8afd-7129e09b793f",
   "metadata": {},
   "outputs": [
    {
     "name": "stdout",
     "output_type": "stream",
     "text": [
      "[1, 2, 3, 4, 5, 6, 7, 8, 9]\n"
     ]
    },
    {
     "data": {
      "text/plain": [
       "list"
      ]
     },
     "execution_count": 141,
     "metadata": {},
     "output_type": "execute_result"
    }
   ],
   "source": [
    "li = list(tu) \n",
    "print(li) \n",
    "type(li)"
   ]
  },
  {
   "cell_type": "code",
   "execution_count": 143,
   "id": "9304ea49-ab83-4f71-863d-313f4a19a526",
   "metadata": {},
   "outputs": [
    {
     "name": "stdout",
     "output_type": "stream",
     "text": [
      "['gulshan', 'shubham', 'prateek', 'shubham', 'vikash', 'prateek']\n"
     ]
    },
    {
     "data": {
      "text/plain": [
       "list"
      ]
     },
     "execution_count": 143,
     "metadata": {},
     "output_type": "execute_result"
    }
   ],
   "source": [
    "# list to set \n",
    "names = ['gulshan','shubham','prateek','shubham','vikash','prateek'] \n",
    "print(names) \n",
    "type(names)"
   ]
  },
  {
   "cell_type": "code",
   "execution_count": 145,
   "id": "6f9b9b1d-c55e-416b-ba61-a4f7eb90705f",
   "metadata": {},
   "outputs": [
    {
     "name": "stdout",
     "output_type": "stream",
     "text": [
      "{'vikash', 'shubham', 'prateek', 'gulshan'}\n"
     ]
    },
    {
     "data": {
      "text/plain": [
       "set"
      ]
     },
     "execution_count": 145,
     "metadata": {},
     "output_type": "execute_result"
    }
   ],
   "source": [
    "unique_names = set(names) \n",
    "print(unique_names) \n",
    "type(unique_names)"
   ]
  },
  {
   "cell_type": "code",
   "execution_count": 151,
   "id": "b654e44c-452b-4a8b-8865-0b5ee97ed28b",
   "metadata": {},
   "outputs": [
    {
     "name": "stdout",
     "output_type": "stream",
     "text": [
      "('shubham', 'gulshan', 'prateek', 'vikash')\n"
     ]
    },
    {
     "data": {
      "text/plain": [
       "tuple"
      ]
     },
     "execution_count": 151,
     "metadata": {},
     "output_type": "execute_result"
    }
   ],
   "source": [
    "# set to list \n",
    "names = ('shubham','gulshan','prateek','vikash')\n",
    "print(names) \n",
    "type(names)"
   ]
  },
  {
   "cell_type": "code",
   "execution_count": 149,
   "id": "e6c8b409-6b93-4191-8a25-50c7ec4174f0",
   "metadata": {},
   "outputs": [
    {
     "name": "stdout",
     "output_type": "stream",
     "text": [
      "{'vikash', 'prateek', 'gulshan', 'shubham'}\n"
     ]
    },
    {
     "data": {
      "text/plain": [
       "set"
      ]
     },
     "execution_count": 149,
     "metadata": {},
     "output_type": "execute_result"
    }
   ],
   "source": [
    "unique_names = list(names) \n",
    "print(names) \n",
    "type(names)"
   ]
  },
  {
   "cell_type": "markdown",
   "id": "d7e1263a-17bc-4dad-9696-d74b255033a5",
   "metadata": {},
   "source": [
    "# Indexing and Slicing"
   ]
  },
  {
   "cell_type": "code",
   "execution_count": 154,
   "id": "5df75be7-62e6-4aa4-ab9f-03ad958acb2e",
   "metadata": {},
   "outputs": [
    {
     "name": "stdout",
     "output_type": "stream",
     "text": [
      "abcde\n"
     ]
    }
   ],
   "source": [
    "s = 'abcde' \n",
    "print(s)"
   ]
  },
  {
   "cell_type": "code",
   "execution_count": 156,
   "id": "aa6ff46b-e56e-4260-b6f9-df5712bc6313",
   "metadata": {},
   "outputs": [
    {
     "data": {
      "text/plain": [
       "'a'"
      ]
     },
     "execution_count": 156,
     "metadata": {},
     "output_type": "execute_result"
    }
   ],
   "source": [
    "s[0]"
   ]
  },
  {
   "cell_type": "code",
   "execution_count": 158,
   "id": "69a23397-28c6-4538-8d5d-cb48098be789",
   "metadata": {},
   "outputs": [
    {
     "data": {
      "text/plain": [
       "'e'"
      ]
     },
     "execution_count": 158,
     "metadata": {},
     "output_type": "execute_result"
    }
   ],
   "source": [
    "s[4]"
   ]
  },
  {
   "cell_type": "code",
   "execution_count": 160,
   "id": "2c8488e4-8a49-4fc7-8616-57b851cc1afb",
   "metadata": {},
   "outputs": [
    {
     "data": {
      "text/plain": [
       "'b'"
      ]
     },
     "execution_count": 160,
     "metadata": {},
     "output_type": "execute_result"
    }
   ],
   "source": [
    "s[-4]"
   ]
  },
  {
   "cell_type": "code",
   "execution_count": 162,
   "id": "6f5156c5-5b35-4def-a123-a60a33294eb3",
   "metadata": {},
   "outputs": [
    {
     "data": {
      "text/plain": [
       "'d'"
      ]
     },
     "execution_count": 162,
     "metadata": {},
     "output_type": "execute_result"
    }
   ],
   "source": [
    "s[-2]"
   ]
  },
  {
   "cell_type": "code",
   "execution_count": 164,
   "id": "264fe58f-ae84-40b5-8934-c45d7b889eb8",
   "metadata": {},
   "outputs": [
    {
     "name": "stdout",
     "output_type": "stream",
     "text": [
      "abcdefghijklmnopqrstuvwxyz\n"
     ]
    }
   ],
   "source": [
    "s = 'abcdefghijklmnopqrstuvwxyz' \n",
    "print(s)"
   ]
  },
  {
   "cell_type": "code",
   "execution_count": 168,
   "id": "4d19a417-8492-4635-9468-d6e4ccc36c8a",
   "metadata": {},
   "outputs": [
    {
     "data": {
      "text/plain": [
       "'abcdefghi'"
      ]
     },
     "execution_count": 168,
     "metadata": {},
     "output_type": "execute_result"
    }
   ],
   "source": [
    "s[0:9]"
   ]
  },
  {
   "cell_type": "code",
   "execution_count": 170,
   "id": "7d9d26e7-d726-417d-afc5-54fb20bb3acd",
   "metadata": {},
   "outputs": [
    {
     "data": {
      "text/plain": [
       "'abcdefghijklm'"
      ]
     },
     "execution_count": 170,
     "metadata": {},
     "output_type": "execute_result"
    }
   ],
   "source": [
    "s[:13]"
   ]
  },
  {
   "cell_type": "code",
   "execution_count": 172,
   "id": "dd1c7153-53a7-4d55-87d2-49bc5f3fd62a",
   "metadata": {},
   "outputs": [
    {
     "data": {
      "text/plain": [
       "'ijklmnopqrstuvwxyz'"
      ]
     },
     "execution_count": 172,
     "metadata": {},
     "output_type": "execute_result"
    }
   ],
   "source": [
    "s[8:]"
   ]
  },
  {
   "cell_type": "code",
   "execution_count": 174,
   "id": "eba35f8f-c819-44b3-8c68-dfda8b5ab7b0",
   "metadata": {},
   "outputs": [
    {
     "data": {
      "text/plain": [
       "'abcdefghijklmnopqrstuvwxyz'"
      ]
     },
     "execution_count": 174,
     "metadata": {},
     "output_type": "execute_result"
    }
   ],
   "source": [
    "s[:]"
   ]
  },
  {
   "cell_type": "code",
   "execution_count": 176,
   "id": "f998f091-0dad-4163-8a5a-1cb8a216fcb5",
   "metadata": {},
   "outputs": [
    {
     "data": {
      "text/plain": [
       "'ijk'"
      ]
     },
     "execution_count": 176,
     "metadata": {},
     "output_type": "execute_result"
    }
   ],
   "source": [
    "s[8:-15]"
   ]
  },
  {
   "cell_type": "code",
   "execution_count": 178,
   "id": "4d93b00b-ac52-462b-a17c-ef6682848747",
   "metadata": {},
   "outputs": [
    {
     "data": {
      "text/plain": [
       "'acegikmoqs'"
      ]
     },
     "execution_count": 178,
     "metadata": {},
     "output_type": "execute_result"
    }
   ],
   "source": [
    "s[0:20:2]"
   ]
  },
  {
   "cell_type": "code",
   "execution_count": 180,
   "id": "bfe5b84a-4d01-46d5-b277-f6ee3cb15f15",
   "metadata": {},
   "outputs": [
    {
     "data": {
      "text/plain": [
       "'zyxwvutsrqponmlkjihgfedcba'"
      ]
     },
     "execution_count": 180,
     "metadata": {},
     "output_type": "execute_result"
    }
   ],
   "source": [
    "s[::-1]"
   ]
  },
  {
   "cell_type": "code",
   "execution_count": 182,
   "id": "1ed2c6fd-149b-4fa3-9590-e426f0352cf7",
   "metadata": {},
   "outputs": [
    {
     "data": {
      "text/plain": [
       "''"
      ]
     },
     "execution_count": 182,
     "metadata": {},
     "output_type": "execute_result"
    }
   ],
   "source": [
    "s[9:19:-1]"
   ]
  },
  {
   "cell_type": "code",
   "execution_count": 186,
   "id": "2638a855-e23d-4856-aae0-dae7e0b76e1c",
   "metadata": {},
   "outputs": [
    {
     "data": {
      "text/plain": [
       "'s '"
      ]
     },
     "execution_count": 186,
     "metadata": {},
     "output_type": "execute_result"
    }
   ],
   "source": [
    "sentence = 'This is one sentence' \n",
    "sentence[6:8:1]"
   ]
  },
  {
   "cell_type": "code",
   "execution_count": 190,
   "id": "88355ea0-a154-4b00-8dd5-8ea5c39a56c9",
   "metadata": {},
   "outputs": [
    {
     "data": {
      "text/plain": [
       "'one'"
      ]
     },
     "execution_count": 190,
     "metadata": {},
     "output_type": "execute_result"
    }
   ],
   "source": [
    "sentence[8:11]"
   ]
  },
  {
   "cell_type": "code",
   "execution_count": 200,
   "id": "8e56df3c-e6ad-4930-aee1-6a4bd7f9e95a",
   "metadata": {},
   "outputs": [
    {
     "data": {
      "text/plain": [
       "'Aditya '"
      ]
     },
     "execution_count": 200,
     "metadata": {},
     "output_type": "execute_result"
    }
   ],
   "source": [
    "intro ='my name is Aditya kumar'\n",
    "intro[11:18]"
   ]
  },
  {
   "cell_type": "code",
   "execution_count": 204,
   "id": "a83e7f6e-33f3-4ee2-93a3-361aefb3fa89",
   "metadata": {},
   "outputs": [
    {
     "data": {
      "text/plain": [
       "'kumar'"
      ]
     },
     "execution_count": 204,
     "metadata": {},
     "output_type": "execute_result"
    }
   ],
   "source": [
    "intro[18:23]"
   ]
  },
  {
   "cell_type": "code",
   "execution_count": 206,
   "id": "fc95d5fa-5544-4f8e-a7d8-6728f6ab0211",
   "metadata": {},
   "outputs": [
    {
     "data": {
      "text/plain": [
       "'Aditya kumar'"
      ]
     },
     "execution_count": 206,
     "metadata": {},
     "output_type": "execute_result"
    }
   ],
   "source": [
    "intro[11:23]"
   ]
  },
  {
   "cell_type": "code",
   "execution_count": 2,
   "id": "46041ac2-67a8-4cc6-9c7a-80ef80f6b974",
   "metadata": {},
   "outputs": [
    {
     "name": "stdout",
     "output_type": "stream",
     "text": [
      "Adityakumar\n"
     ]
    }
   ],
   "source": [
    "first_name = 'Aditya'\n",
    "second_name = 'kumar'\n",
    "full_name = first_name + second_name\n",
    "print(full_name)"
   ]
  },
  {
   "cell_type": "code",
   "execution_count": 2,
   "id": "d460fbb5-17a2-49fb-a172-218cb48ff726",
   "metadata": {},
   "outputs": [
    {
     "name": "stdout",
     "output_type": "stream",
     "text": [
      "hello\n"
     ]
    }
   ],
   "source": [
    "text = \"hello world\" \n",
    "first_five = text[0:5] \n",
    "print(first_five)"
   ]
  },
  {
   "cell_type": "code",
   "execution_count": 6,
   "id": "5bb61ca3-6d80-4c40-8da9-51fe57c6fd2c",
   "metadata": {},
   "outputs": [
    {
     "name": "stdout",
     "output_type": "stream",
     "text": [
      "zyxwvutsrqponmlkjihgfedcba\n"
     ]
    }
   ],
   "source": [
    "text = \"abcdefghijklmnopqrstuvwxyz\" \n",
    "reversed_text = text[::-1] \n",
    "print(reversed_text)"
   ]
  },
  {
   "cell_type": "code",
   "execution_count": 8,
   "id": "3776e00c-70e8-4053-8974-e6b205e6829c",
   "metadata": {},
   "outputs": [
    {
     "name": "stdout",
     "output_type": "stream",
     "text": [
      "[10, 11, 12, 13, 14, 15]\n"
     ]
    }
   ],
   "source": [
    "number = [1, 2, 3, 4, 5, 6, 7, 8, 9, 10, 11, 12, 13, 14, 15] \n",
    "last_six = number[-6:] \n",
    "print(last_six)"
   ]
  },
  {
   "cell_type": "code",
   "execution_count": 14,
   "id": "77d69cbf-36f5-454a-86cd-48d11a62a372",
   "metadata": {},
   "outputs": [
    {
     "name": "stdout",
     "output_type": "stream",
     "text": [
      "[40, 50, 60, 70]\n"
     ]
    }
   ],
   "source": [
    "digit = [10, 20, 30, 40, 50, 60, 70, 80, 90, 100] \n",
    "lenght = len(digit) \n",
    "middle_index = lenght // 2 \n",
    "middle_four = digit[middle_index - 2:middle_index + 2] \n",
    "print(middle_four)"
   ]
  },
  {
   "cell_type": "code",
   "execution_count": 24,
   "id": "58b030ef-555b-45ba-b05b-6fb32382daa2",
   "metadata": {},
   "outputs": [
    {
     "name": "stdout",
     "output_type": "stream",
     "text": [
      "[2, 4, 6, 7, 8, 9, 1, 3, 5]\n",
      "[1, 2, 3, 4, 5, 6, 7, 8, 9]\n"
     ]
    }
   ],
   "source": [
    "li = [2,4,6,7,8,9,1,3,5] \n",
    "print(li) \n",
    "sorted_list = sorted(li) \n",
    "print(sorted_list)"
   ]
  },
  {
   "cell_type": "code",
   "execution_count": 26,
   "id": "79683343-f359-4329-91ea-b9728c63854a",
   "metadata": {},
   "outputs": [
    {
     "name": "stdout",
     "output_type": "stream",
     "text": [
      "[2, 4, 6, 7, 8, 9, 1, 3, 5]\n",
      "[9, 8, 7, 6, 5, 4, 3, 2, 1]\n"
     ]
    }
   ],
   "source": [
    "li = [2,4,6,7,8,9,1,3,5] \n",
    "print(li) \n",
    "sorted_list = sorted(li,reverse=True) \n",
    "print(sorted_list)"
   ]
  },
  {
   "cell_type": "markdown",
   "id": "d5361c3e-8b30-464e-822f-df78e5292182",
   "metadata": {},
   "source": [
    "# Flow Control \n",
    "* If\n",
    "* Elif\n",
    "*Else"
   ]
  },
  {
   "cell_type": "code",
   "execution_count": 29,
   "id": "63fcc51f-64ca-4171-918c-441fa64e4c5a",
   "metadata": {},
   "outputs": [
    {
     "name": "stdout",
     "output_type": "stream",
     "text": [
      "x is greater\n"
     ]
    }
   ],
   "source": [
    "x = 6\n",
    "y = 5\n",
    "if x > y:\n",
    "    print('x is greater')"
   ]
  },
  {
   "cell_type": "code",
   "execution_count": 35,
   "id": "42bc57d7-875f-4320-828a-9b7c1a6d376c",
   "metadata": {},
   "outputs": [
    {
     "name": "stdout",
     "output_type": "stream",
     "text": [
      "y is greater\n"
     ]
    }
   ],
   "source": [
    "x = 7\n",
    "y = 8\n",
    "if x > y:\n",
    "    print('x is greater') \n",
    "else:\n",
    "    print('y is greater')"
   ]
  },
  {
   "cell_type": "code",
   "execution_count": 37,
   "id": "ad883b4e-4750-4b42-97b8-92532766a275",
   "metadata": {},
   "outputs": [
    {
     "name": "stdin",
     "output_type": "stream",
     "text": [
      "enter age of x:  18\n",
      "enter age of y:  19\n"
     ]
    },
    {
     "name": "stdout",
     "output_type": "stream",
     "text": [
      "y is elder\n"
     ]
    }
   ],
   "source": [
    "x = int(input('enter age of x: ')) \n",
    "y = int(input('enter age of y: ')) \n",
    "if x == y: \n",
    "    print('x and y are twins') \n",
    "elif x > y:\n",
    "    print('x is elder') \n",
    "else:\n",
    "    print('y is elder')"
   ]
  },
  {
   "cell_type": "code",
   "execution_count": 39,
   "id": "5340e871-6750-4378-b7f7-fa531de74926",
   "metadata": {},
   "outputs": [
    {
     "name": "stdin",
     "output_type": "stream",
     "text": [
      "Enter your age:  18\n"
     ]
    },
    {
     "name": "stdout",
     "output_type": "stream",
     "text": [
      "you can vote\n"
     ]
    }
   ],
   "source": [
    "age = int(input('Enter your age: ')) \n",
    "if age >= 18:\n",
    "    print('you can vote') \n",
    "else:\n",
    "    print('you cannot vote')"
   ]
  },
  {
   "cell_type": "code",
   "execution_count": 59,
   "id": "d9540eed-51e1-4881-976c-ad8a9b094209",
   "metadata": {},
   "outputs": [
    {
     "name": "stdin",
     "output_type": "stream",
     "text": [
      "enter a num between 1and 7:  6\n"
     ]
    },
    {
     "name": "stdout",
     "output_type": "stream",
     "text": [
      "Friday\n"
     ]
    }
   ],
   "source": [
    "day = int(input('enter a num between 1and 7: ')) \n",
    "if day == 1:\n",
    "    print(\"Sunday\") \n",
    "elif day == 2: \n",
    "    print(\"Monday\") \n",
    "elif day == 3: \n",
    "    print(\"Tuesday\") \n",
    "elif day == 4: \n",
    "    print(\"Wednesday\") \n",
    "elif day == 5: \n",
    "    print(\"Thursday\") \n",
    "elif day == 6: \n",
    "    print(\"Friday\") \n",
    "elif day == 7: \n",
    "    print(\"Saturday\") \n",
    "else:\n",
    "    print('invalid input..!')"
   ]
  },
  {
   "cell_type": "code",
   "execution_count": 67,
   "id": "c891637c-ba82-4e6f-a13c-4c21fbb683ae",
   "metadata": {},
   "outputs": [
    {
     "name": "stdout",
     "output_type": "stream",
     "text": [
      "120\n"
     ]
    }
   ],
   "source": [
    "number = (n)\n",
    "if n == 0:\n",
    "        return 1 \n",
    "    return n * factorial(n - 1)\n",
    "result = factorial(5) \n",
    "print(result)   "
   ]
  },
  {
   "cell_type": "code",
   "execution_count": 2,
   "id": "67022c3c-bc65-4abb-b0aa-c47ed9c48042",
   "metadata": {},
   "outputs": [
    {
     "name": "stdout",
     "output_type": "stream",
     "text": [
      "501\n"
     ]
    }
   ],
   "source": [
    "number1 = 123 \n",
    "number2 = 456 \n",
    "number3 = 78 \n",
    "addition_result = number1 + number2 \n",
    "final_result = addition_result - number3 \n",
    "print(final_result)"
   ]
  },
  {
   "cell_type": "code",
   "execution_count": 4,
   "id": "8564c986-af1b-4e05-80ff-bcad53d376b8",
   "metadata": {},
   "outputs": [
    {
     "name": "stdout",
     "output_type": "stream",
     "text": [
      "1000\n"
     ]
    }
   ],
   "source": [
    "number1 = 25 \n",
    "number2 = 40 \n",
    "result = number1 * number2 \n",
    "print(result)"
   ]
  },
  {
   "cell_type": "code",
   "execution_count": 6,
   "id": "ead07bf7-89de-4eb5-ab2f-b39f3b8c1e04",
   "metadata": {},
   "outputs": [
    {
     "name": "stdout",
     "output_type": "stream",
     "text": [
      "62.5\n"
     ]
    }
   ],
   "source": [
    "number1 = 500 \n",
    "number2 = 8 \n",
    "result = number1 / number2 \n",
    "print(result)"
   ]
  },
  {
   "cell_type": "code",
   "execution_count": 8,
   "id": "d0ed7096-a5a7-434d-b705-52a39875ec96",
   "metadata": {},
   "outputs": [
    {
     "name": "stdout",
     "output_type": "stream",
     "text": [
      "9.0\n"
     ]
    }
   ],
   "source": [
    "number1 = 45.6 \n",
    "number2 = 5 \n",
    "result = number1 // number2 \n",
    "print(result)"
   ]
  },
  {
   "cell_type": "code",
   "execution_count": 6,
   "id": "525337f7-d8fd-4975-a011-33444150d869",
   "metadata": {},
   "outputs": [
    {
     "name": "stdout",
     "output_type": "stream",
     "text": [
      "Hello\n"
     ]
    },
    {
     "data": {
      "text/plain": [
       "str"
      ]
     },
     "execution_count": 6,
     "metadata": {},
     "output_type": "execute_result"
    }
   ],
   "source": [
    "S = 'Hello' \n",
    "print(S) \n",
    "type(S)"
   ]
  },
  {
   "cell_type": "code",
   "execution_count": 29,
   "id": "071191b0-9889-494e-b603-0fc3c92f587e",
   "metadata": {},
   "outputs": [
    {
     "name": "stdout",
     "output_type": "stream",
     "text": [
      "ello\n"
     ]
    }
   ],
   "source": [
    "S = 'Hello' \n",
    "second_four = S[1:] \n",
    "print(second_four)"
   ]
  },
  {
   "cell_type": "code",
   "execution_count": 31,
   "id": "b5927178-9e42-4b13-8020-6f334078a962",
   "metadata": {},
   "outputs": [
    {
     "name": "stdout",
     "output_type": "stream",
     "text": [
      "Yellow\n"
     ]
    }
   ],
   "source": [
    "S = 'Y' + S[1:] + 'w' \n",
    "print(S)"
   ]
  },
  {
   "cell_type": "code",
   "execution_count": 39,
   "id": "c53f8f95-cc4e-467b-af60-74aae1b86f3f",
   "metadata": {},
   "outputs": [
    {
     "name": "stdout",
     "output_type": "stream",
     "text": [
      "mahendra\n"
     ]
    },
    {
     "data": {
      "text/plain": [
       "str"
      ]
     },
     "execution_count": 39,
     "metadata": {},
     "output_type": "execute_result"
    }
   ],
   "source": [
    "S = \"mahendra\" \n",
    "print(S) \n",
    "type(S)"
   ]
  },
  {
   "cell_type": "code",
   "execution_count": 45,
   "id": "fe999d19-b5e0-49fb-953f-3b847fa25217",
   "metadata": {},
   "outputs": [
    {
     "name": "stdout",
     "output_type": "stream",
     "text": [
      "endra\n"
     ]
    }
   ],
   "source": [
    "S = \"mahendra\" \n",
    "third = S[3:] \n",
    "print(third)"
   ]
  },
  {
   "cell_type": "code",
   "execution_count": 49,
   "id": "ee996065-93d4-45a3-9939-f99d1e84a4bb",
   "metadata": {},
   "outputs": [
    {
     "name": "stdout",
     "output_type": "stream",
     "text": [
      "Rajendra\n"
     ]
    }
   ],
   "source": [
    "S = 'Raj' + S[3:] \n",
    "print(S)"
   ]
  },
  {
   "cell_type": "code",
   "execution_count": 9,
   "id": "8b62ce2c-70e2-40b4-8b7c-a124b445a48f",
   "metadata": {},
   "outputs": [
    {
     "name": "stdout",
     "output_type": "stream",
     "text": [
      "abcdefghijklmnopqrstuvwxyz\n"
     ]
    }
   ],
   "source": [
    "letters = 'abcdefghijklmnopqrstuvwxyz'\n",
    "print(letters)"
   ]
  },
  {
   "cell_type": "code",
   "execution_count": 85,
   "id": "11adf218-c38a-42c1-b0ce-8fb36ecd1491",
   "metadata": {},
   "outputs": [
    {
     "name": "stdout",
     "output_type": "stream",
     "text": [
      "Rajesh\n"
     ]
    },
    {
     "data": {
      "text/plain": [
       "str"
      ]
     },
     "execution_count": 85,
     "metadata": {},
     "output_type": "execute_result"
    }
   ],
   "source": [
    "name = \"Rajesh\" \n",
    "print(name) \n",
    "type(name)"
   ]
  },
  {
   "cell_type": "code",
   "execution_count": 89,
   "id": "9d617dfe-64a0-4a6d-9917-7f9c9a15b2a2",
   "metadata": {},
   "outputs": [
    {
     "name": "stdout",
     "output_type": "stream",
     "text": [
      "esh\n"
     ]
    }
   ],
   "source": [
    "name = \"Rajesh\" \n",
    "third = name[3:] \n",
    "print(third)"
   ]
  },
  {
   "cell_type": "code",
   "execution_count": 93,
   "id": "c3e4bdcd-5a36-4194-9e68-9b09342a1462",
   "metadata": {},
   "outputs": [
    {
     "name": "stdout",
     "output_type": "stream",
     "text": [
      "Mahesh\n"
     ]
    }
   ],
   "source": [
    "name = 'Mah' + name[3:] \n",
    "print(name)"
   ]
  },
  {
   "cell_type": "code",
   "execution_count": 107,
   "id": "a63b3865-bce4-4c3a-9ae0-d7198a23c84d",
   "metadata": {},
   "outputs": [
    {
     "name": "stdout",
     "output_type": "stream",
     "text": [
      "gear\n"
     ]
    },
    {
     "data": {
      "text/plain": [
       "str"
      ]
     },
     "execution_count": 107,
     "metadata": {},
     "output_type": "execute_result"
    }
   ],
   "source": [
    "s = 'gear' \n",
    "print(s) \n",
    "type(s)"
   ]
  },
  {
   "cell_type": "code",
   "execution_count": 109,
   "id": "93e18e6b-f29b-4178-9bf9-a6cb9b4c88a1",
   "metadata": {},
   "outputs": [
    {
     "name": "stdout",
     "output_type": "stream",
     "text": [
      "ear\n"
     ]
    }
   ],
   "source": [
    "s = 'gear' \n",
    "name = s[1:] \n",
    "print(name)"
   ]
  },
  {
   "cell_type": "code",
   "execution_count": 111,
   "id": "dc7ea672-a35f-49bb-bc26-7cc10b258a24",
   "metadata": {},
   "outputs": [
    {
     "name": "stdout",
     "output_type": "stream",
     "text": [
      "pear\n"
     ]
    }
   ],
   "source": [
    "s = 'p' + s[1:] \n",
    "print(s)"
   ]
  },
  {
   "cell_type": "code",
   "execution_count": 124,
   "id": "8dfee78e-86d3-4793-bf31-45cac94e426a",
   "metadata": {},
   "outputs": [
    {
     "name": "stdout",
     "output_type": "stream",
     "text": [
      "z is largest\n"
     ]
    }
   ],
   "source": [
    "x = 15 \n",
    "y = 20\n",
    "z = 40\n",
    "if x > y:\n",
    "    if x > z:\n",
    "    \n",
    "        print('x is largest') \n",
    "    else:\n",
    "        print ('z is largest') \n",
    "else:\n",
    "    if y > z:\n",
    "        print('y is largest') \n",
    "    else:\n",
    "        print('z is largest')"
   ]
  },
  {
   "cell_type": "code",
   "execution_count": 152,
   "id": "3e539f35-ff9f-4fbf-aa0e-01f63e10b7d7",
   "metadata": {},
   "outputs": [
    {
     "name": "stdout",
     "output_type": "stream",
     "text": [
      "x is largest\n"
     ]
    }
   ],
   "source": [
    "x = 9000\n",
    "y = 800 \n",
    "z = 70 \n",
    "if x > y and x > z:\n",
    "    print('x is largest')\n",
    "elif y > x and y > z: \n",
    "     print('y is largest') \n",
    "else:\n",
    "    print('z is largest')"
   ]
  },
  {
   "cell_type": "markdown",
   "id": "824ddc92-42f3-429b-9386-baba06b27224",
   "metadata": {},
   "source": [
    "# LOOP"
   ]
  },
  {
   "cell_type": "code",
   "execution_count": 159,
   "id": "029fe633-965b-4efd-b93a-4ff380402648",
   "metadata": {},
   "outputs": [
    {
     "name": "stdout",
     "output_type": "stream",
     "text": [
      "4\n",
      "5\n",
      "6\n",
      "7\n",
      "8\n",
      "9\n",
      "10\n",
      "11\n",
      "12\n",
      "13\n",
      "14\n",
      "15\n",
      "16\n",
      "17\n",
      "18\n",
      "19\n",
      "20\n",
      "21\n",
      "22\n",
      "23\n",
      "24\n",
      "25\n",
      "26\n",
      "27\n",
      "28\n",
      "29\n",
      "30\n",
      "31\n",
      "32\n",
      "33\n",
      "34\n",
      "35\n",
      "36\n",
      "37\n",
      "38\n",
      "39\n",
      "40\n",
      "41\n",
      "42\n",
      "43\n"
     ]
    }
   ],
   "source": [
    "n = 4\n",
    "while n < 44 : \n",
    "    print(n) \n",
    "    n += 1"
   ]
  },
  {
   "cell_type": "code",
   "execution_count": 171,
   "id": "ce1a5916-8988-4457-8afe-6e13afb21097",
   "metadata": {},
   "outputs": [
    {
     "name": "stdin",
     "output_type": "stream",
     "text": [
      "enter a number: 9\n"
     ]
    },
    {
     "name": "stdout",
     "output_type": "stream",
     "text": [
      "9\n",
      "18\n",
      "27\n",
      "36\n",
      "45\n",
      "54\n",
      "63\n",
      "72\n",
      "81\n",
      "90\n"
     ]
    }
   ],
   "source": [
    "s = int(input('enter a number:')) \n",
    "n = 1\n",
    "\n",
    "while n <= 10:\n",
    "    print(s*n) \n",
    "    n += 1"
   ]
  },
  {
   "cell_type": "code",
   "execution_count": 169,
   "id": "4ddf95cf-aa17-4a10-977f-52b0a511c007",
   "metadata": {},
   "outputs": [
    {
     "name": "stdin",
     "output_type": "stream",
     "text": [
      "enter a number: 13\n"
     ]
    },
    {
     "name": "stdout",
     "output_type": "stream",
     "text": [
      "13 X 1 = 13\n",
      "13 X 2 = 26\n",
      "13 X 3 = 39\n",
      "13 X 4 = 52\n",
      "13 X 5 = 65\n",
      "13 X 6 = 78\n",
      "13 X 7 = 91\n",
      "13 X 8 = 104\n",
      "13 X 9 = 117\n",
      "13 X 10 = 130\n"
     ]
    }
   ],
   "source": [
    "s = int(input('enter a number:')) \n",
    "n = 1\n",
    "\n",
    "while n <= 10:\n",
    "    print(f'{s} X {n} = {s*n}') \n",
    "    n += 1"
   ]
  },
  {
   "cell_type": "code",
   "execution_count": 179,
   "id": "b5d28928-492e-491a-bea6-96f1ce1531da",
   "metadata": {},
   "outputs": [
    {
     "name": "stdout",
     "output_type": "stream",
     "text": [
      "1\n",
      "4\n",
      "9\n",
      "16\n",
      "25\n",
      "36\n",
      "49\n",
      "64\n",
      "81\n",
      "100\n"
     ]
    }
   ],
   "source": [
    "\n",
    "n = 1\n",
    "\n",
    "while n <= 10:\n",
    "    \n",
    "    print(n**2) \n",
    "    n += 1"
   ]
  },
  {
   "cell_type": "code",
   "execution_count": 184,
   "id": "dbe2fa28-5b99-46ff-ac8c-1ac59ad70065",
   "metadata": {},
   "outputs": [
    {
     "name": "stdout",
     "output_type": "stream",
     "text": [
      "1\n",
      "4\n",
      "27\n",
      "16\n",
      "125\n",
      "36\n",
      "343\n",
      "64\n",
      "729\n",
      "100\n",
      "1331\n",
      "144\n",
      "2197\n",
      "196\n",
      "3375\n",
      "256\n",
      "4913\n",
      "324\n",
      "6859\n",
      "400\n",
      "9261\n",
      "484\n",
      "12167\n",
      "576\n",
      "15625\n",
      "676\n",
      "19683\n",
      "784\n",
      "24389\n",
      "900\n",
      "29791\n",
      "1024\n",
      "35937\n",
      "1156\n",
      "42875\n",
      "1296\n",
      "50653\n",
      "1444\n",
      "59319\n",
      "1600\n",
      "68921\n",
      "1764\n",
      "79507\n",
      "1936\n",
      "91125\n",
      "2116\n",
      "103823\n",
      "2304\n",
      "117649\n",
      "2500\n"
     ]
    }
   ],
   "source": [
    "n = 1\n",
    "\n",
    "while n <= 50:\n",
    "    if n % 2 == 0: \n",
    "        print(n ** 2) \n",
    "    else:\n",
    "        print(n ** 3) \n",
    "    n +=1"
   ]
  },
  {
   "cell_type": "code",
   "execution_count": 194,
   "id": "4e9f9e7f-d68f-4c7c-8eb1-c74382836436",
   "metadata": {},
   "outputs": [
    {
     "name": "stdin",
     "output_type": "stream",
     "text": [
      "enter a number 2\n"
     ]
    },
    {
     "name": "stdout",
     "output_type": "stream",
     "text": [
      "2\n",
      "4\n",
      "6\n",
      "8\n",
      "10\n",
      "12\n",
      "14\n",
      "16\n",
      "18\n",
      "20\n",
      "22\n",
      "24\n",
      "26\n",
      "28\n",
      "30\n",
      "32\n",
      "34\n",
      "36\n",
      "38\n"
     ]
    }
   ],
   "source": [
    "i = int(input('enter a number')) \n",
    "for n in range(1, 20):\n",
    "    print(n * i)"
   ]
  },
  {
   "cell_type": "code",
   "execution_count": 206,
   "id": "d3cc2a07-14e7-4d11-a40c-729af59544a9",
   "metadata": {},
   "outputs": [
    {
     "name": "stdout",
     "output_type": "stream",
     "text": [
      "d\n",
      "t\n",
      "y\n"
     ]
    }
   ],
   "source": [
    "name = 'aditya' \n",
    "vowel = ['a','e','i','o','u'] \n",
    "for a in name: \n",
    "    if a not in vowel: \n",
    "        print(a)"
   ]
  },
  {
   "cell_type": "code",
   "execution_count": 230,
   "id": "f2f3216e-497e-4033-8820-5fc4f73a0b60",
   "metadata": {},
   "outputs": [
    {
     "name": "stdout",
     "output_type": "stream",
     "text": [
      "[2]\n",
      "[2, 4]\n",
      "[2, 4, 6]\n",
      "[2, 4, 6, 8]\n",
      "[2, 4, 6, 8, 10]\n",
      "[2, 4, 6, 8, 10, 12]\n",
      "[2, 4, 6, 8, 10, 12, 14]\n",
      "[2, 4, 6, 8, 10, 12, 14, 16]\n",
      "[2, 4, 6, 8, 10, 12, 14, 16, 18]\n",
      "[2, 4, 6, 8, 10, 12, 14, 16, 18, 20]\n"
     ]
    }
   ],
   "source": [
    "b = [1,2,3,4,5,6,7,8,9,10,11,12,13,14,15,16,17,18,19,20] \n",
    "a = []\n",
    "for i in range(1,len(b),2): \n",
    "    a.append(b[i]) \n",
    "    print(a)"
   ]
  },
  {
   "cell_type": "code",
   "execution_count": 232,
   "id": "1620fcbe-a2bc-49c1-a3c3-9199ff8b9045",
   "metadata": {},
   "outputs": [
    {
     "data": {
      "text/plain": [
       "[7, 5, 15]"
      ]
     },
     "execution_count": 232,
     "metadata": {},
     "output_type": "execute_result"
    }
   ],
   "source": [
    "a = [2,5,4,1,6,9] \n",
    "b = [] \n",
    "\n",
    "for i in range(0,len(a),2):\n",
    "    b.append(a[i] + a[i+1]) \n",
    "b"
   ]
  },
  {
   "cell_type": "code",
   "execution_count": null,
   "id": "07d236ca-ba0a-4034-97fc-46d010145ea3",
   "metadata": {},
   "outputs": [],
   "source": []
  }
 ],
 "metadata": {
  "kernelspec": {
   "display_name": "Python 3 (ipykernel)",
   "language": "python",
   "name": "python3"
  },
  "language_info": {
   "codemirror_mode": {
    "name": "ipython",
    "version": 3
   },
   "file_extension": ".py",
   "mimetype": "text/x-python",
   "name": "python",
   "nbconvert_exporter": "python",
   "pygments_lexer": "ipython3",
   "version": "3.12.7"
  }
 },
 "nbformat": 4,
 "nbformat_minor": 5
}
