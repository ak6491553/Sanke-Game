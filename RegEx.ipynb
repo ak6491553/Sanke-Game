{
 "cells": [
  {
   "cell_type": "code",
   "execution_count": 14,
   "id": "6788b061-a737-42b8-a974-fdc357568131",
   "metadata": {},
   "outputs": [
    {
     "name": "stdout",
     "output_type": "stream",
     "text": [
      "Match found: 123\n"
     ]
    }
   ],
   "source": [
    "import re\n",
    "\n",
    "pattern = r'\\d+'\n",
    "string = '123 abc'\n",
    "match = re.match(pattern, string)\n",
    "if match:\n",
    "    print(\"Match found:\", match.group()) \n",
    "else:\n",
    "    print(\"No match\")"
   ]
  },
  {
   "cell_type": "code",
   "execution_count": 20,
   "id": "16a7c21b-928e-4792-b08c-e028e6ccf498",
   "metadata": {},
   "outputs": [
    {
     "name": "stdout",
     "output_type": "stream",
     "text": [
      "Match found: 123456\n"
     ]
    }
   ],
   "source": [
    "import re\n",
    "\n",
    "pattern = r'\\d+'\n",
    "string = '123456 rftggjhuklo  kjhgbnm,'\n",
    "match = re.match(pattern, string)\n",
    "if match:\n",
    "    print(\"Match found:\", match.group())\n",
    "else:\n",
    "    print(\"No match\")"
   ]
  },
  {
   "cell_type": "code",
   "execution_count": 52,
   "id": "a34cf216-a5ef-432f-9213-4b1bdf7b6925",
   "metadata": {},
   "outputs": [
    {
     "name": "stdout",
     "output_type": "stream",
     "text": [
      "match: No match found.\n"
     ]
    }
   ],
   "source": [
    "import re \n",
    "\n",
    "text = '''The Python is my favourite language.\n",
    "The AI world is dependent on Python\n",
    "To train ML Models we use Python.\n",
    "Rain go away.'''\n",
    "\n",
    "\n",
    "match = re.match(r\"Python\", text)\n",
    "print(\"match:\", match.group() if match else \"No match found.\")\n"
   ]
  },
  {
   "cell_type": "code",
   "execution_count": 54,
   "id": "63b36b0f-d070-4f8c-a732-31459254e8cc",
   "metadata": {},
   "outputs": [
    {
     "name": "stdout",
     "output_type": "stream",
     "text": [
      "Search: The\n"
     ]
    }
   ],
   "source": [
    "match = re.search(r\"The\", text)\n",
    "print(\"Search:\", match.group() if match else \"No match found.\")"
   ]
  },
  {
   "cell_type": "code",
   "execution_count": 56,
   "id": "920432a8-bdd1-4cf6-87d5-0dd6dc7a82aa",
   "metadata": {},
   "outputs": [
    {
     "name": "stdout",
     "output_type": "stream",
     "text": [
      "findall: ['ain', 'ain']\n"
     ]
    }
   ],
   "source": [
    "matches = re.findall(r\"ain\", text)\n",
    "print(\"findall:\", matches)"
   ]
  },
  {
   "cell_type": "code",
   "execution_count": 58,
   "id": "8ef3cd56-ab3e-4389-ac62-95c38e7a38d7",
   "metadata": {},
   "outputs": [
    {
     "name": "stdout",
     "output_type": "stream",
     "text": [
      "finditer: ain at index 78\n",
      "finditer: ain at index 108\n"
     ]
    }
   ],
   "source": [
    "matches = re.finditer(r\"ain\", text)\n",
    "for match in matches:\n",
    "    print(\"finditer:\", match.group(), \"at index\", match.start())"
   ]
  },
  {
   "cell_type": "code",
   "execution_count": 60,
   "id": "ee23b21d-1346-4816-b3d9-30ed80dcc9b5",
   "metadata": {},
   "outputs": [
    {
     "name": "stdout",
     "output_type": "stream",
     "text": [
      "Sub: The Python is my favourite language.\n",
      "The AI world is dependent on Python\n",
      "To trXXX ML Models we use Python.\n",
      "RXXX go away.\n"
     ]
    }
   ],
   "source": [
    "new_text = re.sub(r\"ain\", \"XXX\", text)\n",
    "print(\"Sub:\", new_text)"
   ]
  },
  {
   "cell_type": "code",
   "execution_count": 50,
   "id": "effa9f69-1001-485b-8e67-3bc1131ba653",
   "metadata": {},
   "outputs": [
    {
     "name": "stdout",
     "output_type": "stream",
     "text": [
      "Split: ['apple', ' banana', ' cherry', ' date']\n"
     ]
    }
   ],
   "source": [
    "fruits_text = \"apple, banana, cherry, date\"\n",
    "fruits = re.split(r\",\", fruits_text)\n",
    "print(\"Split:\", fruits)"
   ]
  },
  {
   "cell_type": "code",
   "execution_count": 62,
   "id": "3b65299d-b3c3-4290-b0ac-3aac1f7b4116",
   "metadata": {},
   "outputs": [
    {
     "data": {
      "text/plain": [
       "['apple', ' banana', ' cherry', ' date']"
      ]
     },
     "execution_count": 62,
     "metadata": {},
     "output_type": "execute_result"
    }
   ],
   "source": [
    "fruits_text.split(',')"
   ]
  },
  {
   "cell_type": "markdown",
   "id": "c71d8378-f7a1-4005-9873-d3ab15610c89",
   "metadata": {},
   "source": [
    "# LAB \"57\""
   ]
  },
  {
   "cell_type": "code",
   "execution_count": 73,
   "id": "854cdddf-e5d1-4c40-a7fe-1e6544d76c87",
   "metadata": {},
   "outputs": [],
   "source": [
    "# 1. Dot (.)\n",
    "import re\n",
    "def demonstrate_metacharacters():\n",
    "    # Sample text for demonstration\n",
    "    sample_text = \"\"\"\n",
    "    The quick brown fox jumps over the lazy dog.\n",
    "    Foxes are wild animals. The dog quickly ran away.\n",
    "    My email is example@example.com and my number is (123) 456-7890.\n",
    "    \"\"\"\n",
    "    \n",
    "    \n",
    "\n",
    "\n",
    "\n"
   ]
  },
  {
   "cell_type": "code",
   "execution_count": 75,
   "id": "8b9c8ad5-4d34-4f22-b131-f9b6fb732963",
   "metadata": {},
   "outputs": [],
   "source": [
    "sample_text = \"\"\"\n",
    "    The quick brown fox jumps over the lazy dog.\n",
    "    Foxes are wild animals. The dog quickly ran away.\n",
    "    My email is example@example.com and my number is (123) 456-7890.\n",
    "    \"\"\""
   ]
  },
  {
   "cell_type": "code",
   "execution_count": 81,
   "id": "df6db4f3-6a7f-4872-acab-8507cb283fa5",
   "metadata": {},
   "outputs": [
    {
     "name": "stdout",
     "output_type": "stream",
     "text": [
      "Dot (.) Pattern The .quick: []\n"
     ]
    }
   ],
   "source": [
    "dot_pattern = r'The .quick'\n",
    "print(f\"Dot (.) Pattern {dot_pattern}:\", re.findall(dot_pattern, sample_text))"
   ]
  },
  {
   "cell_type": "code",
   "execution_count": 83,
   "id": "88a0e5cd-1bb4-432a-b2ed-0e9ebbe3455a",
   "metadata": {},
   "outputs": [
    {
     "name": "stdout",
     "output_type": "stream",
     "text": [
      "Start of string (^) Pattern ^The : None\n",
      "Start of string ($) Pattern dog.$ : None\n"
     ]
    }
   ],
   "source": [
    "caret_pattern = r'^The'\n",
    "dollar_pattern = r'dog.$'\n",
    "print(f\"Start of string (^) Pattern {caret_pattern} :\", re.match(caret_pattern, sample_text))\n",
    "print(f\"Start of string ($) Pattern {dollar_pattern} :\", re.search(dollar_pattern, sample_text))"
   ]
  },
  {
   "cell_type": "code",
   "execution_count": 85,
   "id": "1435dc15-dd26-44f9-b41e-62cb052b12f9",
   "metadata": {},
   "outputs": [
    {
     "name": "stdout",
     "output_type": "stream",
     "text": [
      "Asterisk (*) Pattern fox* : ['fox']\n",
      "plus (+) Pattern fox+ : ['fox']\n"
     ]
    }
   ],
   "source": [
    "asterisk_pattern = r'fox*'\n",
    "plus_pattern = r'fox+'\n",
    "print(f\"Asterisk (*) Pattern {asterisk_pattern} :\", re.findall(asterisk_pattern, sample_text))\n",
    "print(f\"plus (+) Pattern {plus_pattern} :\", re.findall(plus_pattern, sample_text))"
   ]
  },
  {
   "cell_type": "code",
   "execution_count": 87,
   "id": "8f9d6436-6e3d-4e71-b37c-6d847e1afbc4",
   "metadata": {},
   "outputs": [
    {
     "name": "stdout",
     "output_type": "stream",
     "text": [
      "Question Mark (?) Pattern fox? : ['fox']\n"
     ]
    }
   ],
   "source": [
    "question_pattern = r'fox?'\n",
    "print(f\"Question Mark (?) Pattern {question_pattern} :\", re.findall(question_pattern, sample_text))"
   ]
  },
  {
   "cell_type": "code",
   "execution_count": 89,
   "id": "d79cb37c-6b0a-4c72-9878-b7dda0999c24",
   "metadata": {},
   "outputs": [
    {
     "name": "stdout",
     "output_type": "stream",
     "text": [
      "Braces  ({}) Pattern fo{2} : []\n"
     ]
    }
   ],
   "source": [
    "braces_Pattern = r'fo{2}'\n",
    "print(f\"Braces  ({{}}) Pattern {braces_Pattern} :\", re.findall(braces_Pattern, sample_text))\n",
    "\n"
   ]
  },
  {
   "cell_type": "code",
   "execution_count": 91,
   "id": "5d418a1b-a960-46c0-bb9c-1b4167a98e54",
   "metadata": {},
   "outputs": [
    {
     "name": "stdout",
     "output_type": "stream",
     "text": [
      "Square_brackets  ([]) Pattern [Ff]ox : ['fox', 'Fox']\n"
     ]
    }
   ],
   "source": [
    "square_brackets_pattern = r'[Ff]ox'\n",
    "print(f\"Square_brackets  ([]) Pattern {square_brackets_pattern} :\", re.findall(square_brackets_pattern, sample_text))\n"
   ]
  },
  {
   "cell_type": "code",
   "execution_count": 93,
   "id": "95cab976-d07b-4599-ae0d-e9a2ecf4f51f",
   "metadata": {},
   "outputs": [
    {
     "name": "stdout",
     "output_type": "stream",
     "text": [
      "Pipe  (|) Pattern fox|dog : ['fox', 'dog', 'dog']\n"
     ]
    }
   ],
   "source": [
    "pipe_pattern = r'fox|dog'\n",
    "print(f\"Pipe  (|) Pattern {pipe_pattern} :\", re.findall(pipe_pattern, sample_text))\n"
   ]
  },
  {
   "cell_type": "code",
   "execution_count": 95,
   "id": "ad21cbfd-491c-4e6a-bc03-529c436282c1",
   "metadata": {},
   "outputs": [
    {
     "name": "stdout",
     "output_type": "stream",
     "text": [
      "Backslash  (\\) Pattern \\. : ['.', '.', '.', '.', '.']\n"
     ]
    }
   ],
   "source": [
    "backslash_pattern = r'\\.'\n",
    "print(f\"Backslash  (\\\\) Pattern {backslash_pattern} :\", re.findall(backslash_pattern, sample_text))\n"
   ]
  },
  {
   "cell_type": "code",
   "execution_count": 99,
   "id": "6490ae8a-1458-45eb-bf71-719701244ae6",
   "metadata": {},
   "outputs": [
    {
     "name": "stdout",
     "output_type": "stream",
     "text": [
      "Email Pattern \\b\\w+@\\w+\\.w+\\b : []\n",
      "Phone Pattern \\(\\d{3}\\) \\d{3}-\\d{4} : ['(123) 456-7890']\n"
     ]
    }
   ],
   "source": [
    "email_pattern = r'\\b\\w+@\\w+\\.w+\\b'\n",
    "phone_pattern = r'\\(\\d{3}\\) \\d{3}-\\d{4}'\n",
    "print(f\"Email Pattern {email_pattern} :\", re.findall(email_pattern, sample_text))\n",
    "print(f\"Phone Pattern {phone_pattern} :\", re.findall(phone_pattern, sample_text))\n"
   ]
  },
  {
   "cell_type": "markdown",
   "id": "a4ab9570-3fda-41b3-85f6-d001e9dee618",
   "metadata": {},
   "source": [
    "# lab'58'"
   ]
  },
  {
   "cell_type": "code",
   "execution_count": 102,
   "id": "c06489f1-bf42-474b-ab69-c63796baa1cf",
   "metadata": {},
   "outputs": [],
   "source": [
    "import re\n",
    "def demonstrate_special_sequences():\n",
    "    # Sample text for demonstration\n",
    "    sample_text = \"\"\"\n",
    "    The quick brown fox jumps over the lazy dog.\n",
    "    Foxes are wild animals. The dog quickly ran away.\n",
    "    My email is example@example.com and my number is (123) 456-7890.\n",
    "    Visit us at www.example.com or conect us at info@example.com.\n",
    "    \"\"\""
   ]
  },
  {
   "cell_type": "code",
   "execution_count": 104,
   "id": "7889422b-2880-42b3-a46b-cac89364f215",
   "metadata": {},
   "outputs": [],
   "source": [
    "sample_text = \"\"\"\n",
    "    The quick brown fox jumps over the lazy dog.\n",
    "    Foxes are wild animals. The dog quickly ran away.\n",
    "    My email is example@example.com and my number is (123) 456-7890.\n",
    "    Visit us at www.example.com or conect us at info@example.com.\n",
    "    \"\"\""
   ]
  },
  {
   "cell_type": "code",
   "execution_count": 108,
   "id": "d2909f70-6749-4da0-9b4e-89863d296953",
   "metadata": {},
   "outputs": [
    {
     "name": "stdout",
     "output_type": "stream",
     "text": [
      "Digits (\\d) pattern '\\d+': ['123', '456', '7890']\n"
     ]
    }
   ],
   "source": [
    "digit_pattern = r'\\d+'\n",
    "print(f\"Digits (\\\\d) pattern '{digit_pattern}':\", re.findall(digit_pattern, sample_text))"
   ]
  },
  {
   "cell_type": "code",
   "execution_count": 140,
   "id": "f46d53d5-245f-4366-a498-fe183ae183b4",
   "metadata": {},
   "outputs": [
    {
     "name": "stdout",
     "output_type": "stream",
     "text": [
      "Non_Digits (\\d) Pattern '\\D+': ['\\n    The quick brown fox jumps over the lazy dog.\\n    Foxes are wild animals. The dog quickly ran away.\\n    My email is example@example.com and my number is (', ') ', '-', '.\\n    Visit us at www.example.com or conect us at info@example.com.\\n    ']\n"
     ]
    }
   ],
   "source": [
    "non_digit_pattern = r'\\D+'\n",
    "print(f\"Non_Digits (\\\\d) Pattern '{non_digit_pattern}':\", re.findall(non_digit_pattern, sample_text))"
   ]
  },
  {
   "cell_type": "code",
   "execution_count": 112,
   "id": "0b2b6e9c-148c-4170-9a05-68f2ceb8245d",
   "metadata": {},
   "outputs": [
    {
     "name": "stdout",
     "output_type": "stream",
     "text": [
      "Word characters (\\w) Pattern '\\w+': ['The', 'quick', 'brown', 'fox', 'jumps', 'over', 'the', 'lazy', 'dog', 'Foxes', 'are', 'wild', 'animals', 'The', 'dog', 'quickly', 'ran', 'away', 'My', 'email', 'is', 'example', 'example', 'com', 'and', 'my', 'number', 'is', '123', '456', '7890', 'Visit', 'us', 'at', 'www', 'example', 'com', 'or', 'conect', 'us', 'at', 'info', 'example', 'com']\n"
     ]
    }
   ],
   "source": [
    "word_char_pattern = r'\\w+'\n",
    "print(f\"Word characters (\\\\w) Pattern '{word_char_pattern}':\", re.findall(word_char_pattern, sample_text))"
   ]
  },
  {
   "cell_type": "code",
   "execution_count": 134,
   "id": "e914e7d5-5d92-4aaa-af45-d7028fea777d",
   "metadata": {},
   "outputs": [
    {
     "name": "stdout",
     "output_type": "stream",
     "text": [
      "Non-Word characters (\\W) Pattern '\\W+': ['\\n    ', ' ', ' ', ' ', ' ', ' ', ' ', ' ', ' ', '.\\n    ', ' ', ' ', ' ', '. ', ' ', ' ', ' ', ' ', '.\\n    ', ' ', ' ', ' ', '@', '.', ' ', ' ', ' ', ' ', ' (', ') ', '-', '.\\n    ', ' ', ' ', ' ', '.', '.', ' ', ' ', ' ', ' ', ' ', '@', '.', '.\\n    ']\n"
     ]
    }
   ],
   "source": [
    "non_word_char_pattern = r'\\W+'\n",
    "print(f\"Non-Word characters (\\\\W) Pattern '{non_word_char_pattern}':\", re.findall(non_word_char_pattern, sample_text))"
   ]
  },
  {
   "cell_type": "code",
   "execution_count": 116,
   "id": "6a3f4a8a-68d7-4c7d-bb43-523864d3010e",
   "metadata": {},
   "outputs": [
    {
     "name": "stdout",
     "output_type": "stream",
     "text": [
      "Whitespace (\\s) Pattern '\\s+': ['\\n    ', ' ', ' ', ' ', ' ', ' ', ' ', ' ', ' ', '\\n    ', ' ', ' ', ' ', ' ', ' ', ' ', ' ', ' ', '\\n    ', ' ', ' ', ' ', ' ', ' ', ' ', ' ', ' ', ' ', '\\n    ', ' ', ' ', ' ', ' ', ' ', ' ', ' ', ' ', '\\n    ']\n"
     ]
    }
   ],
   "source": [
    "whitespace_pattern = r'\\s+'\n",
    "print(f\"Whitespace (\\\\s) Pattern '{whitespace_pattern}':\", re.findall(whitespace_pattern, sample_text))"
   ]
  },
  {
   "cell_type": "code",
   "execution_count": 138,
   "id": "a3911814-3115-4bb1-a612-e4d6f51bf360",
   "metadata": {},
   "outputs": [
    {
     "name": "stdout",
     "output_type": "stream",
     "text": [
      "Non-Whitespace (\\S) Pattern '\\S+': ['The', 'quick', 'brown', 'fox', 'jumps', 'over', 'the', 'lazy', 'dog.', 'Foxes', 'are', 'wild', 'animals.', 'The', 'dog', 'quickly', 'ran', 'away.', 'My', 'email', 'is', 'example@example.com', 'and', 'my', 'number', 'is', '(123)', '456-7890.', 'Visit', 'us', 'at', 'www.example.com', 'or', 'conect', 'us', 'at', 'info@example.com.']\n"
     ]
    }
   ],
   "source": [
    "non_whitespace_pattern = r'\\S+'\n",
    "print(f\"Non-Whitespace (\\\\S) Pattern '{non_whitespace_pattern}':\", re.findall(non_whitespace_pattern, sample_text))"
   ]
  },
  {
   "cell_type": "code",
   "execution_count": 128,
   "id": "9c6e9b02-35ad-45a0-b899-7cff7a6203a9",
   "metadata": {},
   "outputs": [
    {
     "name": "stdout",
     "output_type": "stream",
     "text": [
      "Word boundary (\\b) Pattern '\\bfox\\b': ['fox']\n"
     ]
    }
   ],
   "source": [
    "word_bounndary_pattern = r'\\bfox\\b'\n",
    "print(f\"Word boundary (\\\\b) Pattern '{word_bounndary_pattern}':\", re.findall(word_bounndary_pattern, sample_text))"
   ]
  },
  {
   "cell_type": "code",
   "execution_count": 148,
   "id": "e01dfab3-98b8-4479-b563-a0aebc3da4ce",
   "metadata": {},
   "outputs": [
    {
     "name": "stdout",
     "output_type": "stream",
     "text": [
      "Non-Word boundary (\\B) Pattern 'quick\\B': ['quick']\n"
     ]
    }
   ],
   "source": [
    "non_word_bounndary_pattern = r'quick\\B'\n",
    "print(f\"Non-Word boundary (\\\\B) Pattern '{non_word_bounndary_pattern}':\", re.findall(non_word_bounndary_pattern, sample_text))"
   ]
  },
  {
   "cell_type": "code",
   "execution_count": 150,
   "id": "019517a6-0ff4-4d3a-b4aa-87d4bbfb5c6a",
   "metadata": {},
   "outputs": [],
   "source": [
    "def main():\n",
    "    demonstrate_special_sequences()\n",
    "\n",
    "if __name__ == \"__main__\":\n",
    "    main()\n",
    "    \n",
    "    "
   ]
  },
  {
   "cell_type": "code",
   "execution_count": 35,
   "id": "3846b195-d4b0-4aee-aa4c-00995a7d56ba",
   "metadata": {},
   "outputs": [
    {
     "name": "stdout",
     "output_type": "stream",
     "text": [
      "4\n"
     ]
    }
   ],
   "source": [
    "def fun(x):\n",
    "    x += 1\n",
    "    return x\n",
    "\n",
    "\n",
    "x = 2\n",
    "x = fun(x + 1)\n",
    "print(x)\n",
    "\n"
   ]
  },
  {
   "cell_type": "code",
   "execution_count": 37,
   "id": "89aba6a1-45da-4221-b0cc-e360bfc0816f",
   "metadata": {},
   "outputs": [
    {
     "ename": "TypeError",
     "evalue": "func() missing 1 required positional argument: 'b'",
     "output_type": "error",
     "traceback": [
      "\u001b[1;31m---------------------------------------------------------------------------\u001b[0m",
      "\u001b[1;31mTypeError\u001b[0m                                 Traceback (most recent call last)",
      "Cell \u001b[1;32mIn[37], line 5\u001b[0m\n\u001b[0;32m      1\u001b[0m \u001b[38;5;28;01mdef\u001b[39;00m \u001b[38;5;21mfunc\u001b[39m(a, b):\n\u001b[0;32m      2\u001b[0m     \u001b[38;5;28;01mreturn\u001b[39;00m a \u001b[38;5;241m*\u001b[39m\u001b[38;5;241m*\u001b[39m a\n\u001b[1;32m----> 5\u001b[0m \u001b[38;5;28mprint\u001b[39m(func(\u001b[38;5;241m2\u001b[39m))\n",
      "\u001b[1;31mTypeError\u001b[0m: func() missing 1 required positional argument: 'b'"
     ]
    }
   ],
   "source": [
    "def func(a, b):\n",
    "    return a ** a\n",
    "\n",
    "\n",
    "print(func(2))\n",
    "\n"
   ]
  },
  {
   "cell_type": "code",
   "execution_count": 39,
   "id": "01b547cd-d8ed-47bb-b577-47c87775ee12",
   "metadata": {},
   "outputs": [
    {
     "name": "stdout",
     "output_type": "stream",
     "text": [
      "21\n"
     ]
    }
   ],
   "source": [
    "def any():\n",
    "    print(var + 1, end='')\n",
    "\n",
    "\n",
    "var = 1\n",
    "any()\n",
    "print(var)\n",
    "\n"
   ]
  },
  {
   "cell_type": "code",
   "execution_count": 41,
   "id": "21e4da43-44fd-474c-ac4d-5c651d68bcf7",
   "metadata": {},
   "outputs": [
    {
     "name": "stdout",
     "output_type": "stream",
     "text": [
      "two\n"
     ]
    }
   ],
   "source": [
    "dictionary = {'one': 'two', 'three': 'one', 'two': 'three'}\n",
    "v = dictionary['one']\n",
    "\n",
    "for k in range(len(dictionary)):\n",
    "    v = dictionary[v]\n",
    "\n",
    "print(v)\n",
    "\n"
   ]
  },
  {
   "cell_type": "code",
   "execution_count": null,
   "id": "272e746f-59f4-45d1-a69a-6fe085928f76",
   "metadata": {},
   "outputs": [],
   "source": []
  }
 ],
 "metadata": {
  "kernelspec": {
   "display_name": "Python 3 (ipykernel)",
   "language": "python",
   "name": "python3"
  },
  "language_info": {
   "codemirror_mode": {
    "name": "ipython",
    "version": 3
   },
   "file_extension": ".py",
   "mimetype": "text/x-python",
   "name": "python",
   "nbconvert_exporter": "python",
   "pygments_lexer": "ipython3",
   "version": "3.12.7"
  }
 },
 "nbformat": 4,
 "nbformat_minor": 5
}
